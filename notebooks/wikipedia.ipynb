{
 "cells": [
  {
   "cell_type": "code",
   "execution_count": 1,
   "metadata": {},
   "outputs": [],
   "source": [
    "from datasets import load_dataset"
   ]
  },
  {
   "cell_type": "code",
   "execution_count": 2,
   "metadata": {},
   "outputs": [],
   "source": [
    "from babydragon.memory.indexes.memory_index import MemoryIndex\n"
   ]
  },
  {
   "cell_type": "code",
   "execution_count": 3,
   "metadata": {},
   "outputs": [
    {
     "name": "stderr",
     "output_type": "stream",
     "text": [
      "Found cached dataset parquet (C:/Users/Tommaso/.cache/huggingface/datasets/Cohere___parquet/Cohere--wikipedia-22-12-simple-embeddings-94deea3d55a22093/0.0.0/2a3b91fbd88a2c90d1dbbb32b460cf621d31bd5b05b934492fdef7d8d6f236ec)\n"
     ]
    },
    {
     "data": {
      "application/vnd.jupyter.widget-view+json": {
       "model_id": "c0442c94bc9540e68b3b7e57dfbc9743",
       "version_major": 2,
       "version_minor": 0
      },
      "text/plain": [
       "  0%|          | 0/1 [00:00<?, ?it/s]"
      ]
     },
     "metadata": {},
     "output_type": "display_data"
    }
   ],
   "source": [
    "dataset_url = \"Cohere/wikipedia-22-12-simple-embeddings\"\n",
    "dataset = load_dataset(dataset_url)['train'] "
   ]
  },
  {
   "cell_type": "code",
   "execution_count": 4,
   "metadata": {},
   "outputs": [
    {
     "data": {
      "text/plain": [
       "['id',\n",
       " 'title',\n",
       " 'text',\n",
       " 'url',\n",
       " 'wiki_id',\n",
       " 'views',\n",
       " 'paragraph_id',\n",
       " 'langs',\n",
       " 'emb']"
      ]
     },
     "execution_count": 4,
     "metadata": {},
     "output_type": "execute_result"
    }
   ],
   "source": [
    "dataset.column_names"
   ]
  },
  {
   "cell_type": "code",
   "execution_count": 5,
   "metadata": {},
   "outputs": [],
   "source": [
    "values = dataset.select_columns(['text'])\n"
   ]
  },
  {
   "cell_type": "code",
   "execution_count": 6,
   "metadata": {},
   "outputs": [
    {
     "data": {
      "text/plain": [
       "'The 24-hour clock is a way of telling the time in which the day runs from midnight to midnight and is divided into 24 hours, numbered from 0 to 23. It does not use a.m. or p.m. This system is also referred to (only in the US and the English speaking parts of Canada) as military time or (only in the United Kingdom and now very rarely) as continental time. In some parts of the world, it is called railway time. Also, the international standard notation of time (ISO 8601) is based on this format.'"
      ]
     },
     "execution_count": 6,
     "metadata": {},
     "output_type": "execute_result"
    }
   ],
   "source": [
    "values[0]['text']"
   ]
  },
  {
   "cell_type": "code",
   "execution_count": 7,
   "metadata": {},
   "outputs": [
    {
     "name": "stderr",
     "output_type": "stream",
     "text": [
      "Loading cached processed dataset at C:\\Users\\Tommaso\\.cache\\huggingface\\datasets\\Cohere___parquet\\Cohere--wikipedia-22-12-simple-embeddings-94deea3d55a22093\\0.0.0\\2a3b91fbd88a2c90d1dbbb32b460cf621d31bd5b05b934492fdef7d8d6f236ec\\cache-eb8b46c02b8c3b22.arrow\n"
     ]
    }
   ],
   "source": [
    "def concat_columns(example):\n",
    "    column1='title'\n",
    "    column2='text'\n",
    "    example['merged_column'] = example[column1] + example[column2]\n",
    "    return example\n",
    "\n",
    "# Apply the concatenation function to the dataset\n",
    "merged_docs = dataset.map(concat_columns)"
   ]
  },
  {
   "cell_type": "code",
   "execution_count": 8,
   "metadata": {},
   "outputs": [
    {
     "data": {
      "text/plain": [
       "['id',\n",
       " 'title',\n",
       " 'text',\n",
       " 'url',\n",
       " 'wiki_id',\n",
       " 'views',\n",
       " 'paragraph_id',\n",
       " 'langs',\n",
       " 'emb',\n",
       " 'merged_column']"
      ]
     },
     "execution_count": 8,
     "metadata": {},
     "output_type": "execute_result"
    }
   ],
   "source": [
    "merged_docs.column_names"
   ]
  },
  {
   "cell_type": "code",
   "execution_count": 9,
   "metadata": {},
   "outputs": [],
   "source": [
    "values = merged_docs.select_columns(['merged_column'])\n",
    "embeddings = merged_docs.select_columns(['emb'])\n"
   ]
  },
  {
   "cell_type": "code",
   "execution_count": 10,
   "metadata": {},
   "outputs": [],
   "source": [
    "del dataset"
   ]
  },
  {
   "cell_type": "code",
   "execution_count": 11,
   "metadata": {},
   "outputs": [],
   "source": [
    "from babydragon.models.embedders.cohere import CohereEmbedder\n",
    "cohere_embedder = CohereEmbedder()"
   ]
  },
  {
   "cell_type": "code",
   "execution_count": 12,
   "metadata": {},
   "outputs": [
    {
     "data": {
      "text/plain": [
       "768"
      ]
     },
     "execution_count": 12,
     "metadata": {},
     "output_type": "execute_result"
    }
   ],
   "source": [
    "cohere_embedder.get_embedding_size()"
   ]
  },
  {
   "cell_type": "code",
   "execution_count": 13,
   "metadata": {},
   "outputs": [],
   "source": [
    "list_values = list(values['merged_column'][:5005])\n",
    "list_embeddings = list(embeddings['emb'][:5005])"
   ]
  },
  {
   "cell_type": "code",
   "execution_count": 14,
   "metadata": {},
   "outputs": [
    {
     "name": "stdout",
     "output_type": "stream",
     "text": [
      "Creating a new index from a list of embeddings and values\n"
     ]
    }
   ],
   "source": [
    "wiki_index = MemoryIndex(values=list_values,embeddings=list_embeddings, name='wikipedia_cohere_index', embedder=CohereEmbedder)"
   ]
  },
  {
   "cell_type": "code",
   "execution_count": 15,
   "metadata": {},
   "outputs": [
    {
     "data": {
      "text/plain": [
       "(['HinduismThe ultimate goal of life,according to Hinduism is \"moksha\", \"nirvana\" or \"samadhi\", but is understood in different ways in different schools.For example, Advaita Vedanta says that after attaining moksha a person knows their \"soul, self\" and identifies it as one with Brahman (Ultimate reality or cause of everything). The followers of Dvaita (dualistic) schools,state that after attaining moksha a person identify \"soul, self\" different from Brahman but very close to Brahman, and after attaining moksha one will spend eternity in a loka (higher planes). According to theistic schools of Hinduism, moksha is liberation from samsara, while for other schools such as the monistic school, moksha is possible in current life and is a psychological concept.',\n",
       "  'JudaismJews see \"mitzvot\" as acts that sanctify – bring holiness – to the world and bring people and the world closer to God. Jews do the \"mitzvot\" to sanctify the physical world and the things in it, such as food and drink, clothing, and natural activities such as sex, work, or seeing beautiful sights. Before doing many acts, such as eating, Jews say a blessing – a short prayer – that God makes and gives a person the things that they need for life. In Judaism, life is most holy and important. A Jew must stop doing other \"mitzvot\" of the Torah to help save another person’s life.',\n",
       "  'HinduismHindus believe that all living creatures have a soul. This soul or true \"self\" of every living being is called the \"ātman\". The soul is believed to be eternal. According to the monistic/pantheistic (non-dualist) theologies of Hinduism (such as Advaita Vedanta school), this Atman is indistinct from Brahman. The goal of life, according to the Advaita school, is to realise that one\\'s soul is identical to supreme soul, that the supreme soul is present in everything and everyone, all life is interconnected and there is oneness in all life. Dualistic schools (see Dvaita and Bhakti) sees Brahman as a Supreme Being separate from individual souls. They worship the Supreme Being variously as Vishnu, Brahma, Shiva, or Shakti, depending upon the sect. God is called \"Ishvara\", \"Bhagavan\", \"Parameshwara\", \"Devadu\" or \"Devi\", and these terms have different meanings in different schools of Hinduism. Devi is typically used when refereeing to a female goddess.',\n",
       "  'TreeThe tree, with its branches reaching up into the sky, and roots deep into the earth, can be seen to dwell in three worlds - a link between heaven, the earth, and the underworld, uniting above and below. It is also both a feminine symbol, bearing sustenance; and a masculine, phallic symbol - another union.',\n",
       "  'HinduismArtha is second goal of life in Hinduism which means pursuit of wealth for livelihood, and economic prosperity. It includes political life, diplomacy and material well-being. The Artha includes all \"means of life\", activities and resources that enables one to be in a state one wants to be in, wealth, career and financial security. The aim of artha is considered an important aim of human life in Hinduism.',\n",
       "  'MarxismChanges in the higher qualities of culture (sometimes called the \"Superstructure\") are often linked to changes in the lower qualities of life (sometimes called the \"Base\"). One example is that in medieval times, people thought \"honor\" or duty to people with more power than them was very important. Today, in Western countries, many people see ambition (being someone who works hard for their own goals) as more important. This is because, in medieval times, people worked their entire lives under lords who depended on them not only for work but for war. Today, people work for themselves more, and our society lets some people move up from being poor to being rich. In this case, what people see as good and important depends on how the rulers get value out of their workers.',\n",
       "  'JudaismJews believe that they must do the \"mitzvot\" with happiness and joy because the Bible says “Serve God with joy; come before God with singing” (Psalms 100:2). Doing a \"mitzvah\" helps a person come close to God and that makes the person happy. A group of Jews called the Hasidim say this is the best way to live. They say that worrying takes people away from joy and they will not see the beauty and good in the world.',\n",
       "  'Jesus\"\"For God so loved the world, that he gave his only Son, that whoever believes in him should not perish but have eternal life.\" John\\'s Gospel, 3:16.\"',\n",
       "  'EnvironmentEnvironment means anything that surrounds us. It can be living (biotic) or non-living (abiotic) things. It includes physical, chemical and other natural forces. Living things live in their environment. They constantly interact with it and adapt themselves to conditions in their environment. In the environment there are different interactions between animals, plants, soil, water, and other living and non-living things.',\n",
       "  'JesusThere are stories about the life of Jesus by different writers. The best known are the four Christian books called the Gospels. They form the beginning of the New Testament, a part of the Bible. The word \"gospel\" means \"good news\". They tell a little about his birth and hidden early life, but mostly about his public life: his teachings, miracles, ministry, death, and resurrection (return from death).'],\n",
       " [144.14752,\n",
       "  144.08632,\n",
       "  142.00073,\n",
       "  141.7135,\n",
       "  141.69936,\n",
       "  141.46077,\n",
       "  141.35579,\n",
       "  141.34372,\n",
       "  140.76709,\n",
       "  140.71968],\n",
       " array([[4942, 1613, 4944,  650, 4938, 2755, 1614, 4687,  195, 4654]],\n",
       "       dtype=int64))"
      ]
     },
     "execution_count": 15,
     "metadata": {},
     "output_type": "execute_result"
    }
   ],
   "source": [
    "wiki_index.faiss_query(\"What is the meaning of life?\")"
   ]
  },
  {
   "cell_type": "code",
   "execution_count": 16,
   "metadata": {},
   "outputs": [],
   "source": [
    "from babydragon.chat.memory_chat import FifoChat\n"
   ]
  },
  {
   "cell_type": "code",
   "execution_count": 18,
   "metadata": {},
   "outputs": [
    {
     "name": "stdout",
     "output_type": "stream",
     "text": [
      "Index is available so using index prompts\n"
     ]
    }
   ],
   "source": [
    "chatbot = FifoChat(model= \"command\", index_dict = {\"wikiindex\":wiki_index}, name=\"babyd_chatbot\", max_index_memory = 2500, max_output_tokens= 400)"
   ]
  },
  {
   "cell_type": "code",
   "execution_count": 19,
   "metadata": {},
   "outputs": [
    {
     "name": "stdout",
     "output_type": "stream",
     "text": [
      "Trying to call Cohere API... using model: command\n"
     ]
    },
    {
     "data": {
      "text/markdown": [
       "#### Question: \n",
       " What is the meaning of life?"
      ],
      "text/plain": [
       "<IPython.core.display.Markdown object>"
      ]
     },
     "metadata": {},
     "output_type": "display_data"
    },
    {
     "data": {
      "text/markdown": [
       " #### Anwser: \n",
       " \n",
       "According to Hinduism, the meaning of life is to realize that one's soul is identical to the supreme soul, that the supreme soul is present in everything and everyone, all life is interconnected and there is oneness in all life."
      ],
      "text/plain": [
       "<IPython.core.display.Markdown object>"
      ]
     },
     "metadata": {},
     "output_type": "display_data"
    },
    {
     "data": {
      "text/plain": [
       "\"\\nAccording to Hinduism, the meaning of life is to realize that one's soul is identical to the supreme soul, that the supreme soul is present in everything and everyone, all life is interconnected and there is oneness in all life.\""
      ]
     },
     "execution_count": 19,
     "metadata": {},
     "output_type": "execute_result"
    }
   ],
   "source": [
    "chatbot.reply(\"What is the meaning of life?\")"
   ]
  }
 ],
 "metadata": {
  "kernelspec": {
   "display_name": "Python 3",
   "language": "python",
   "name": "python3"
  },
  "language_info": {
   "codemirror_mode": {
    "name": "ipython",
    "version": 3
   },
   "file_extension": ".py",
   "mimetype": "text/x-python",
   "name": "python",
   "nbconvert_exporter": "python",
   "pygments_lexer": "ipython3",
   "version": "3.10.6"
  },
  "orig_nbformat": 4
 },
 "nbformat": 4,
 "nbformat_minor": 2
}
