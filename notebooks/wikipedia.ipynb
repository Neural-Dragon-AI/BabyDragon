{
 "cells": [
  {
   "cell_type": "code",
   "execution_count": 1,
   "metadata": {},
   "outputs": [],
   "source": [
    "from datasets import load_dataset"
   ]
  },
  {
   "cell_type": "code",
   "execution_count": 2,
   "metadata": {},
   "outputs": [],
   "source": [
    "from babydragon.memory.indexes.memory_index import MemoryIndex\n"
   ]
  },
  {
   "cell_type": "code",
   "execution_count": 3,
   "metadata": {},
   "outputs": [
    {
     "name": "stderr",
     "output_type": "stream",
     "text": [
      "Found cached dataset parquet (C:/Users/Tommaso/.cache/huggingface/datasets/Cohere___parquet/Cohere--wikipedia-22-12-simple-embeddings-94deea3d55a22093/0.0.0/2a3b91fbd88a2c90d1dbbb32b460cf621d31bd5b05b934492fdef7d8d6f236ec)\n"
     ]
    },
    {
     "data": {
      "application/vnd.jupyter.widget-view+json": {
       "model_id": "bf0179ef0fd14053a1861c7459faa5b6",
       "version_major": 2,
       "version_minor": 0
      },
      "text/plain": [
       "  0%|          | 0/1 [00:00<?, ?it/s]"
      ]
     },
     "metadata": {},
     "output_type": "display_data"
    }
   ],
   "source": [
    "dataset_url = \"Cohere/wikipedia-22-12-simple-embeddings\"\n",
    "dataset = load_dataset(dataset_url)['train'] "
   ]
  },
  {
   "cell_type": "code",
   "execution_count": 4,
   "metadata": {},
   "outputs": [
    {
     "data": {
      "text/plain": [
       "['id',\n",
       " 'title',\n",
       " 'text',\n",
       " 'url',\n",
       " 'wiki_id',\n",
       " 'views',\n",
       " 'paragraph_id',\n",
       " 'langs',\n",
       " 'emb']"
      ]
     },
     "execution_count": 4,
     "metadata": {},
     "output_type": "execute_result"
    }
   ],
   "source": [
    "dataset.column_names"
   ]
  },
  {
   "cell_type": "code",
   "execution_count": 5,
   "metadata": {},
   "outputs": [],
   "source": [
    "values = dataset.select_columns(['text'])\n"
   ]
  },
  {
   "cell_type": "code",
   "execution_count": 6,
   "metadata": {},
   "outputs": [
    {
     "data": {
      "text/plain": [
       "'The 24-hour clock is a way of telling the time in which the day runs from midnight to midnight and is divided into 24 hours, numbered from 0 to 23. It does not use a.m. or p.m. This system is also referred to (only in the US and the English speaking parts of Canada) as military time or (only in the United Kingdom and now very rarely) as continental time. In some parts of the world, it is called railway time. Also, the international standard notation of time (ISO 8601) is based on this format.'"
      ]
     },
     "execution_count": 6,
     "metadata": {},
     "output_type": "execute_result"
    }
   ],
   "source": [
    "values[0]['text']"
   ]
  },
  {
   "cell_type": "code",
   "execution_count": 7,
   "metadata": {},
   "outputs": [
    {
     "name": "stderr",
     "output_type": "stream",
     "text": [
      "Loading cached processed dataset at C:\\Users\\Tommaso\\.cache\\huggingface\\datasets\\Cohere___parquet\\Cohere--wikipedia-22-12-simple-embeddings-94deea3d55a22093\\0.0.0\\2a3b91fbd88a2c90d1dbbb32b460cf621d31bd5b05b934492fdef7d8d6f236ec\\cache-eb8b46c02b8c3b22.arrow\n"
     ]
    }
   ],
   "source": [
    "def concat_columns(example):\n",
    "    column1='title'\n",
    "    column2='text'\n",
    "    example['merged_column'] = example[column1] + example[column2]\n",
    "    return example\n",
    "\n",
    "# Apply the concatenation function to the dataset\n",
    "merged_docs = dataset.map(concat_columns)"
   ]
  },
  {
   "cell_type": "code",
   "execution_count": 8,
   "metadata": {},
   "outputs": [
    {
     "data": {
      "text/plain": [
       "['id',\n",
       " 'title',\n",
       " 'text',\n",
       " 'url',\n",
       " 'wiki_id',\n",
       " 'views',\n",
       " 'paragraph_id',\n",
       " 'langs',\n",
       " 'emb',\n",
       " 'merged_column']"
      ]
     },
     "execution_count": 8,
     "metadata": {},
     "output_type": "execute_result"
    }
   ],
   "source": [
    "merged_docs.column_names"
   ]
  },
  {
   "cell_type": "code",
   "execution_count": 9,
   "metadata": {},
   "outputs": [],
   "source": [
    "values = merged_docs.select_columns(['merged_column'])\n",
    "embeddings = merged_docs.select_columns(['emb'])\n"
   ]
  },
  {
   "cell_type": "code",
   "execution_count": 10,
   "metadata": {},
   "outputs": [],
   "source": [
    "del dataset"
   ]
  },
  {
   "cell_type": "code",
   "execution_count": 24,
   "metadata": {},
   "outputs": [],
   "source": [
    "from babydragon.models.embedders.cohere import CohereEmbedder\n",
    "cohere_embedder = CohereEmbedder()"
   ]
  },
  {
   "cell_type": "code",
   "execution_count": 25,
   "metadata": {},
   "outputs": [
    {
     "data": {
      "text/plain": [
       "512"
      ]
     },
     "execution_count": 25,
     "metadata": {},
     "output_type": "execute_result"
    }
   ],
   "source": [
    "cohere_embedder.get_embedding_size()"
   ]
  },
  {
   "cell_type": "code",
   "execution_count": 22,
   "metadata": {},
   "outputs": [
    {
     "data": {
      "text/plain": [
       "768"
      ]
     },
     "execution_count": 22,
     "metadata": {},
     "output_type": "execute_result"
    }
   ],
   "source": [
    "list_values = list(values['merged_column'])\n",
    "list_embeddings = list(embeddings['emb'])"
   ]
  },
  {
   "cell_type": "code",
   "execution_count": 26,
   "metadata": {},
   "outputs": [
    {
     "name": "stdout",
     "output_type": "stream",
     "text": [
      "Creating a new index from a list of embeddings and values\n"
     ]
    },
    {
     "ename": "AssertionError",
     "evalue": "",
     "output_type": "error",
     "traceback": [
      "\u001b[1;31m---------------------------------------------------------------------------\u001b[0m",
      "\u001b[1;31mAssertionError\u001b[0m                            Traceback (most recent call last)",
      "Cell \u001b[1;32mIn[26], line 1\u001b[0m\n\u001b[1;32m----> 1\u001b[0m wiki_index \u001b[39m=\u001b[39m MemoryIndex(values\u001b[39m=\u001b[39;49mlist_values,embeddings\u001b[39m=\u001b[39;49mlist_embeddings, name\u001b[39m=\u001b[39;49m\u001b[39m'\u001b[39;49m\u001b[39mwikipedia_cohere_index\u001b[39;49m\u001b[39m'\u001b[39;49m, embedder\u001b[39m=\u001b[39;49mCohereEmbedder)\n",
      "File \u001b[1;32mc:\\users\\tommaso\\documents\\dev\\babydragon\\babydragon\\memory\\indexes\\memory_index.py:163\u001b[0m, in \u001b[0;36mMemoryIndex.__init__\u001b[1;34m(self, index, values, embeddings, name, save_path, load, tokenizer, max_workers, backup, embedder)\u001b[0m\n\u001b[0;32m    154\u001b[0m     \u001b[39mif\u001b[39;00m (\n\u001b[0;32m    155\u001b[0m         \u001b[39mself\u001b[39m\u001b[39m.\u001b[39mmax_workers \u001b[39m>\u001b[39m \u001b[39m1\u001b[39m\n\u001b[0;32m    156\u001b[0m         \u001b[39mand\u001b[39;00m values \u001b[39mis\u001b[39;00m \u001b[39mnot\u001b[39;00m \u001b[39mNone\u001b[39;00m\n\u001b[0;32m    157\u001b[0m         \u001b[39mand\u001b[39;00m embeddings \u001b[39mis\u001b[39;00m \u001b[39mNone\u001b[39;00m\n\u001b[0;32m    158\u001b[0m         \u001b[39mand\u001b[39;00m index \u001b[39mis\u001b[39;00m \u001b[39mNone\u001b[39;00m\n\u001b[0;32m    159\u001b[0m     ):\n\u001b[0;32m    160\u001b[0m         embeddings \u001b[39m=\u001b[39m parallel_embeddings(\u001b[39mself\u001b[39m\u001b[39m.\u001b[39membedder,\n\u001b[0;32m    161\u001b[0m             values, max_workers, backup\u001b[39m=\u001b[39mbackup, name\u001b[39m=\u001b[39mname\n\u001b[0;32m    162\u001b[0m         )\n\u001b[1;32m--> 163\u001b[0m     \u001b[39mself\u001b[39;49m\u001b[39m.\u001b[39;49minit_index(index, values, embeddings)\n\u001b[0;32m    164\u001b[0m \u001b[39mif\u001b[39;00m tokenizer \u001b[39mis\u001b[39;00m \u001b[39mNone\u001b[39;00m:\n\u001b[0;32m    165\u001b[0m     \u001b[39mself\u001b[39m\u001b[39m.\u001b[39mtokenizer \u001b[39m=\u001b[39m tiktoken\u001b[39m.\u001b[39mencoding_for_model(\u001b[39m\"\u001b[39m\u001b[39mgpt-3.5-turbo\u001b[39m\u001b[39m\"\u001b[39m)\n",
      "File \u001b[1;32mc:\\users\\tommaso\\documents\\dev\\babydragon\\babydragon\\memory\\indexes\\memory_index.py:198\u001b[0m, in \u001b[0;36mMemoryIndex.init_index\u001b[1;34m(self, index, values, embeddings)\u001b[0m\n\u001b[0;32m    196\u001b[0m     \u001b[39mself\u001b[39m\u001b[39m.\u001b[39mindex \u001b[39m=\u001b[39m faiss\u001b[39m.\u001b[39mIndexFlatIP(\u001b[39mself\u001b[39m\u001b[39m.\u001b[39membedder\u001b[39m.\u001b[39mget_embedding_size())\n\u001b[0;32m    197\u001b[0m     \u001b[39mfor\u001b[39;00m embedding, value \u001b[39min\u001b[39;00m \u001b[39mzip\u001b[39m(embeddings, values):\n\u001b[1;32m--> 198\u001b[0m         \u001b[39mself\u001b[39;49m\u001b[39m.\u001b[39;49madd_to_index(value, embedding)\n\u001b[0;32m    199\u001b[0m \u001b[39melif\u001b[39;00m (\n\u001b[0;32m    200\u001b[0m     \u001b[39misinstance\u001b[39m(index, faiss\u001b[39m.\u001b[39mIndex)\n\u001b[0;32m    201\u001b[0m     \u001b[39mand\u001b[39;00m index\u001b[39m.\u001b[39md \u001b[39m==\u001b[39m \u001b[39mself\u001b[39m\u001b[39m.\u001b[39membedder\u001b[39m.\u001b[39mget_embedding_size()\n\u001b[0;32m    202\u001b[0m     \u001b[39mand\u001b[39;00m \u001b[39mtype\u001b[39m(values) \u001b[39m==\u001b[39m \u001b[39mlist\u001b[39m\n\u001b[0;32m    203\u001b[0m     \u001b[39mand\u001b[39;00m \u001b[39mlen\u001b[39m(values) \u001b[39m==\u001b[39m index\u001b[39m.\u001b[39mntotal\n\u001b[0;32m    204\u001b[0m ):\n\u001b[0;32m    205\u001b[0m     \u001b[39mprint\u001b[39m(\u001b[39m\"\u001b[39m\u001b[39mCreating a new index from a faiss index and values list\u001b[39m\u001b[39m\"\u001b[39m)\n",
      "File \u001b[1;32mc:\\users\\tommaso\\documents\\dev\\babydragon\\babydragon\\memory\\indexes\\memory_index.py:328\u001b[0m, in \u001b[0;36mMemoryIndex.add_to_index\u001b[1;34m(self, value, embedding, verbose, default_save)\u001b[0m\n\u001b[0;32m    326\u001b[0m \u001b[39mif\u001b[39;00m embedding\u001b[39m.\u001b[39mndim \u001b[39m==\u001b[39m \u001b[39m1\u001b[39m:\n\u001b[0;32m    327\u001b[0m     embedding \u001b[39m=\u001b[39m embedding\u001b[39m.\u001b[39mreshape(\u001b[39m1\u001b[39m, \u001b[39m-\u001b[39m\u001b[39m1\u001b[39m)\n\u001b[1;32m--> 328\u001b[0m \u001b[39mself\u001b[39;49m\u001b[39m.\u001b[39;49mindex\u001b[39m.\u001b[39;49madd(embedding)\n\u001b[0;32m    329\u001b[0m \u001b[39mself\u001b[39m\u001b[39m.\u001b[39mvalues\u001b[39m.\u001b[39mappend(value)\n\u001b[0;32m    330\u001b[0m \u001b[39mif\u001b[39;00m default_save:\n",
      "File \u001b[1;32mc:\\Users\\Tommaso\\AppData\\Local\\Programs\\Python\\Python310\\lib\\site-packages\\faiss\\class_wrappers.py:228\u001b[0m, in \u001b[0;36mhandle_Index.<locals>.replacement_add\u001b[1;34m(self, x)\u001b[0m\n\u001b[0;32m    215\u001b[0m \u001b[39m\u001b[39m\u001b[39m\"\"\"Adds vectors to the index.\u001b[39;00m\n\u001b[0;32m    216\u001b[0m \u001b[39mThe index must be trained before vectors can be added to it.\u001b[39;00m\n\u001b[0;32m    217\u001b[0m \u001b[39mThe vectors are implicitly numbered in sequence. When `n` vectors are\u001b[39;00m\n\u001b[1;32m   (...)\u001b[0m\n\u001b[0;32m    224\u001b[0m \u001b[39m    `dtype` must be float32.\u001b[39;00m\n\u001b[0;32m    225\u001b[0m \u001b[39m\"\"\"\u001b[39;00m\n\u001b[0;32m    227\u001b[0m n, d \u001b[39m=\u001b[39m x\u001b[39m.\u001b[39mshape\n\u001b[1;32m--> 228\u001b[0m \u001b[39massert\u001b[39;00m d \u001b[39m==\u001b[39m \u001b[39mself\u001b[39m\u001b[39m.\u001b[39md\n\u001b[0;32m    229\u001b[0m x \u001b[39m=\u001b[39m np\u001b[39m.\u001b[39mascontiguousarray(x, dtype\u001b[39m=\u001b[39m\u001b[39m'\u001b[39m\u001b[39mfloat32\u001b[39m\u001b[39m'\u001b[39m)\n\u001b[0;32m    230\u001b[0m \u001b[39mself\u001b[39m\u001b[39m.\u001b[39madd_c(n, swig_ptr(x))\n",
      "\u001b[1;31mAssertionError\u001b[0m: "
     ]
    }
   ],
   "source": [
    "wiki_index = MemoryIndex(values=list_values,embeddings=list_embeddings, name='wikipedia_cohere_index', embedder=CohereEmbedder)"
   ]
  }
 ],
 "metadata": {
  "kernelspec": {
   "display_name": "Python 3",
   "language": "python",
   "name": "python3"
  },
  "language_info": {
   "codemirror_mode": {
    "name": "ipython",
    "version": 3
   },
   "file_extension": ".py",
   "mimetype": "text/x-python",
   "name": "python",
   "nbconvert_exporter": "python",
   "pygments_lexer": "ipython3",
   "version": "3.10.6"
  },
  "orig_nbformat": 4
 },
 "nbformat": 4,
 "nbformat_minor": 2
}
