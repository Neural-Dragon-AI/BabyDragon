{
 "cells": [
  {
   "cell_type": "code",
   "execution_count": 8,
   "id": "0f3c41cc",
   "metadata": {},
   "outputs": [],
   "source": [
    "from babydragon.memory.threads.base_thread import BaseThread\n",
    "import tqdm"
   ]
  },
  {
   "cell_type": "code",
   "execution_count": 2,
   "id": "a35cb5bc",
   "metadata": {},
   "outputs": [],
   "source": [
    "memory = BaseThread()"
   ]
  },
  {
   "cell_type": "code",
   "execution_count": 3,
   "id": "0a7f6b51",
   "metadata": {},
   "outputs": [],
   "source": [
    "memory.reset_memory()"
   ]
  },
  {
   "cell_type": "code",
   "execution_count": 4,
   "id": "0d8338b0",
   "metadata": {},
   "outputs": [
    {
     "data": {
      "text/html": [
       "<div><style>\n",
       ".dataframe > thead > tr > th,\n",
       ".dataframe > tbody > tr > td {\n",
       "  text-align: right;\n",
       "}\n",
       "</style>\n",
       "<small>shape: (0, 4)</small><table border=\"1\" class=\"dataframe\"><thead><tr><th>role</th><th>content</th><th>timestamp</th><th>tokens_count</th></tr><tr><td>str</td><td>str</td><td>f64</td><td>u16</td></tr></thead><tbody></tbody></table></div>"
      ],
      "text/plain": [
       "shape: (0, 4)\n",
       "┌──────┬─────────┬───────────┬──────────────┐\n",
       "│ role ┆ content ┆ timestamp ┆ tokens_count │\n",
       "│ ---  ┆ ---     ┆ ---       ┆ ---          │\n",
       "│ str  ┆ str     ┆ f64       ┆ u16          │\n",
       "╞══════╪═════════╪═══════════╪══════════════╡\n",
       "└──────┴─────────┴───────────┴──────────────┘"
      ]
     },
     "execution_count": 4,
     "metadata": {},
     "output_type": "execute_result"
    }
   ],
   "source": [
    "memory.memory_thread"
   ]
  },
  {
   "cell_type": "code",
   "execution_count": 6,
   "id": "14d308a5",
   "metadata": {},
   "outputs": [],
   "source": [
    "memory.load_from_gpt_url('https://chat.openai.com/share/f91098d6-96ea-4451-ae06-d09ba6658e21')"
   ]
  },
  {
   "cell_type": "code",
   "execution_count": 14,
   "id": "3a7b1480",
   "metadata": {},
   "outputs": [
    {
     "data": {
      "text/plain": [
       "'Ciao, sarai il mio assistente personale per aiutarmi ad imparare Polars.\\n\\nConsidera che ho il seguente DF: \\n\\nself.memory_thread: pl.DataFrame = pl.DataFrame(schema={\"role\": pl.Utf8, \"content\": pl.Utf8,\"timestamp\":pl.Time,\"tokens_count\":pl.UInt16})\\n\\nVoglio una query che per ogni elemento di content esegue la seguente funzione:\\n\\nself.tokenizer.encode(content)\\n\\nEd infine mi restituisce la somma'"
      ]
     },
     "execution_count": 14,
     "metadata": {},
     "output_type": "execute_result"
    }
   ],
   "source": [
    "memory.memory_thread[-1]['content'][0]"
   ]
  },
  {
   "cell_type": "code",
   "execution_count": 14,
   "id": "f6cba72a",
   "metadata": {},
   "outputs": [],
   "source": [
    "memory.memory_thread"
   ]
  },
  {
   "cell_type": "code",
   "execution_count": null,
   "id": "e2ed4512",
   "metadata": {},
   "outputs": [],
   "source": [
    "memory.add_dict_to_thread(gpt_message)"
   ]
  },
  {
   "cell_type": "code",
   "execution_count": null,
   "id": "84a1a657",
   "metadata": {},
   "outputs": [],
   "source": [
    "memory.select_col('content')"
   ]
  },
  {
   "cell_type": "code",
   "execution_count": null,
   "id": "dbd4dbe2",
   "metadata": {},
   "outputs": [],
   "source": [
    "memory.memory_thread[-2]"
   ]
  },
  {
   "cell_type": "code",
   "execution_count": null,
   "id": "6256b05b",
   "metadata": {},
   "outputs": [],
   "source": [
    "memory.memory_thread"
   ]
  },
  {
   "cell_type": "code",
   "execution_count": null,
   "id": "5f7e7853",
   "metadata": {},
   "outputs": [],
   "source": [
    "memory.save()"
   ]
  },
  {
   "cell_type": "code",
   "execution_count": null,
   "id": "333eada9",
   "metadata": {},
   "outputs": [],
   "source": [
    "memory.select_col(['role','content'])"
   ]
  },
  {
   "cell_type": "code",
   "execution_count": null,
   "id": "2966df21",
   "metadata": {},
   "outputs": [],
   "source": [
    "memory.get_total_tokens_from_thread()"
   ]
  },
  {
   "cell_type": "code",
   "execution_count": null,
   "id": "169c45da",
   "metadata": {},
   "outputs": [],
   "source": [
    "memory.load()"
   ]
  },
  {
   "cell_type": "code",
   "execution_count": null,
   "id": "420dbbf3",
   "metadata": {},
   "outputs": [],
   "source": [
    "memory.find_role('user')"
   ]
  },
  {
   "cell_type": "code",
   "execution_count": null,
   "id": "d635512f",
   "metadata": {},
   "outputs": [],
   "source": [
    "memory.last_message()"
   ]
  },
  {
   "cell_type": "code",
   "execution_count": null,
   "id": "702a4984",
   "metadata": {},
   "outputs": [],
   "source": [
    "user_message_second = {\"role\": \"user\", \"content\": \"RIMUOVIMI\"}"
   ]
  },
  {
   "cell_type": "code",
   "execution_count": null,
   "id": "c2650a4b",
   "metadata": {},
   "outputs": [],
   "source": [
    "memory.add_dict_to_thread(user_message_second)"
   ]
  },
  {
   "cell_type": "code",
   "execution_count": null,
   "id": "3a7ea5ba",
   "metadata": {},
   "outputs": [],
   "source": [
    "print(memory.memory_thread)"
   ]
  },
  {
   "cell_type": "code",
   "execution_count": null,
   "id": "0e620127",
   "metadata": {},
   "outputs": [],
   "source": [
    "memory.remove_dict_from_thread(idx=2)"
   ]
  },
  {
   "cell_type": "code",
   "execution_count": null,
   "id": "18468174",
   "metadata": {},
   "outputs": [],
   "source": [
    "print(memory.memory_thread)"
   ]
  },
  {
   "cell_type": "code",
   "execution_count": null,
   "id": "ea8925f1",
   "metadata": {},
   "outputs": [],
   "source": [
    "memory.remove_dict_from_thread(user_message)"
   ]
  },
  {
   "cell_type": "code",
   "execution_count": null,
   "id": "971bb705",
   "metadata": {},
   "outputs": [],
   "source": [
    "print(memory.memory_thread)"
   ]
  },
  {
   "cell_type": "code",
   "execution_count": null,
   "id": "3d819b78",
   "metadata": {},
   "outputs": [],
   "source": [
    "memory.add_dict_to_thread(user_message)\n",
    "memory.add_dict_to_thread(user_message_second)"
   ]
  },
  {
   "cell_type": "code",
   "execution_count": null,
   "id": "53749078",
   "metadata": {},
   "outputs": [],
   "source": [
    "memory.find_message(user_message)"
   ]
  },
  {
   "cell_type": "code",
   "execution_count": null,
   "id": "9bffcf23",
   "metadata": {},
   "outputs": [],
   "source": [
    "memory.memory_thread.with_row_count(\"index\")"
   ]
  },
  {
   "cell_type": "code",
   "execution_count": null,
   "id": "32c36f21",
   "metadata": {},
   "outputs": [],
   "source": [
    "memory.memory_thread.with_row_count(\"index\").reverse().with_columns(pl.col(\"tokens_count\").cumsum().alias(\"cum_tokens_count\"))"
   ]
  },
  {
   "cell_type": "code",
   "execution_count": null,
   "id": "2a72cc89",
   "metadata": {},
   "outputs": [],
   "source": [
    "memory.token_bound_history(545)"
   ]
  }
 ],
 "metadata": {
  "kernelspec": {
   "display_name": "venvfm",
   "language": "python",
   "name": "venv"
  },
  "language_info": {
   "codemirror_mode": {
    "name": "ipython",
    "version": 3
   },
   "file_extension": ".py",
   "mimetype": "text/x-python",
   "name": "python",
   "nbconvert_exporter": "python",
   "pygments_lexer": "ipython3",
   "version": "3.10.0"
  }
 },
 "nbformat": 4,
 "nbformat_minor": 5
}
