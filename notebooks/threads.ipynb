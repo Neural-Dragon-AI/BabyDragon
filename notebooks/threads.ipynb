{
 "cells": [
  {
   "attachments": {},
   "cell_type": "markdown",
   "metadata": {},
   "source": [
    "# BabyDragon Threads\n",
    "The `BaseThread` class is a utility class for managing the memory thread of a conversation and keeping track of the total number of tokens. You can use this class to store, find, and manage conversation messages. The memory thread can have a maximum token limit, or it can be unlimited. After the limit is reached no more messages can be added.\n",
    "\n",
    "## Initialization\n",
    "The `__init__()` method initializes the `BaseThread` instance with a name, maximum token limit, and a tokenizer. By default, the name is set to \"memory\", the maximum token limit is set to None (unlimited), and the tokenizer is set to the tiktoken encoding for the 'gpt-3.5-turbo' model."
   ]
  },
  {
   "cell_type": "code",
   "execution_count": 1,
   "metadata": {},
   "outputs": [],
   "source": [
    "from babydragon.memory.threads.base_thread import BaseThread\n",
    "thread = BaseThread(name='memory_thread', max_memory= None)"
   ]
  },
  {
   "attachments": {},
   "cell_type": "markdown",
   "metadata": {},
   "source": [
    "## Add and Remove Messages\n",
    "Use the `add_message()` method to add a message to the memory thread. The message should be a dictionary containing the role and content of the message. If the total tokens in the memory thread would exceed the maximum token limit after adding the message, the message will not be added."
   ]
  },
  {
   "cell_type": "code",
   "execution_count": 2,
   "metadata": {},
   "outputs": [
    {
     "name": "stdout",
     "output_type": "stream",
     "text": [
      "[{'role': 'user', 'content': 'Hello, how are you?'}]\n"
     ]
    }
   ],
   "source": [
    "message = {\"role\": \"user\", \"content\": \"Hello, how are you?\"}\n",
    "thread.add_message(message)\n",
    "print(thread.memory_thread)"
   ]
  },
  {
   "attachments": {},
   "cell_type": "markdown",
   "metadata": {},
   "source": [
    "To remove a message from the memory thread, use the `remove_message()` method. You can either provide the message dictionary:\n"
   ]
  },
  {
   "cell_type": "code",
   "execution_count": 3,
   "metadata": {},
   "outputs": [
    {
     "name": "stdout",
     "output_type": "stream",
     "text": [
      "[]\n"
     ]
    }
   ],
   "source": [
    "thread.remove_message(message_dict=message)\n",
    "print(thread.memory_thread)"
   ]
  },
  {
   "attachments": {},
   "cell_type": "markdown",
   "metadata": {},
   "source": [
    "or the `idx` of the message in the memory thread:"
   ]
  },
  {
   "cell_type": "code",
   "execution_count": 4,
   "metadata": {},
   "outputs": [
    {
     "name": "stdout",
     "output_type": "stream",
     "text": [
      "[]\n"
     ]
    }
   ],
   "source": [
    "message = {\"role\": \"user\", \"content\": \"Hello, how are you?\"}\n",
    "thread.add_message(message)\n",
    "thread.remove_message(idx=0)\n",
    "print(thread.memory_thread)"
   ]
  },
  {
   "attachments": {},
   "cell_type": "markdown",
   "metadata": {},
   "source": [
    "Let's add a few more messages to use in the next examples:"
   ]
  },
  {
   "cell_type": "code",
   "execution_count": 5,
   "metadata": {},
   "outputs": [
    {
     "name": "stdout",
     "output_type": "stream",
     "text": [
      "{'role': 'user', 'content': 'Hello, how are you?'}\n",
      "{'role': 'assistant', 'content': \"I'm fine, thanks.\"}\n",
      "{'role': 'user', 'content': \"What's your name?\"}\n",
      "{'role': 'assistant', 'content': 'My name is BabyDragon.'}\n",
      "{'role': 'user', 'content': 'Nice to meet you.'}\n",
      "{'role': 'assistant', 'content': 'Nice to meet you too.'}\n",
      "{'role': 'user', 'content': 'Hello, how are you?'}\n",
      "{'role': 'assistant', 'content': 'Hello, how are you?'}\n"
     ]
    }
   ],
   "source": [
    "thread = BaseThread(name='memory_thread', max_memory= None)\n",
    "thread.add_message({\"role\": \"user\", \"content\": \"Hello, how are you?\"})\n",
    "thread.add_message({\"role\": \"assistant\", \"content\": \"I'm fine, thanks.\"})\n",
    "thread.add_message({\"role\": \"user\", \"content\": \"What's your name?\"})\n",
    "thread.add_message({\"role\": \"assistant\", \"content\": \"My name is BabyDragon.\"})\n",
    "thread.add_message({\"role\": \"user\", \"content\": \"Nice to meet you.\"})\n",
    "thread.add_message({\"role\": \"assistant\", \"content\": \"Nice to meet you too.\"})\n",
    "thread.add_message({\"role\": \"user\", \"content\": \"Hello, how are you?\"})\n",
    "thread.add_message({\"role\": \"assistant\", \"content\": \"Hello, how are you?\"})\n",
    "\n",
    "for memory in thread.memory_thread:\n",
    "    print(memory)\n"
   ]
  },
  {
   "attachments": {},
   "cell_type": "markdown",
   "metadata": {},
   "source": [
    "## Find Messages\n",
    "The class provides several methods for finding messages in the memory thread, such as:\n",
    "\n",
    "`find_message(\"string\" or Dict, role)`: Finds a message based on exaxt match of the content or the message dictionary.\n"
   ]
  },
  {
   "cell_type": "code",
   "execution_count": 6,
   "metadata": {},
   "outputs": [
    {
     "name": "stdout",
     "output_type": "stream",
     "text": [
      "{'idx': 0, 'message_dict': {'role': 'user', 'content': 'Hello, how are you?'}}\n",
      "{'idx': 6, 'message_dict': {'role': 'user', 'content': 'Hello, how are you?'}}\n",
      "{'idx': 7, 'message_dict': {'role': 'assistant', 'content': 'Hello, how are you?'}}\n"
     ]
    }
   ],
   "source": [
    "search_results = thread.find_message(\"Hello, how are you?\", role = None)\n",
    "for result in search_results:\n",
    "    print(result)\n"
   ]
  },
  {
   "attachments": {},
   "cell_type": "markdown",
   "metadata": {},
   "source": [
    "You can further filter the search by the `role`:"
   ]
  },
  {
   "cell_type": "code",
   "execution_count": 7,
   "metadata": {},
   "outputs": [
    {
     "name": "stdout",
     "output_type": "stream",
     "text": [
      "{'idx': 7, 'message_dict': {'role': 'assistant', 'content': 'Hello, how are you?'}}\n"
     ]
    }
   ],
   "source": [
    "search_results = thread.find_message(\"Hello, how are you?\", role = \"assistant\")\n",
    "for result in search_results:\n",
    "    print(result)"
   ]
  },
  {
   "attachments": {},
   "cell_type": "markdown",
   "metadata": {},
   "source": [
    "Or you can directly pass a dictionary defining both the `content` and the `role`:"
   ]
  },
  {
   "cell_type": "code",
   "execution_count": 8,
   "metadata": {},
   "outputs": [
    {
     "name": "stdout",
     "output_type": "stream",
     "text": [
      "{'idx': 0, 'message_dict': {'role': 'user', 'content': 'Hello, how are you?'}}\n",
      "{'idx': 6, 'message_dict': {'role': 'user', 'content': 'Hello, how are you?'}}\n"
     ]
    }
   ],
   "source": [
    "message = {\"role\": \"user\", \"content\": \"Hello, how are you?\"}\n",
    "search_results = thread.find_message(message)\n",
    "for result in search_results:\n",
    "    print(result)"
   ]
  },
  {
   "attachments": {},
   "cell_type": "markdown",
   "metadata": {},
   "source": [
    "`find_role(role:str)`: Finds all messages with a specific role in the memory thread."
   ]
  },
  {
   "cell_type": "code",
   "execution_count": 9,
   "metadata": {},
   "outputs": [
    {
     "name": "stdout",
     "output_type": "stream",
     "text": [
      "{'idx': 0, 'message_dict': {'role': 'user', 'content': 'Hello, how are you?'}}\n",
      "{'idx': 2, 'message_dict': {'role': 'user', 'content': \"What's your name?\"}}\n",
      "{'idx': 4, 'message_dict': {'role': 'user', 'content': 'Nice to meet you.'}}\n",
      "{'idx': 6, 'message_dict': {'role': 'user', 'content': 'Hello, how are you?'}}\n"
     ]
    }
   ],
   "source": [
    "user_messages = thread.find_role(\"user\")\n",
    "for message in user_messages:\n",
    "    print(message)\n"
   ]
  },
  {
   "attachments": {},
   "cell_type": "markdown",
   "metadata": {},
   "source": [
    "`last_message()`: Gets the last message as a dictionary in the memory thread with a specific role."
   ]
  },
  {
   "cell_type": "code",
   "execution_count": 10,
   "metadata": {},
   "outputs": [
    {
     "name": "stdout",
     "output_type": "stream",
     "text": [
      "{'role': 'assistant', 'content': 'Hello, how are you?'}\n"
     ]
    }
   ],
   "source": [
    "# Get the last message with a specific role (e.g., \"user\")\n",
    "last_user_message = thread.last_message(role=None)\n",
    "print(last_user_message)"
   ]
  },
  {
   "attachments": {},
   "cell_type": "markdown",
   "metadata": {},
   "source": [
    "`first_message()`: Gets the first message in the memory thread with a specific role."
   ]
  },
  {
   "cell_type": "code",
   "execution_count": 11,
   "metadata": {},
   "outputs": [
    {
     "name": "stdout",
     "output_type": "stream",
     "text": [
      "{'role': 'user', 'content': 'Hello, how are you?'}\n"
     ]
    }
   ],
   "source": [
    "first_user_message = thread.first_message(role=\"user\")\n",
    "print(first_user_message)"
   ]
  },
  {
   "attachments": {},
   "cell_type": "markdown",
   "metadata": {},
   "source": [
    "`messages_before()`: Gets all messages before a specific message in the memory thread with a specific role."
   ]
  },
  {
   "cell_type": "code",
   "execution_count": 12,
   "metadata": {},
   "outputs": [
    {
     "name": "stdout",
     "output_type": "stream",
     "text": [
      "{'role': 'user', 'content': 'Hello, how are you?'}\n",
      "{'role': 'user', 'content': \"What's your name?\"}\n"
     ]
    }
   ],
   "source": [
    "message = {'role': 'assistant', 'content': 'My name is BabyDragon.'}\n",
    "\n",
    "messages_before = thread.messages_before(message, role='user')\n",
    "for message in messages_before:\n",
    "    print(message)"
   ]
  },
  {
   "attachments": {},
   "cell_type": "markdown",
   "metadata": {},
   "source": [
    "`messages_after()`: Gets all messages after a specific message in the memory thread with a specific role."
   ]
  },
  {
   "cell_type": "code",
   "execution_count": 13,
   "metadata": {},
   "outputs": [
    {
     "name": "stdout",
     "output_type": "stream",
     "text": [
      "{'role': 'user', 'content': 'Hello, how are you?'}\n",
      "{'role': 'assistant', 'content': \"I'm fine, thanks.\"}\n"
     ]
    }
   ],
   "source": [
    "messages_after = thread.messages_after(message, role=None)\n",
    "for message in messages_after:\n",
    "    print(message)"
   ]
  },
  {
   "attachments": {},
   "cell_type": "markdown",
   "metadata": {},
   "source": [
    "`messages_between()`: Gets all messages between two specific messages in the memory thread with a specific role.\n",
    "Here are examples of how to use these methods:"
   ]
  },
  {
   "cell_type": "code",
   "execution_count": 14,
   "metadata": {},
   "outputs": [
    {
     "name": "stdout",
     "output_type": "stream",
     "text": [
      "{'role': 'assistant', 'content': \"I'm fine, thanks.\"}\n",
      "{'role': 'user', 'content': \"What's your name?\"}\n",
      "{'role': 'assistant', 'content': 'My name is BabyDragon.'}\n",
      "{'role': 'user', 'content': 'Nice to meet you.'}\n",
      "{'role': 'assistant', 'content': 'Nice to meet you too.'}\n"
     ]
    }
   ],
   "source": [
    "messages_between = thread.messages_between(first_user_message, last_user_message, role=None)\n",
    "for message in messages_between:\n",
    "    print(message)"
   ]
  },
  {
   "attachments": {},
   "cell_type": "markdown",
   "metadata": {},
   "source": [
    "## Token Bound History\n",
    "The following method is used to get the most recent messages from the memory thread within a specified token limit.\n",
    "\n",
    "`token_bound_history(max_tokens: int, max_history=None, role: Union[str, None] = None)`\n",
    "This method returns a tuple of messages and their indices that fit within the max_tokens limit, from the most recent messages in the memory thread with a specific role. If the role parameter is not provided, it will return messages with any role. The max_history parameter, if provided, limits the search to the most recent max_history messages."
   ]
  },
  {
   "cell_type": "code",
   "execution_count": 15,
   "metadata": {},
   "outputs": [
    {
     "name": "stdout",
     "output_type": "stream",
     "text": [
      "Message: Hello, how are you?, Tokens: 12\n",
      "Message: I'm fine, thanks., Tokens: 12\n",
      "Message: What's your name?, Tokens: 11\n",
      "Message: My name is BabyDragon., Tokens: 12\n",
      "Message: Nice to meet you., Tokens: 11\n",
      "Message: Nice to meet you too., Tokens: 12\n",
      "Message: Hello, how are you?, Tokens: 12\n",
      "Message: Hello, how are you?, Tokens: 12\n"
     ]
    }
   ],
   "source": [
    "for message in thread.memory_thread:\n",
    "    tokens = len(thread.tokenizer.encode(message['content']))\n",
    "    tokens = tokens+ 6 # 6 tokens for the special tokens\n",
    "    print(f\"Message: {message['content']}, Tokens: {tokens}\")"
   ]
  },
  {
   "cell_type": "code",
   "execution_count": 17,
   "metadata": {},
   "outputs": [
    {
     "name": "stdout",
     "output_type": "stream",
     "text": [
      "{'role': 'assistant', 'content': 'Hello, how are you?'}\n",
      "{'role': 'user', 'content': 'Hello, how are you?'}\n",
      "{'role': 'assistant', 'content': 'Nice to meet you too.'}\n"
     ]
    }
   ],
   "source": [
    "messages, indices = thread.token_bound_history(36, max_history=10, role=None)\n",
    "for message in messages:\n",
    "    print(message)"
   ]
  }
 ],
 "metadata": {
  "kernelspec": {
   "display_name": "Python 3",
   "language": "python",
   "name": "python3"
  },
  "language_info": {
   "codemirror_mode": {
    "name": "ipython",
    "version": 3
   },
   "file_extension": ".py",
   "mimetype": "text/x-python",
   "name": "python",
   "nbconvert_exporter": "python",
   "pygments_lexer": "ipython3",
   "version": "3.10.6"
  },
  "orig_nbformat": 4
 },
 "nbformat": 4,
 "nbformat_minor": 2
}
