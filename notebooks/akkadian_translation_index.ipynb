{
 "cells": [
  {
   "cell_type": "code",
   "execution_count": 3,
   "metadata": {},
   "outputs": [],
   "source": [
    "import sys\n",
    "sys.path.append('/Users/danielhug/neuraldragon/.venv/lib/python3.10/site-packages')\n",
    "sys.path.append(\"/Users/danielhug/neuraldragon/gitensor/BabyDragon\")"
   ]
  },
  {
   "cell_type": "code",
   "execution_count": 5,
   "metadata": {},
   "outputs": [],
   "source": [
    "from babydragon.memory.indexes.memory_index import MemoryIndex\n",
    "import pandas as pd"
   ]
  },
  {
   "cell_type": "code",
   "execution_count": 11,
   "metadata": {},
   "outputs": [
    {
     "name": "stderr",
     "output_type": "stream",
     "text": [
      "Found cached dataset parquet (/Users/danielhug/.cache/huggingface/datasets/OpenAssistant___parquet/OpenAssistant--oasst1-2960c57d7e52ab15/0.0.0/2a3b91fbd88a2c90d1dbbb32b460cf621d31bd5b05b934492fdef7d8d6f236ec)\n",
      "100%|██████████| 2/2 [00:00<00:00, 182.31it/s]\n"
     ]
    }
   ],
   "source": [
    "#!git clone https://github.com/SLAB-NLP/Akk.git\n",
    "#Akk/data/eng_from_website.jsonl"
   ]
  },
  {
   "cell_type": "code",
   "execution_count": 6,
   "metadata": {},
   "outputs": [],
   "source": [
    "akk_data = \"/Users/danielhug/neuraldragon/gitensor/BabyDragon/notebooks/storage/eng_from_website.jsonl\""
   ]
  },
  {
   "cell_type": "code",
   "execution_count": 8,
   "metadata": {},
   "outputs": [],
   "source": [
    "import json\n",
    "            \n",
    "with open(akk_data, 'r') as f:\n",
    "    data = [json.loads(line) for line in f]\n",
    "\n",
    "df = pd.DataFrame(data)\n"
   ]
  },
  {
   "cell_type": "code",
   "execution_count": 10,
   "metadata": {},
   "outputs": [
    {
     "data": {
      "text/plain": [
       "Index(['id_text', 'sub_project_name', 'raw_text'], dtype='object')"
      ]
     },
     "execution_count": 10,
     "metadata": {},
     "output_type": "execute_result"
    }
   ],
   "source": [
    "df.columns"
   ]
  },
  {
   "cell_type": "code",
   "execution_count": 11,
   "metadata": {},
   "outputs": [
    {
     "data": {
      "text/html": [
       "<div>\n",
       "<style scoped>\n",
       "    .dataframe tbody tr th:only-of-type {\n",
       "        vertical-align: middle;\n",
       "    }\n",
       "\n",
       "    .dataframe tbody tr th {\n",
       "        vertical-align: top;\n",
       "    }\n",
       "\n",
       "    .dataframe thead th {\n",
       "        text-align: right;\n",
       "    }\n",
       "</style>\n",
       "<table border=\"1\" class=\"dataframe\">\n",
       "  <thead>\n",
       "    <tr style=\"text-align: right;\">\n",
       "      <th></th>\n",
       "      <th>id_text</th>\n",
       "      <th>sub_project_name</th>\n",
       "      <th>raw_text</th>\n",
       "    </tr>\n",
       "  </thead>\n",
       "  <tbody>\n",
       "    <tr>\n",
       "      <th>0</th>\n",
       "      <td>P223388</td>\n",
       "      <td>saa03</td>\n",
       "      <td>May anyone trust in whomever he trusts; as for...</td>\n",
       "    </tr>\n",
       "    <tr>\n",
       "      <th>1</th>\n",
       "      <td>P223391</td>\n",
       "      <td>saa03</td>\n",
       "      <td></td>\n",
       "    </tr>\n",
       "    <tr>\n",
       "      <th>2</th>\n",
       "      <td>P224378</td>\n",
       "      <td>saa19</td>\n",
       "      <td>[Your servant NN]: I would [gladly] die [for t...</td>\n",
       "    </tr>\n",
       "    <tr>\n",
       "      <th>3</th>\n",
       "      <td>P224379</td>\n",
       "      <td>saa19</td>\n",
       "      <td>[To] the king, [my] lor[d]: your servant [NN. ...</td>\n",
       "    </tr>\n",
       "    <tr>\n",
       "      <th>4</th>\n",
       "      <td>P224380</td>\n",
       "      <td>saa19</td>\n",
       "      <td>T[o the king, my lord]: yo[ur] servant [NN]. G...</td>\n",
       "    </tr>\n",
       "    <tr>\n",
       "      <th>...</th>\n",
       "      <td>...</td>\n",
       "      <td>...</td>\n",
       "      <td>...</td>\n",
       "    </tr>\n",
       "    <tr>\n",
       "      <th>41326</th>\n",
       "      <td>X000009</td>\n",
       "      <td>obmc</td>\n",
       "      <td></td>\n",
       "    </tr>\n",
       "    <tr>\n",
       "      <th>41327</th>\n",
       "      <td>X000010</td>\n",
       "      <td>obmc</td>\n",
       "      <td></td>\n",
       "    </tr>\n",
       "    <tr>\n",
       "      <th>41328</th>\n",
       "      <td>X000011</td>\n",
       "      <td>obmc</td>\n",
       "      <td>... Ilum-īde received (1 gur of barley) from I...</td>\n",
       "    </tr>\n",
       "    <tr>\n",
       "      <th>41329</th>\n",
       "      <td>X000012</td>\n",
       "      <td>obmc</td>\n",
       "      <td>15 1/2 shekels of silver, with an interest of ...</td>\n",
       "    </tr>\n",
       "    <tr>\n",
       "      <th>41330</th>\n",
       "      <td>X000013</td>\n",
       "      <td>obmc</td>\n",
       "      <td>The inscribed seal of Urdun, the merchant, got...</td>\n",
       "    </tr>\n",
       "  </tbody>\n",
       "</table>\n",
       "<p>41331 rows × 3 columns</p>\n",
       "</div>"
      ],
      "text/plain": [
       "       id_text sub_project_name   \n",
       "0      P223388            saa03  \\\n",
       "1      P223391            saa03   \n",
       "2      P224378            saa19   \n",
       "3      P224379            saa19   \n",
       "4      P224380            saa19   \n",
       "...        ...              ...   \n",
       "41326  X000009             obmc   \n",
       "41327  X000010             obmc   \n",
       "41328  X000011             obmc   \n",
       "41329  X000012             obmc   \n",
       "41330  X000013             obmc   \n",
       "\n",
       "                                                raw_text  \n",
       "0      May anyone trust in whomever he trusts; as for...  \n",
       "1                                                         \n",
       "2      [Your servant NN]: I would [gladly] die [for t...  \n",
       "3      [To] the king, [my] lor[d]: your servant [NN. ...  \n",
       "4      T[o the king, my lord]: yo[ur] servant [NN]. G...  \n",
       "...                                                  ...  \n",
       "41326                                                     \n",
       "41327                                                     \n",
       "41328  ... Ilum-īde received (1 gur of barley) from I...  \n",
       "41329  15 1/2 shekels of silver, with an interest of ...  \n",
       "41330  The inscribed seal of Urdun, the merchant, got...  \n",
       "\n",
       "[41331 rows x 3 columns]"
      ]
     },
     "execution_count": 11,
     "metadata": {},
     "output_type": "execute_result"
    }
   ],
   "source": [
    "df"
   ]
  },
  {
   "cell_type": "code",
   "execution_count": 12,
   "metadata": {},
   "outputs": [],
   "source": [
    "values = df['raw_text'].values\n"
   ]
  },
  {
   "cell_type": "code",
   "execution_count": 19,
   "metadata": {},
   "outputs": [],
   "source": []
  },
  {
   "cell_type": "code",
   "execution_count": 20,
   "metadata": {},
   "outputs": [
    {
     "data": {
      "image/png": "[encoded data removed]",
      "text/plain": [
       "<Figure size 640x480 with 1 Axes>"
      ]
     },
     "metadata": {},
     "output_type": "display_data"
    }
   ],
   "source": [
    "import tiktoken\n",
    "import matplotlib.pyplot as plt\n",
    "\n",
    "tokenizer = tiktoken.encoding_for_model(\"gpt-3.5-turbo\")\n",
    "token_counts = []\n",
    "filtered_values = []\n",
    "for val in values:\n",
    "    tokens = tokenizer.encode(val, disallowed_special=())\n",
    "    num_tokens = len(tokens)\n",
    "    if num_tokens < 512:\n",
    "        filtered_values.append(val)\n",
    "        token_counts.append(num_tokens)\n",
    "    else:\n",
    "        #break into chunks by token count\n",
    "        num_chunks = num_tokens // 500\n",
    "        for i in range(num_chunks):\n",
    "            sub_val = val[i*500:(i+1)*500]\n",
    "            tokens = tokenizer.encode(sub_val, disallowed_special=())\n",
    "            num_tokens = len(tokens)\n",
    "            if num_tokens < 512:\n",
    "                filtered_values.append(sub_val)\n",
    "            token_counts.append(num_tokens)\n",
    "            \n",
    "\n",
    "\n",
    "    \n",
    "\n",
    "plt.hist(token_counts, bins=100)\n",
    "plt.xlabel('Token Counts')\n",
    "plt.ylabel('Frequency')\n",
    "plt.show()\n"
   ]
  },
  {
   "cell_type": "code",
   "execution_count": 22,
   "metadata": {},
   "outputs": [
    {
     "data": {
      "text/plain": [
       "511"
      ]
     },
     "execution_count": 22,
     "metadata": {},
     "output_type": "execute_result"
    }
   ],
   "source": [
    "max(token_counts)"
   ]
  },
  {
   "cell_type": "code",
   "execution_count": 23,
   "metadata": {},
   "outputs": [
    {
     "data": {
      "text/plain": [
       "'May anyone trust in whomever he trusts; as for us, we trust in Nabû, we are devoted to Tašmetu! What is ours is ours; Nabû is our lord, Tašmetu is the mountain of our trust! Ditto. Say to her, to her of the wall, to her of the wall, to Tašmetu: \"Save (us), sit down in the cella!\" Let (the scent of) holy juniper fill the sanctuary! Ditto. The shade of the cedar, the shade of the cedar, the shade of the cedar, the king\\'s shelter! The shade of the cypress (is for) his magnates! The shade of a sprig'"
      ]
     },
     "execution_count": 23,
     "metadata": {},
     "output_type": "execute_result"
    }
   ],
   "source": [
    "filtered_values[0]"
   ]
  },
  {
   "cell_type": "code",
   "execution_count": 26,
   "metadata": {},
   "outputs": [],
   "source": [
    "from babydragon.models.embedders.cohere import CohereEmbedder\n",
    "cohere_embedder = CohereEmbedder()"
   ]
  },
  {
   "cell_type": "code",
   "execution_count": 27,
   "metadata": {},
   "outputs": [
    {
     "data": {
      "text/plain": [
       "768"
      ]
     },
     "execution_count": 27,
     "metadata": {},
     "output_type": "execute_result"
    }
   ],
   "source": [
    "cohere_embedder.get_embedding_size()"
   ]
  },
  {
   "cell_type": "code",
   "execution_count": 24,
   "metadata": {},
   "outputs": [
    {
     "name": "stdout",
     "output_type": "stream",
     "text": [
      "0\n",
      "1000\n",
      "1000\n",
      "1000\n",
      "2000\n",
      "1000\n",
      "3000\n",
      "1000\n",
      "4000\n",
      "1000\n",
      "5000\n",
      "1000\n",
      "6000\n",
      "1000\n",
      "7000\n",
      "1000\n",
      "8000\n",
      "1000\n",
      "9000\n",
      "1000\n",
      "10000\n",
      "1000\n",
      "11000\n",
      "1000\n",
      "12000\n",
      "1000\n",
      "13000\n",
      "1000\n",
      "14000\n",
      "1000\n",
      "15000\n",
      "1000\n",
      "16000\n",
      "1000\n",
      "17000\n",
      "1000\n",
      "18000\n",
      "1000\n",
      "19000\n",
      "1000\n",
      "20000\n",
      "1000\n",
      "21000\n",
      "1000\n",
      "22000\n",
      "1000\n",
      "23000\n",
      "1000\n",
      "24000\n",
      "1000\n",
      "25000\n",
      "1000\n",
      "26000\n",
      "1000\n",
      "27000\n",
      "1000\n",
      "28000\n",
      "1000\n",
      "29000\n",
      "1000\n",
      "30000\n",
      "1000\n",
      "31000\n",
      "1000\n",
      "32000\n",
      "1000\n",
      "33000\n",
      "1000\n",
      "34000\n",
      "1000\n",
      "35000\n",
      "1000\n",
      "36000\n",
      "1000\n",
      "37000\n",
      "1000\n",
      "38000\n",
      "1000\n",
      "39000\n",
      "1000\n",
      "40000\n",
      "1000\n",
      "41000\n",
      "1000\n",
      "42000\n",
      "1000\n",
      "43000\n",
      "608\n"
     ]
    }
   ],
   "source": [
    "import cohere\n",
    "co = cohere.Client('LeohkffIg5ucAxbMSfiCIhZ0RL9M2uuw0GVb99ZN')\n",
    "# batch list into lists of 1000 and merge embeddings into a single ist\n",
    "embedding_set = []\n",
    "for i in range(0, len(filtered_values), 1000):\n",
    "    print(i)\n",
    "    if i + 1000 < len(filtered_values):\n",
    "        response = co.embed(texts= filtered_values[i:i+1000],model='multilingual-22-12')\n",
    "    else:\n",
    "        response = co.embed(texts= filtered_values[i:],model='multilingual-22-12')\n",
    "    print(len(response.embeddings))\n",
    "    embeddings = response.embeddings\n",
    "    embedding_set.extend(embeddings)"
   ]
  },
  {
   "cell_type": "code",
   "execution_count": 28,
   "metadata": {},
   "outputs": [
    {
     "name": "stdout",
     "output_type": "stream",
     "text": [
      "Creating a new index from a list of embeddings and values\n",
      "10284  values in the index\n",
      "10284  embeddings in the index\n"
     ]
    }
   ],
   "source": [
    "akk_index = MemoryIndex(values=filtered_values, embeddings=embedding_set, name='akk_cohere_index', embedder=CohereEmbedder)"
   ]
  },
  {
   "cell_type": "code",
   "execution_count": 50,
   "metadata": {},
   "outputs": [
    {
     "data": {
      "text/plain": [
       "([\"For Enlil, the king of all lands, his master, Amar-Suena, whose name was proclaimed by Enlil in Nibru, the steadfast supporter of Enlil's temple, the powerful man, king of Urim, king of the four quarters, built the Kura-igi-ĝ̃al, the ziggurat temple, his beloved temple.\",\n",
       "  'In [the city Tarbiṣu ...]. As for its wall [... for] the god Nergal, my lord, [...] I ... [...]. The temple of the goddess Ištar my mistress [in the city Talmuššu] I restored. [Her] ziggurrat, the holy shrine, the peaceful abode, I [(re)constructed] inside the city Talmuššu for the goddess Ištar, mistress of the city Talmuššu. Egašankalamma, the temple of the goddess Ištar, mistress of the city Arbela, my mistress, and her ziggurrat I (re)built. The great ziggurrat I (re)built for the god Aššur my lord inside my city Aššur. The temple of the god Adad of the city Kaḫat and the god Adad of the city Isani, my lords, I (re)built. I made those cult centers (and) shrines better than previously, (re)built them from top to bottom, (and) made them magnificent. I deposited my monumental inscription.',\n",
       "  'For Ninĝirsu, the powerful warrior of Enlil, his master, Šulgi, the powerful man, king of Urim, king of Sumer and Akkad, built his tempel of Bagara.',\n",
       "  'We shall go [... in Te]bet (X). [As to the work] on the ziggurat, [x cour]ses of bricks have been l[aid ......',\n",
       "  'al and, to make (it) shine (like) a brazier, I had the appurtenance(s) of Ezida, the seat of his great divinity, expertly fashioned.  In (the gates) Kamaḫ and Kanamtila, for the processional way of his exalted rulership, I made the foundations of two shiny silver pirkus, whose weight is six talents each, as firm as a mountain. (As for) Emeslam, the temple of the god Nergal that is inside Cutha, which had become dilapidated and old, I renovated its collapsed section(s and) removed the portion(s) ',\n",
       "  'it, the measurement of the [small] courtyard. Total 1 1/2 (ikû) area in seed-measure using the arû cubit, the sum of both courtyards: the precinct of the six gates Ka-mah, Ka-Utu-ea, Ka-gal, Ka-Lammarabi, Ka-hegal, and Ka-ude-babbara, entrance to the god, which open around the Ubšukkinnakku courtyard for the rites of the temple. Esangila and the precinct of Ka-sikila are not calculated. For [you] to see the measurements of the base of (the ziggurat) Etemenanki, length and width. The length is 3 ',\n",
       "  'For Ningal, his lady, Amar-Suena, the powerful man, king of Urim, king of the four quarters, built the Ĝipar-kug, her beloved temple. He dedicated it to her for his well-being.',\n",
       "  'For Ĝatumdug, his lady, Gudea, ruler of Lagaš, devotee of Ĝatumdug, built her temple in Iri-kug. ',\n",
       "  'For Ninĝirsu, the powerful warrior of Enlil, his master, Šulgi, the powerful man, king of Urim, king of Sumer and Akkad, built his temple.',\n",
       "  'To Ninĝirsu, when he built for him the shrine of Ĝirsu, Ur-Nanše, king of Lagaš, child of Gunidu, dedicated this (door socket). He built the temple of Nanše. He built the Ebgal. He built the Kinir. He built the Bagara. He built the E-dam. He built the temple of Ĝatumdug. He built the Tiraš.'],\n",
       " [150.57541,\n",
       "  150.2074,\n",
       "  149.35847,\n",
       "  149.08466,\n",
       "  149.06866,\n",
       "  148.96994,\n",
       "  148.39197,\n",
       "  148.27176,\n",
       "  148.27158,\n",
       "  148.24594],\n",
       " array([[5577, 8161, 5464, 1720, 7237, 6424, 4941, 5299, 4925, 4984]]))"
      ]
     },
     "execution_count": 50,
     "metadata": {},
     "output_type": "execute_result"
    }
   ],
   "source": [
    "akk_index.faiss_query(\"Ziggurats and temples\")"
   ]
  },
  {
   "cell_type": "code",
   "execution_count": 47,
   "metadata": {},
   "outputs": [
    {
     "name": "stdout",
     "output_type": "stream",
     "text": [
      "Tale of the ascension of Sargon the Great and birth of the mighty Akkad\n",
      "(['ted] me with shepherding Assyria. At the beginning of [my] kingship, in my first year, when I sat in greatness on (my) royal throne, [go]od signs [were] established for me; [in] heaven and on ear[th, he (the god Marduk) constantly sent me his] omen(s). The angry [gods] were recon[ciled] (and) they repeatedly discl[os]ed favorable signs concerning the (re)buil[di]ng of Bab[yl]on (and) the renovation of E[sag]il. Bright Jupiter, the giver of decisions on Akkad, came near in Simānu (III) and stood ', 'The palace of Esarhaddon, great king, mighty king, king of the world, king of Assyria, governor of Babylon, king of Sumer and Akkad, (i 5) son of Sennacherib, king of Assyria, descendant of Sargon (II), king of Assyria, the king who with the help of the gods Aššur, Sîn, Šamaš, Nabû, Marduk, Ištar of Nineveh, (and) Ištar of Arbela, (i 10) the great gods, his lords, marched from the rising sun to the setting sun and had no equal (therein);  the one who conquered the city Sidon, which is in the mid', '[para]pet had collapsed and which had become unrecognizable, (and) whose reconstruction had not [occ]urred to the kings, (his) predecessors, [At that] time, the great lord, the god Marduk, had turned away in divine wrath from the land of Akkad, and the evil enemy, the Subarian, exercised the rule over the land of Akkad for [seve]n [years, unt]il the days had elapsed, the appointed time had arrived, (and) the great [lord], the god Marduk, became reconciled with the land of Akkad, with which he ha'], [155.4263, 153.65903, 153.47818], array([[8821, 6477, 8455]]))\n",
      "Inscription of the governance and rule in the vast Akkad\n",
      "(['ted] me with shepherding Assyria. At the beginning of [my] kingship, in my first year, when I sat in greatness on (my) royal throne, [go]od signs [were] established for me; [in] heaven and on ear[th, he (the god Marduk) constantly sent me his] omen(s). The angry [gods] were recon[ciled] (and) they repeatedly discl[os]ed favorable signs concerning the (re)buil[di]ng of Bab[yl]on (and) the renovation of E[sag]il. Bright Jupiter, the giver of decisions on Akkad, came near in Simānu (III) and stood ', 'Palace of Tiglath-pileser (III), great king, mighty king, king of the world, king of Assyria, king of Sumer <and> Akkad, king of the fo[ur] quarters (of the world), the one chosen by the glance of the god Enlil; the king who from the rising sun to the setting sun considered all of his enemies as (mere) ghosts and took control of (their) power; the one who exchanges the people of the upper land(s) with (those of) the lower land(s), the one who ousted their rulers (and) installed his governors (in', '[To the king, my lord: your servant Mar-Issar. Good [health to the king, my lord! May Nabû and Marduk bless] the king, [my lord! May the great gods bestow long days], well-being and [joy] upon the king, my lord! [The ...s of ...] and Uruk are not [doing] the w[ork and] not glazin[g the bricks ......]. I went and [......]: \"The inscri[ption ......]; why did you last year [...] but do not do [the work]?\" They said: \"[...] are glazing [......] commanded me [......].\" I said: \"[......] to the temple [......]\" [Furthermore], concerning [the Lady of Akkad about whom I] previously [wrote] t[o the king, my lord]: \"[She will come out and take up her residence] in the ak[ītu]-temple\" — I have now asked the pri[est ......]; he said \"...[......]\" I questioned him [......] which the delegate [......] and the man in charge of [......] [Let] the king, my lord, [...] the gods [...] The open country on the other side [of the river ...] the ...s of [......] the commandant of Uruk [......] the king of Elam into [......] whether there is [......] or there is not [......] [...] Na\\'id-Marduk ...[...] is proffering [...]. The king, my lord, should know this.'], [153.20805, 152.08249, 151.63104], array([[8821, 6740, 1173]]))\n",
      "Epic of the grandeur in artistry and customs across the Akkadian realm\n",
      "(['). I completed the sanctuaries of Assyria and the land Akkad in their entirety. I made every type of temple appurtenance there is from silver (and) gold, (and) I added (them) to those of the kings, my ancestors. (i 70´) I made the great gods who support me reside in their exalted inner sanctums. I offered sumptuous offerings before them (and) presented (them) with my gifts. I made regular offerings (and) contributions more plentiful than those of distant days. I had statues of my royal majesty s', \"[Šamšī-Adad, appointee of the god Enlil, vice-regent of the god Aššur]: When the god Itūr-Mēr heard my prayers and petitions and entrusted to me the entire land of Mari, the bank of the Euphrates, and its domains, I dedicated, devoted, and offered to him for his divine splendor a great throne of ebony which was methodically made with everything pertaining to the goldsmith's art (lit. ‘by gold and skilled craftsmen’).\", '(lines 1′–2′ too fragmentary for translation) [ ... , palm] shoots, [šulḫi]-reed, [Akk.:] [ ... ] [ ... ] ..., c[eda]r wood, mountain honey, [Akk.:] [ ... ] [ ... ] milk from the pure quay, [Akk.:] [ ... ] you put (it) into the p[ure] milk. [Akk.:] [ ... ] In the morn[ing], ... , at sunrise, [Akk.:] [ ... ] Figurines of warlo[ck (and) witch], [Akk.:] Figurines of wa[rlock (and) witch], you fashion two of clay, [Akk.:] ma[ke] two of cla[y], you fashion two of dough, [Akk.:] (Akkadian line uninscr'], [149.36937, 148.99374, 148.44792], array([[7132, 8012, 8733]]))\n",
      "Cuneiform tablet detailing the commerce and exchange of goods in Akkad\n",
      "(['Tablet of exchange between Anu-ah-ittannu, son of Dumqi-Anu, son of Rihat, descendant of Luštammar-Adad, and Nidintu-šarri, son of Rihat-Anu, a builder, in the undeveloped plot, the property of Anu, which is in the district of the Ištar Gate, which is in Uruk. They voluntarily exchanged with each other in the month of Abu, year 129, Seleucus (being) king, in perpetuity. The undeveloped plot of the property of Anu, in the district of the Ištar Gate, which is in Uruk: 18 cubits, the upper length t', 'The tablet of the exchange between Balaṭu son of Nidintu-Anu son of Anu-ah-ittannu (and) Kidin son of Anu-ah-ittannu, brother of Nidintu-Anu, descendants of Ekur-zakir of the developed house that is in the Šamaš-gate district in Uruk and (of) their own slaves; they mutually (and) voluntarily exchanged in perpetuity on the 26th of Arahšamnu, year 143 Antiochus (being) king. [This (is)] the share of Anu-ah-ittannu his father: the access-way of that house which is in the Šamaš-gate district that is', \"[Tablet of exchange which ...]-x, son of Nanaya-Iddin  [...] descendant of Luštammar-Adad, Ina-qibit-Anu [...] ... of that house. The total (is) one-fourth in that house [...] as much as there is, all of it, Kidin-Anu, son of Anu-ahhe-iddin, for exchange [... and of 8 1/4 shekels silver, with Illut-Anu in perpeptuity. [...] that house, as little or much as there is, all of it [... Ta]nittu-Anu, descendant of Ah'utu is [the house] of Illut-Anu [...] Nanaya-iddin, descendant of Hunzu, in perpetuity. Concerning their exchange, they will not renege from one another in perpetuity. Each one may divide his (part of the) exchange in perpetuity.  They mutually bear responsbility for clearing their exchange in perpetuity.  Each one took a (copy of the) document. [Witnesses: ...] son of Anu-ah-ittannu, descendant of Ah'utu. Anu-belšunu [... descendant of Ah]ʾutu.  label+ r 14 Kidin-Anu and Labaši, sons of Anu-mukin-apli, descendant of Ekur-zakir [...] descendant of Ah'utu.  Šibqat-Anu, son of Mušezib-Anu [...] son of Anu-mar-ittannu, descendant of Ekur-zakir [...]-ši, descendant of Ekur-zakir. Ina-qibit-Anu, son of Anu-uballiṭ [...] descendant of Ekur-zakir. Anu-ah-iddin, son of Anu-ikṣur, descendant of Kuri [... scribe, son of Anu-bel]šunu, descendant of Ekur-zakir. Uruk. Intercalary Addaru. 5th day, [xth year Anti]ochus (was) king.\"], [153.02252, 150.46533, 149.36893], array([[9716, 9942, 9922]]))\n",
      "Hymns and myths dedicated to the divine pantheon of the Akkadian Empire\n",
      "(['[In my city, the mountain of Sumer and Akkad], the protective shade of the universe, [In Duranki, the bond of heaven and earth, the city that is] the foundation of the entire inhabited world, (Sum) [At my royal dais] reposing [like an elephant at the obeisances of the gods], (Akk) [At my royal dais] reposing [like a wild bull at the obeisances of the gods], [At my shrine Nippur, the cultic place of supreme divinity, great wall] of [the land],', 'ctory his names over the four quarters, exalted priest, loved one of the god Sîn, the one who properly administered peoples and habitations with his just scepter, valiant hero, creature of the god Adad who, during his period of sovereignty, made plenteous produce abundant, strong male, favorite of the god Ninurta, the one who controlled all quarters with his strong might, the capable, the ferocious, loved one of the goddess Ištar, who regularly received the tribute of the eastern and western lan', 'late (them, and) to enlarge Assyrian territory; the god Sîn, lord of the crown, decreed heroic strength (and) robust force as my fate; the god Šamaš, the light of the gods, elevated my important name to the highest rank; the god Marduk, king of the gods, made the fear of my kingship (ii 35) sweep over the mountain regions like a dense fog; the god Nergal, mightiest of the gods, gave me fierceness, splendor, and terror as a gift; (and) the goddess Ištar, the lady of battle and war, gave me a migh'], [152.26022, 150.38467, 149.95654], array([[9454, 8210, 6476]]))\n",
      "Chronicle of the warriors and battles fought under the Akkadian banner\n",
      "(['governors and the people of the city Ekron who had thrown Padî, their king who was bound by treaty to Assyria, into iron fetters and who had handed him over to Hezekiah of the land Judah, they became frightened on account of the villaino[us acts] they had committed. They formed a confederation with the kings of Egypt (and) the archers, chariots, (and) horses of the king of the land Meluḫḫa, forces without number. In the plain of the city Eltekeh, I fought with them and defeated them. I captured ', 'in their environs. I brought out the auxiliary forces of the Arameans (and) Chaldeans who were in Uruk, Nippur, Kish, Ḫursagkalama, Cutha, (and) Sippar, together with the guilty citizens, and I counted (them) as booty. I placed Bēl-ibni, a son of a rab banî, on his royal throne (and) entrusted him with the people of Akkad. I appointed my eunuchs to be governors over all of the districts of Chaldea and I imposed the yoke of my lordship upon them. On my return march, I defeated all together the Tu', 'ad heard mention. (Thus) I made them bow down to the yoke of my lordship. On my third campaign, I marched to the land Ḫatti. (ii 60) Fear of my lordly brilliance overwhelmed Lulî, the king of the city Sidon, and he fled afar into the midst of the sea and disappeared. The awesome terror of the weapon of the god Aššur, my lord, overwhelmed the cities Great Sidon, Lesser Sidon, Bīt-Zitti, Ṣarepta, Maḫalliba, Ušû, (ii 65) Akzibu, (and) Acco, his fortified cities (and) fortresses, an area of pasture('], [151.1359, 150.23528, 150.12347], array([[6961, 6801, 6859]]))\n",
      "The lament for the decline and eventual fall of our esteemed Akkad\n",
      "(['[To the king], my lord: your servant Mar-Issar. Good health [to the king], my [lord]! May Nabû and Marduk [bless] the king, my lord! May [the great god]s bestow long days, well-being and joy upon the king, my lord! When the Lady [o]f Akkad went away to Elam, her assets [we]re taken over, the fields and personnel of the temple passing under the [...]s. When the king, my lord, [res]ettled the city of Akkad, he sent a sealed order to the deputy major-domo [of] Lahiru: \"Deliver the [reg]ular offerings [of the god]! They should be adv[anced] to Akkad!\" For [x] years they delivered them, but (now) they are cu[tti]ng them off; [so f]ar they have not delivered them since [the king, my lord], posted me to the city of Akkad. [......] the temple [...] [......]. Let them bring [...] and syste[matically ins]tall [......]. If it plea[ses the king, my lord], let them appoint in Akkad either a eunuch [or a ...]. At the time of this service, let them provide [... for the offerings] and the rites, [and when the god ...] and lets off [...]. Otherwise, when [......], I would be informing without being heard. [The king, my lord, knows that I am] but a dog of the king, my lord, and that I am loyal [to the king], my lord. I have [now] written [to] the king, my lord; let [the king, my lord], do as it pleases him until the assets of the temple have been collected (again).', '[para]pet had collapsed and which had become unrecognizable, (and) whose reconstruction had not [occ]urred to the kings, (his) predecessors, [At that] time, the great lord, the god Marduk, had turned away in divine wrath from the land of Akkad, and the evil enemy, the Subarian, exercised the rule over the land of Akkad for [seve]n [years, unt]il the days had elapsed, the appointed time had arrived, (and) the great [lord], the god Marduk, became reconciled with the land of Akkad, with which he ha', '[Venus became visible] in the west in the path of [...] [If Venus] becomes visible [......]: there will be no [......]. [......] west [......] good for Akkad. [From Aplay]a of Borsippa.'], [149.87408, 149.70927, 148.5234], array([[2467, 8455,  670]]))\n",
      "The legacy and enduring impact of Akkad, as remembered by the river Euphrates\n",
      "(['[...] ... [(...) None among my ancestors had paid attenti]on (to it) and (re)built (it). [I completely (re)built this Akītu (temple)]. I had (this temple) (re)built and dedi[cated] (it) to the gods Adad [and Mīšarum, the great gods], my [lord]s, in order to [ensure my good health (and) the well-being of my offspring, to prolo]ng my days, to con[firm my reign, (and) to defeat the land of my enemy]. [The palace of Enamḫe-zēra-ibni], governor of the land of Sūḫu and the land of M[ari, (which is located in) the district of the city Raʾil, which is in the middle of the ri]ver Euphrates, [had become] o[ld and I abandoned it. I built] another palace [above it: 64 cubits is] its length (and) 12 [1/2] cubits [is its width. ...] ... [...]', 'The remainder of the numerous animals [and the winged birds of the sky, wild game which he acquired], their names [are not written] with [these] animals, [their numbers are not written with these numbers]. By the command of the gods Aššur (and) Adad, [the great gods, my lords, ... in pursuit of] the Arameans, which [twice] in one year [I crossed the Euphrates]. The Sutu, Naa[...] who [live] at the foot of Mount Lebanon [... in rafts] (made of inflated) goatskins [I crossed the Euphrates. I conquered the city ... which (is) (on the opposite bank of the Euphrates)], on the River Saggurru. At that time the region of [the Aḫlamu which ...] numerous [...] (traces)', 'ute. In my sixth regnal year I approached the cities on the banks of the River Baliḫ. They killed Giammu, their city ruler. I entered the city Tīl-turaḫi. I carried off his numerous possessions, (30) together with his palace women (and) took the city as my own. I crossed the Euphrates in flood (and) received tribute from all the kings of the land Ḫatti. At that time Hadad-ezer (Adad-idri), the Damascene, Irḫulēnu, the Ḫamatite, together with the kings of Ḫatti and on the shore of the sea, trusti'], [150.01431, 150.0105, 150.00867], array([[6452, 8318, 7788]]))\n"
     ]
    }
   ],
   "source": [
    "akkadian_queries = [\n",
    "    \"Tale of the ascension of Sargon the Great and birth of the mighty Akkad\",\n",
    "    \"Inscription of the governance and rule in the vast Akkad\",\n",
    "    \"Epic of the grandeur in artistry and customs across the Akkadian realm\",\n",
    "    \"Cuneiform tablet detailing the commerce and exchange of goods in Akkad\",\n",
    "    \"Hymns and myths dedicated to the divine pantheon of the Akkadian Empire\",\n",
    "    \"Chronicle of the warriors and battles fought under the Akkadian banner\",\n",
    "    \"The lament for the decline and eventual fall of our esteemed Akkad\",\n",
    "    \"The legacy and enduring impact of Akkad, as remembered by the river Euphrates\"\n",
    "]\n",
    "\n",
    "\n",
    "for q in akkadian_queries:\n",
    "    print(q)\n",
    "    print(akk_index.faiss_query(q, k=3))\n",
    "     "
   ]
  },
  {
   "cell_type": "code",
   "execution_count": 16,
   "metadata": {},
   "outputs": [],
   "source": [
    "from babydragon.chat.memory_chat import FifoChat\n"
   ]
  },
  {
   "cell_type": "code",
   "execution_count": 18,
   "metadata": {},
   "outputs": [
    {
     "name": "stdout",
     "output_type": "stream",
     "text": [
      "Index is available so using index prompts\n"
     ]
    }
   ],
   "source": [
    "chatbot = FifoChat(model= \"command\", index_dict = {\"akk_cohere_index\":akk_index}, name=\"babyd_chatbot\", max_index_memory = 2500, max_output_tokens= 400)"
   ]
  },
  {
   "cell_type": "code",
   "execution_count": 19,
   "metadata": {},
   "outputs": [
    {
     "name": "stdout",
     "output_type": "stream",
     "text": [
      "Trying to call Cohere API... using model: command\n"
     ]
    },
    {
     "data": {
      "text/markdown": [
       "#### Question: \n",
       " What is the meaning of life?"
      ],
      "text/plain": [
       "<IPython.core.display.Markdown object>"
      ]
     },
     "metadata": {},
     "output_type": "display_data"
    },
    {
     "data": {
      "text/markdown": [
       " #### Anwser: \n",
       " \n",
       "According to Hinduism, the meaning of life is to realize that one's soul is identical to the supreme soul, that the supreme soul is present in everything and everyone, all life is interconnected and there is oneness in all life."
      ],
      "text/plain": [
       "<IPython.core.display.Markdown object>"
      ]
     },
     "metadata": {},
     "output_type": "display_data"
    },
    {
     "data": {
      "text/plain": [
       "\"\\nAccording to Hinduism, the meaning of life is to realize that one's soul is identical to the supreme soul, that the supreme soul is present in everything and everyone, all life is interconnected and there is oneness in all life.\""
      ]
     },
     "execution_count": 19,
     "metadata": {},
     "output_type": "execute_result"
    }
   ],
   "source": [
    "chatbot.reply(\"What is the meaning of life?\")"
   ]
  }
 ],
 "metadata": {
  "kernelspec": {
   "display_name": "Python 3",
   "language": "python",
   "name": "python3"
  },
  "language_info": {
   "codemirror_mode": {
    "name": "ipython",
    "version": 3
   },
   "file_extension": ".py",
   "mimetype": "text/x-python",
   "name": "python",
   "nbconvert_exporter": "python",
   "pygments_lexer": "ipython3",
   "version": "3.10.0"
  },
  "orig_nbformat": 4
 },
 "nbformat": 4,
 "nbformat_minor": 2
}
