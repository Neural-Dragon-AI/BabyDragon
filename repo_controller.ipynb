{
 "cells": [
  {
   "cell_type": "code",
   "execution_count": 3,
   "metadata": {},
   "outputs": [
    {
     "name": "stdout",
     "output_type": "stream",
     "text": [
      "Folder structure created.\n"
     ]
    }
   ],
   "source": [
    "import os\n",
    "\n",
    "folders = [\n",
    "    \"tests\",\n",
    "    \"babydragon\",\n",
    "    \"babydragon/core\",\n",
    "    \"babydragon/oaiutils\",\n",
    "    \"babydragon/chat\",\n",
    "    \"babydragon/pandas_integration\",\n",
    "    \"babydragon/fifo_vector_chat\",\n",
    "]\n",
    "\n",
    "files = [\n",
    "    \"README.md\",\n",
    "    \"LICENSE\",\n",
    "    \".gitignore\",\n",
    "    \"setup.py\",\n",
    "    \"requirements.txt\",\n",
    "    \"tests/__init__.py\",\n",
    "    \"tests/test_memory_thread.py\",\n",
    "    \"tests/test_vector_index.py\",\n",
    "    \"tests/test_chat.py\",\n",
    "    \"tests/test_pandas_integration.py\",\n",
    "    \"babydragon/__init__.py\",\n",
    "    \"babydragon/core/__init__.py\",\n",
    "    \"babydragon/core/memory_thread.py\",\n",
    "    \"babydragon/core/vector_index.py\",\n",
    "    \"babydragon/oaiutils/__init__.py\",\n",
    "    \"babydragon/oaiutils/utilspy\",\n",
    "    \"babydragon/chat/__init__.py\",\n",
    "    \"babydragon/chat/chat.py\",\n",
    "    \"babydragon/pandas_integration/__init__.py\",\n",
    "    \"babydragon/pandas_integration/pandas_vector_index.py\",\n",
    "    \"babydragon/pandas_integration/pandas_chat.py\",\n",
    "    \"babydragon/fifo_vector_chat/__init__.py\",\n",
    "    \"babydragon/fifo_vector_chat/fifo_vector_chat.py\",\n",
    "]\n",
    "\n",
    "for folder in folders:\n",
    "    os.makedirs(folder, exist_ok=True)\n",
    "\n",
    "for file in files:\n",
    "    open(file, \"w\").close()\n",
    "\n",
    "print(\"Folder structure created.\")"
   ]
  }
 ],
 "metadata": {
  "kernelspec": {
   "display_name": "Python 3",
   "language": "python",
   "name": "python3"
  },
  "language_info": {
   "codemirror_mode": {
    "name": "ipython",
    "version": 3
   },
   "file_extension": ".py",
   "mimetype": "text/x-python",
   "name": "python",
   "nbconvert_exporter": "python",
   "pygments_lexer": "ipython3",
   "version": "3.10.6"
  },
  "orig_nbformat": 4
 },
 "nbformat": 4,
 "nbformat_minor": 2
}
