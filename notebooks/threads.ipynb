{
 "cells": [
  {
   "attachments": {},
   "cell_type": "markdown",
   "metadata": {},
   "source": [
    "# BabyDragon Threads\n",
    "The BaseThread class is a utility class for managing the memory thread of a conversation and keeping track of the total number of tokens. You can use this class to store, find, and manage conversation messages. The memory thread can have a maximum token limit, or it can be unlimited.\n",
    "\n",
    "## Initialization\n",
    "The __init__() method initializes the BaseThread instance with a name, maximum token limit, and a tokenizer. By default, the name is set to \"memory\", the maximum token limit is set to None (unlimited), and the tokenizer is set to the tiktoken encoding for the 'gpt-3.5-turbo' model."
   ]
  },
  {
   "cell_type": "code",
   "execution_count": 1,
   "metadata": {},
   "outputs": [],
   "source": [
    "from babydragon.memory.threads.base_thread import BaseThread\n",
    "memory_thread = BaseThread()"
   ]
  },
  {
   "attachments": {},
   "cell_type": "markdown",
   "metadata": {},
   "source": [
    "## Add and Remove Messages\n",
    "Use the add_message() method to add a message to the memory thread. The message should be a dictionary containing the role and content of the message. If the total tokens in the memory thread would exceed the maximum token limit after adding the message, the message will not be added."
   ]
  },
  {
   "cell_type": "code",
   "execution_count": 2,
   "metadata": {},
   "outputs": [],
   "source": [
    "message = {\"role\": \"user\", \"content\": \"Hello, how are you?\"}\n",
    "memory_thread.add_message(message)\n"
   ]
  },
  {
   "attachments": {},
   "cell_type": "markdown",
   "metadata": {},
   "source": [
    "To remove a message from the memory thread, use the remove_message() method. You can either provide the message dictionary or the index of the message in the memory thread.\n"
   ]
  },
  {
   "cell_type": "code",
   "execution_count": null,
   "metadata": {},
   "outputs": [],
   "source": [
    "memory_thread.remove_message(message_dict=message)\n",
    "# or\n",
    "memory_thread.remove_message(idx=0)\n"
   ]
  },
  {
   "attachments": {},
   "cell_type": "markdown",
   "metadata": {},
   "source": [
    "## Find Messages\n",
    "The class provides several methods for finding messages in the memory thread, such as:\n",
    "\n",
    "* find_message(): Finds a message based on its content or the message dictionary.\n",
    "* find_role(): Finds all messages with a specific role in the memory thread.\n",
    "* last_message(): Gets the last message in the memory thread with a specific role.\n",
    "* first_message(): Gets the first message in the memory thread with a specific role.\n",
    "* messages_before(): Gets all messages before a specific message in the memory thread with a specific role.\n",
    "* messages_after(): Gets all messages after a specific message in the memory thread with a specific role.\n",
    "* messages_between(): Gets all messages between two specific messages in the memory thread with a specific role.\n",
    "Here are examples of how to use these methods:"
   ]
  },
  {
   "cell_type": "code",
   "execution_count": 3,
   "metadata": {},
   "outputs": [
    {
     "ename": "AttributeError",
     "evalue": "'BaseThread' object has no attribute 'messages_after'",
     "output_type": "error",
     "traceback": [
      "\u001b[0;31m---------------------------------------------------------------------------\u001b[0m",
      "\u001b[0;31mAttributeError\u001b[0m                            Traceback (most recent call last)",
      "Cell \u001b[0;32mIn[3], line 17\u001b[0m\n\u001b[1;32m     14\u001b[0m messages_before \u001b[39m=\u001b[39m memory_thread\u001b[39m.\u001b[39mmessages_before(last_user_message, role\u001b[39m=\u001b[39m\u001b[39m\"\u001b[39m\u001b[39muser\u001b[39m\u001b[39m\"\u001b[39m)\n\u001b[1;32m     16\u001b[0m \u001b[39m# Get all messages after a specific message with a specific role (e.g., \"user\")\u001b[39;00m\n\u001b[0;32m---> 17\u001b[0m messages_after \u001b[39m=\u001b[39m memory_thread\u001b[39m.\u001b[39;49mmessages_after(first_user_message, role\u001b[39m=\u001b[39m\u001b[39m\"\u001b[39m\u001b[39muser\u001b[39m\u001b[39m\"\u001b[39m)\n\u001b[1;32m     19\u001b[0m \u001b[39m# Get all messages between two specific messages with a specific role (e.g., \"user\")\u001b[39;00m\n\u001b[1;32m     20\u001b[0m messages_between \u001b[39m=\u001b[39m memory_thread\u001b[39m.\u001b[39mmessages_between(first_user_message, last_user_message, role\u001b[39m=\u001b[39m\u001b[39m\"\u001b[39m\u001b[39muser\u001b[39m\u001b[39m\"\u001b[39m)\n",
      "\u001b[0;31mAttributeError\u001b[0m: 'BaseThread' object has no attribute 'messages_after'"
     ]
    }
   ],
   "source": [
    "# Find a message with specific content\n",
    "search_results = memory_thread.find_message(\"Hello, how are you?\")\n",
    "\n",
    "# Find all messages with a specific role (e.g., \"user\")\n",
    "user_messages = memory_thread.find_role(\"user\")\n",
    "\n",
    "# Get the last message with a specific role (e.g., \"user\")\n",
    "last_user_message = memory_thread.last_message(role=\"user\")\n",
    "\n",
    "# Get the first message with a specific role (e.g., \"user\")\n",
    "first_user_message = memory_thread.first_message(role=\"user\")\n",
    "\n",
    "# Get all messages before a specific message with a specific role (e.g., \"user\")\n",
    "messages_before = memory_thread.messages_before(last_user_message, role=\"user\")\n",
    "\n",
    "# Get all messages after a specific message with a specific role (e.g., \"user\")\n",
    "messages_after = memory_thread.messages_after(first_user_message, role=\"user\")\n",
    "\n",
    "# Get all messages between two specific messages with a specific role (e.g., \"user\")\n",
    "messages_between = memory_thread.messages_between(first_user_message, last_user_message, role=\"user\")\n"
   ]
  },
  {
   "attachments": {},
   "cell_type": "markdown",
   "metadata": {},
   "source": [
    "## Filter Messages Based on Tokens and Time\n",
    "These methods allow you to filter messages in the memory thread based on the number of tokens and timestamps.\n",
    "\n",
    "messages_before_time(time_stamp, role: Union[str, None] = None)\n",
    "This method returns all messages before a specific time in the memory thread with a specific role. The time_stamp parameter is a Unix timestamp (float). If the role parameter is not provided, it will return messages with any role."
   ]
  },
  {
   "cell_type": "code",
   "execution_count": null,
   "metadata": {},
   "outputs": [],
   "source": [
    "filtered_messages = thread.messages_before_time(1629332523.123456, role=\"user\")\n"
   ]
  },
  {
   "attachments": {},
   "cell_type": "markdown",
   "metadata": {},
   "source": [
    "messages_after_time(time_stamp, role: Union[str, None] = None)\n",
    "This method returns all messages after a specific time in the memory thread with a specific role. The time_stamp parameter is a Unix timestamp (float). If the role parameter is not provided, it will return messages with any role."
   ]
  },
  {
   "cell_type": "code",
   "execution_count": null,
   "metadata": {},
   "outputs": [],
   "source": [
    "filtered_messages = thread.messages_after_time(1629332523.123456, role=\"assistant\")"
   ]
  },
  {
   "attachments": {},
   "cell_type": "markdown",
   "metadata": {},
   "source": [
    "messages_between_time(start_time, end_time, role: Union[str, None] = None)\n",
    "This method returns all messages between two specific times in the memory thread with a specific role. The start_time and end_time parameters are Unix timestamps (float). If the role parameter is not provided, it will return messages with any role.\n"
   ]
  },
  {
   "cell_type": "code",
   "execution_count": null,
   "metadata": {},
   "outputs": [],
   "source": [
    "filtered_messages = thread.messages_between_time(1629332523.123456, 1629332600.123456, role=\"user\")"
   ]
  },
  {
   "attachments": {},
   "cell_type": "markdown",
   "metadata": {},
   "source": [
    "## Token Bound History\n",
    "The following method is used to get the most recent messages from the memory thread within a specified token limit.\n",
    "\n",
    "token_bound_history(max_tokens: int, max_history=None, role: Union[str, None] = None)\n",
    "This method returns a tuple of messages and their indices that fit within the max_tokens limit, from the most recent messages in the memory thread with a specific role. If the role parameter is not provided, it will return messages with any role. The max_history parameter, if provided, limits the search to the most recent max_history messages."
   ]
  },
  {
   "cell_type": "code",
   "execution_count": null,
   "metadata": {},
   "outputs": [],
   "source": [
    "messages, indices = thread.token_bound_history(50, max_history=10, role=\"user\")\n"
   ]
  },
  {
   "attachments": {},
   "cell_type": "markdown",
   "metadata": {},
   "source": [
    "## Example Usage of BaseThread Class\n",
    "Here's an example of how to use the BaseThread class in a conversation:"
   ]
  },
  {
   "cell_type": "code",
   "execution_count": null,
   "metadata": {},
   "outputs": [],
   "source": [
    "# Create a new instance of the BaseThread class with a max_memory of 100 tokens\n",
    "thread = BaseThread(max_memory=100)\n",
    "\n",
    "# Add messages to the memory thread\n",
    "thread.add_message({\"role\": \"user\", \"content\": \"What is the capital of France?\"})\n",
    "thread.add_message({\"role\": \"assistant\", \"content\": \"The capital of France is Paris.\"})\n",
    "thread.add_message({\"role\": \"user\", \"content\": \"What is the population of Paris?\"})\n",
    "thread.add_message({\"role\": \"assistant\", \"content\": \"The population of Paris is about 2.2 million people.\"})\n",
    "\n",
    "# Find the last message with role 'user'\n",
    "last_user_message = thread.last_message(role=\"user\")\n",
    "print(\"Last user message:\", last_user_message)\n",
    "\n",
    "# Find all messages with role 'assistant'\n",
    "assistant_messages = thread.find_role(role=\"assistant\")\n",
    "print(\"Assistant messages:\", assistant_messages)\n",
    "\n",
    "# Remove a message by index\n",
    "thread.remove_message(idx=1)\n",
    "\n",
    "# Add a message that exceeds the max_memory limit\n",
    "thread.add_message({\"role\": \"assistant\", \"content\": \"This message is too long and will not be added to the memory thread.\"})\n",
    "\n",
    "# Get messages with more than 10 tokens\n",
    "long_messages = thread.messages_more_tokens(10)\n",
    "print(\"Messages with more than 10 tokens:\", long_messages)\n",
    "\n",
    "# Filter messages before a specific time\n",
    "messages_before_time = thread.messages_before_time(1629332523.123456, role=\"user\")\n",
    "print(\"Messages before time:\", messages_before_time)\n",
    "\n",
    "# Filter messages after a specific time\n",
    "messages_after_time = thread.messages_after_time(1629332523.123456, role=\"assistant\")\n",
    "print(\"Messages after time:\", messages_after_time)\n",
    "\n",
    "# Filter messages between two specific times\n",
    "messages_between_time = thread.messages_between_time(1629332523.123456, 1629334500.234567, role=\"user\")\n",
    "print(\"Messages between time:\", messages_between_time)\n"
   ]
  },
  {
   "attachments": {},
   "cell_type": "markdown",
   "metadata": {},
   "source": []
  }
 ],
 "metadata": {
  "kernelspec": {
   "display_name": "Python 3",
   "language": "python",
   "name": "python3"
  },
  "language_info": {
   "codemirror_mode": {
    "name": "ipython",
    "version": 3
   },
   "file_extension": ".py",
   "mimetype": "text/x-python",
   "name": "python",
   "nbconvert_exporter": "python",
   "pygments_lexer": "ipython3",
   "version": "3.11.3"
  },
  "orig_nbformat": 4
 },
 "nbformat": 4,
 "nbformat_minor": 2
}
