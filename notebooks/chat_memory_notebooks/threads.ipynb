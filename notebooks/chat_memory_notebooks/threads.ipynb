{
 "cells": [
  {
   "attachments": {},
   "cell_type": "markdown",
   "metadata": {},
   "source": [
    "# BabyDragon Threads\n",
    "The `BaseThread` class is a utility class for managing the memory thread of a conversation and keeping track of the total number of tokens. You can use this class to store, find, and manage conversation messages. The memory thread can have a maximum token limit, or it can be unlimited. After the limit is reached no more messages can be added.\n",
    "\n",
    "## Initialization\n",
    "The `__init__()` method initializes the `BaseThread` instance with a name, maximum token limit, and a tokenizer. By default, the name is set to \"memory\", the maximum token limit is set to None (unlimited), and the tokenizer is set to the tiktoken encoding for the 'gpt-3.5-turbo' model."
   ]
  },
  {
   "cell_type": "code",
   "execution_count": 1,
   "metadata": {},
   "outputs": [],
   "source": [
    "from babydragon.memory.threads.base_thread import BaseThread\n",
    "\n",
    "thread = BaseThread(name=\"memory_thread\", max_memory=None)"
   ]
  },
  {
   "attachments": {},
   "cell_type": "markdown",
   "metadata": {},
   "source": [
    "## Add and Remove Messages\n",
    "Use the `add_message()` method to add a message to the memory thread. The message should be a dictionary containing the role and content of the message. If the total tokens in the memory thread would exceed the maximum token limit after adding the message, the message will not be added."
   ]
  },
  {
   "cell_type": "code",
   "execution_count": 3,
   "metadata": {},
   "outputs": [
    {
     "name": "stdout",
     "output_type": "stream",
     "text": [
      "shape: (1, 4)\n",
      "┌──────┬─────────────────────┬───────────┬──────────────┐\n",
      "│ role ┆ content             ┆ timestamp ┆ tokens_count │\n",
      "│ ---  ┆ ---                 ┆ ---       ┆ ---          │\n",
      "│ str  ┆ str                 ┆ f64       ┆ u16          │\n",
      "╞══════╪═════════════════════╪═══════════╪══════════════╡\n",
      "│ user ┆ Hello, how are you? ┆ 1.6921e9  ┆ 13           │\n",
      "└──────┴─────────────────────┴───────────┴──────────────┘\n"
     ]
    }
   ],
   "source": [
    "message = {\"role\": \"user\", \"content\": \"Hello, how are you?\"}\n",
    "thread.add_dict_to_thread(message)\n",
    "print(thread.memory_thread)"
   ]
  },
  {
   "attachments": {},
   "cell_type": "markdown",
   "metadata": {},
   "source": [
    "To remove a message from the memory thread, use the `remove_message()` method. You can either provide the message dictionary:\n"
   ]
  },
  {
   "cell_type": "code",
   "execution_count": 4,
   "metadata": {},
   "outputs": [
    {
     "name": "stdout",
     "output_type": "stream",
     "text": [
      "shape: (0, 4)\n",
      "┌──────┬─────────┬───────────┬──────────────┐\n",
      "│ role ┆ content ┆ timestamp ┆ tokens_count │\n",
      "│ ---  ┆ ---     ┆ ---       ┆ ---          │\n",
      "│ str  ┆ str     ┆ f64       ┆ u16          │\n",
      "╞══════╪═════════╪═══════════╪══════════════╡\n",
      "└──────┴─────────┴───────────┴──────────────┘\n"
     ]
    }
   ],
   "source": [
    "thread.remove_dict_from_thread(message_dict=message)\n",
    "print(thread.memory_thread)"
   ]
  },
  {
   "attachments": {},
   "cell_type": "markdown",
   "metadata": {},
   "source": [
    "or the `idx` of the message in the memory thread:"
   ]
  },
  {
   "cell_type": "code",
   "execution_count": 5,
   "metadata": {},
   "outputs": [
    {
     "name": "stdout",
     "output_type": "stream",
     "text": [
      "shape: (0, 4)\n",
      "┌──────┬─────────┬───────────┬──────────────┐\n",
      "│ role ┆ content ┆ timestamp ┆ tokens_count │\n",
      "│ ---  ┆ ---     ┆ ---       ┆ ---          │\n",
      "│ str  ┆ str     ┆ f64       ┆ u16          │\n",
      "╞══════╪═════════╪═══════════╪══════════════╡\n",
      "└──────┴─────────┴───────────┴──────────────┘\n"
     ]
    }
   ],
   "source": [
    "message = {\"role\": \"user\", \"content\": \"Hello, how are you?\"}\n",
    "thread.add_dict_to_thread(message)\n",
    "thread.remove_dict_from_thread(idx=0)\n",
    "print(thread.memory_thread)"
   ]
  },
  {
   "attachments": {},
   "cell_type": "markdown",
   "metadata": {},
   "source": [
    "Let's add a few more messages to use in the next examples:"
   ]
  },
  {
   "cell_type": "code",
   "execution_count": 6,
   "metadata": {},
   "outputs": [
    {
     "name": "stdout",
     "output_type": "stream",
     "text": [
      "shape: (8,)\n",
      "Series: 'role' [str]\n",
      "[\n",
      "\t\"user\"\n",
      "\t\"assistant\"\n",
      "\t\"user\"\n",
      "\t\"assistant\"\n",
      "\t\"user\"\n",
      "\t\"assistant\"\n",
      "\t\"user\"\n",
      "\t\"assistant\"\n",
      "]\n",
      "shape: (8,)\n",
      "Series: 'content' [str]\n",
      "[\n",
      "\t\"Hello, how are…\n",
      "\t\"I'm fine, than…\n",
      "\t\"What's your na…\n",
      "\t\"My name is Bab…\n",
      "\t\"Nice to meet y…\n",
      "\t\"Nice to meet y…\n",
      "\t\"Hello, how are…\n",
      "\t\"Hello, how are…\n",
      "]\n",
      "shape: (8,)\n",
      "Series: 'timestamp' [f64]\n",
      "[\n",
      "\t1.6921e9\n",
      "\t1.6921e9\n",
      "\t1.6921e9\n",
      "\t1.6921e9\n",
      "\t1.6921e9\n",
      "\t1.6921e9\n",
      "\t1.6921e9\n",
      "\t1.6921e9\n",
      "]\n",
      "shape: (8,)\n",
      "Series: 'tokens_count' [u16]\n",
      "[\n",
      "\t13\n",
      "\t13\n",
      "\t12\n",
      "\t13\n",
      "\t12\n",
      "\t13\n",
      "\t13\n",
      "\t13\n",
      "]\n"
     ]
    }
   ],
   "source": [
    "thread = BaseThread(name=\"memory_thread\", max_memory=None)\n",
    "thread.add_dict_to_thread({\"role\": \"user\", \"content\": \"Hello, how are you?\"})\n",
    "thread.add_dict_to_thread({\"role\": \"assistant\", \"content\": \"I'm fine, thanks.\"})\n",
    "thread.add_dict_to_thread({\"role\": \"user\", \"content\": \"What's your name?\"})\n",
    "thread.add_dict_to_thread({\"role\": \"assistant\", \"content\": \"My name is BabyDragon.\"})\n",
    "thread.add_dict_to_thread({\"role\": \"user\", \"content\": \"Nice to meet you.\"})\n",
    "thread.add_dict_to_thread({\"role\": \"assistant\", \"content\": \"Nice to meet you too.\"})\n",
    "thread.add_dict_to_thread({\"role\": \"user\", \"content\": \"Hello, how are you?\"})\n",
    "thread.add_dict_to_thread({\"role\": \"assistant\", \"content\": \"Hello, how are you?\"})\n",
    "\n",
    "for memory in thread.memory_thread:\n",
    "    print(memory)"
   ]
  },
  {
   "attachments": {},
   "cell_type": "markdown",
   "metadata": {},
   "source": [
    "## Find Messages\n",
    "The class provides several methods for finding messages in the memory thread, such as:\n",
    "\n",
    "`find_message(\"string\" or Dict, role)`: Finds a message based on exaxt match of the content or the message dictionary.\n"
   ]
  },
  {
   "cell_type": "code",
   "execution_count": 8,
   "metadata": {},
   "outputs": [
    {
     "name": "stdout",
     "output_type": "stream",
     "text": [
      "shape: (3,)\n",
      "Series: 'role' [str]\n",
      "[\n",
      "\t\"user\"\n",
      "\t\"user\"\n",
      "\t\"assistant\"\n",
      "]\n",
      "shape: (3,)\n",
      "Series: 'content' [str]\n",
      "[\n",
      "\t\"Hello, how are…\n",
      "\t\"Hello, how are…\n",
      "\t\"Hello, how are…\n",
      "]\n",
      "shape: (3,)\n",
      "Series: 'timestamp' [f64]\n",
      "[\n",
      "\t1.6921e9\n",
      "\t1.6921e9\n",
      "\t1.6921e9\n",
      "]\n",
      "shape: (3,)\n",
      "Series: 'tokens_count' [u16]\n",
      "[\n",
      "\t13\n",
      "\t13\n",
      "\t13\n",
      "]\n"
     ]
    }
   ],
   "source": [
    "search_results = thread.find_message(\"Hello, how are you?\")\n",
    "for result in search_results:\n",
    "    print(result)"
   ]
  },
  {
   "attachments": {},
   "cell_type": "markdown",
   "metadata": {},
   "source": [
    "You can further filter the search by the `role`:"
   ]
  },
  {
   "cell_type": "code",
   "execution_count": 9,
   "metadata": {},
   "outputs": [
    {
     "name": "stdout",
     "output_type": "stream",
     "text": [
      "shape: (3,)\n",
      "Series: 'role' [str]\n",
      "[\n",
      "\t\"user\"\n",
      "\t\"user\"\n",
      "\t\"assistant\"\n",
      "]\n",
      "shape: (3,)\n",
      "Series: 'content' [str]\n",
      "[\n",
      "\t\"Hello, how are…\n",
      "\t\"Hello, how are…\n",
      "\t\"Hello, how are…\n",
      "]\n",
      "shape: (3,)\n",
      "Series: 'timestamp' [f64]\n",
      "[\n",
      "\t1.6921e9\n",
      "\t1.6921e9\n",
      "\t1.6921e9\n",
      "]\n",
      "shape: (3,)\n",
      "Series: 'tokens_count' [u16]\n",
      "[\n",
      "\t13\n",
      "\t13\n",
      "\t13\n",
      "]\n"
     ]
    }
   ],
   "source": [
    "search_results = thread.find_message(\"Hello, how are you?\")\n",
    "for result in search_results:\n",
    "    print(result)"
   ]
  },
  {
   "attachments": {},
   "cell_type": "markdown",
   "metadata": {},
   "source": [
    "Or you can directly pass a dictionary defining both the `content` and the `role`:"
   ]
  },
  {
   "cell_type": "code",
   "execution_count": 10,
   "metadata": {},
   "outputs": [
    {
     "name": "stdout",
     "output_type": "stream",
     "text": [
      "shape: (2,)\n",
      "Series: 'role' [str]\n",
      "[\n",
      "\t\"user\"\n",
      "\t\"user\"\n",
      "]\n",
      "shape: (2,)\n",
      "Series: 'content' [str]\n",
      "[\n",
      "\t\"Hello, how are…\n",
      "\t\"Hello, how are…\n",
      "]\n",
      "shape: (2,)\n",
      "Series: 'timestamp' [f64]\n",
      "[\n",
      "\t1.6921e9\n",
      "\t1.6921e9\n",
      "]\n",
      "shape: (2,)\n",
      "Series: 'tokens_count' [u16]\n",
      "[\n",
      "\t13\n",
      "\t13\n",
      "]\n"
     ]
    }
   ],
   "source": [
    "message = {\"role\": \"user\", \"content\": \"Hello, how are you?\"}\n",
    "search_results = thread.find_message(message)\n",
    "for result in search_results:\n",
    "    print(result)"
   ]
  },
  {
   "attachments": {},
   "cell_type": "markdown",
   "metadata": {},
   "source": [
    "`find_role(role:str)`: Finds all messages with a specific role in the memory thread."
   ]
  },
  {
   "cell_type": "code",
   "execution_count": null,
   "metadata": {},
   "outputs": [],
   "source": [
    "user_messages = thread.find_role(\"user\")\n",
    "for message in user_messages:\n",
    "    print(message)"
   ]
  },
  {
   "attachments": {},
   "cell_type": "markdown",
   "metadata": {},
   "source": [
    "`last_message()`: Gets the last message as a dictionary in the memory thread with a specific role."
   ]
  },
  {
   "cell_type": "code",
   "execution_count": 11,
   "metadata": {},
   "outputs": [
    {
     "name": "stdout",
     "output_type": "stream",
     "text": [
      "shape: (1, 4)\n",
      "┌───────────┬─────────────────────┬───────────┬──────────────┐\n",
      "│ role      ┆ content             ┆ timestamp ┆ tokens_count │\n",
      "│ ---       ┆ ---                 ┆ ---       ┆ ---          │\n",
      "│ str       ┆ str                 ┆ f64       ┆ u16          │\n",
      "╞═══════════╪═════════════════════╪═══════════╪══════════════╡\n",
      "│ assistant ┆ Hello, how are you? ┆ 1.6921e9  ┆ 13           │\n",
      "└───────────┴─────────────────────┴───────────┴──────────────┘\n"
     ]
    }
   ],
   "source": [
    "# Get the last message with a specific role (e.g., \"user\")\n",
    "last_user_message = thread.last_message(role=None)\n",
    "print(last_user_message)"
   ]
  },
  {
   "attachments": {},
   "cell_type": "markdown",
   "metadata": {},
   "source": [
    "`first_message()`: Gets the first message in the memory thread with a specific role."
   ]
  },
  {
   "cell_type": "code",
   "execution_count": 12,
   "metadata": {},
   "outputs": [
    {
     "name": "stdout",
     "output_type": "stream",
     "text": [
      "shape: (1, 4)\n",
      "┌──────┬─────────────────────┬───────────┬──────────────┐\n",
      "│ role ┆ content             ┆ timestamp ┆ tokens_count │\n",
      "│ ---  ┆ ---                 ┆ ---       ┆ ---          │\n",
      "│ str  ┆ str                 ┆ f64       ┆ u16          │\n",
      "╞══════╪═════════════════════╪═══════════╪══════════════╡\n",
      "│ user ┆ Hello, how are you? ┆ 1.6921e9  ┆ 13           │\n",
      "└──────┴─────────────────────┴───────────┴──────────────┘\n"
     ]
    }
   ],
   "source": [
    "first_user_message = thread.first_message(role=\"user\")\n",
    "print(first_user_message)"
   ]
  },
  {
   "cell_type": "code",
   "execution_count": 13,
   "metadata": {},
   "outputs": [
    {
     "name": "stdout",
     "output_type": "stream",
     "text": [
      "shape: (8,)\n",
      "Series: 'role' [str]\n",
      "[\n",
      "\t\"user\"\n",
      "\t\"assistant\"\n",
      "\t\"user\"\n",
      "\t\"assistant\"\n",
      "\t\"user\"\n",
      "\t\"assistant\"\n",
      "\t\"user\"\n",
      "\t\"assistant\"\n",
      "]\n",
      "shape: (8,)\n",
      "Series: 'content' [str]\n",
      "[\n",
      "\t\"Hello, how are…\n",
      "\t\"I'm fine, than…\n",
      "\t\"What's your na…\n",
      "\t\"My name is Bab…\n",
      "\t\"Nice to meet y…\n",
      "\t\"Nice to meet y…\n",
      "\t\"Hello, how are…\n",
      "\t\"Hello, how are…\n",
      "]\n",
      "shape: (8,)\n",
      "Series: 'timestamp' [f64]\n",
      "[\n",
      "\t1.6921e9\n",
      "\t1.6921e9\n",
      "\t1.6921e9\n",
      "\t1.6921e9\n",
      "\t1.6921e9\n",
      "\t1.6921e9\n",
      "\t1.6921e9\n",
      "\t1.6921e9\n",
      "]\n",
      "shape: (8,)\n",
      "Series: 'tokens_count' [u16]\n",
      "[\n",
      "\t13\n",
      "\t13\n",
      "\t12\n",
      "\t13\n",
      "\t12\n",
      "\t13\n",
      "\t13\n",
      "\t13\n",
      "]\n"
     ]
    }
   ],
   "source": [
    "for message in thread.memory_thread:\n",
    "    print(message)"
   ]
  },
  {
   "attachments": {},
   "cell_type": "markdown",
   "metadata": {},
   "source": [
    "`messages_before()`: Gets all messages before a specific message in the memory thread with a specific role."
   ]
  },
  {
   "cell_type": "code",
   "execution_count": 15,
   "metadata": {},
   "outputs": [
    {
     "name": "stdout",
     "output_type": "stream",
     "text": [
      "shape: (3,)\n",
      "Series: 'index' [u32]\n",
      "[\n",
      "\t0\n",
      "\t1\n",
      "\t2\n",
      "]\n",
      "shape: (3,)\n",
      "Series: 'role' [str]\n",
      "[\n",
      "\t\"user\"\n",
      "\t\"assistant\"\n",
      "\t\"user\"\n",
      "]\n",
      "shape: (3,)\n",
      "Series: 'content' [str]\n",
      "[\n",
      "\t\"Hello, how are…\n",
      "\t\"I'm fine, than…\n",
      "\t\"What's your na…\n",
      "]\n",
      "shape: (3,)\n",
      "Series: 'timestamp' [f64]\n",
      "[\n",
      "\t1.6921e9\n",
      "\t1.6921e9\n",
      "\t1.6921e9\n",
      "]\n",
      "shape: (3,)\n",
      "Series: 'tokens_count' [u16]\n",
      "[\n",
      "\t13\n",
      "\t13\n",
      "\t12\n",
      "]\n"
     ]
    }
   ],
   "source": [
    "message = {\"role\": \"assistant\", \"content\": \"My name is BabyDragon.\"}\n",
    "\n",
    "messages_before = thread.messages_before(message)\n",
    "for message in messages_before:\n",
    "    print(message)"
   ]
  },
  {
   "attachments": {},
   "cell_type": "markdown",
   "metadata": {},
   "source": [
    "`messages_after()`: Gets all messages after a specific message in the memory thread with a specific role."
   ]
  },
  {
   "cell_type": "code",
   "execution_count": 16,
   "metadata": {},
   "outputs": [
    {
     "ename": "ValueError",
     "evalue": "Cannot __getitem__ on Series of dtype: 'UInt16' with argument: 'content' of type: '<class 'str'>'.",
     "output_type": "error",
     "traceback": [
      "\u001b[0;31m---------------------------------------------------------------------------\u001b[0m",
      "\u001b[0;31mValueError\u001b[0m                                Traceback (most recent call last)",
      "Cell \u001b[0;32mIn[16], line 1\u001b[0m\n\u001b[0;32m----> 1\u001b[0m messages_after \u001b[39m=\u001b[39m thread\u001b[39m.\u001b[39;49mmessages_after(message)\n\u001b[1;32m      2\u001b[0m \u001b[39mfor\u001b[39;00m message \u001b[39min\u001b[39;00m messages_after:\n\u001b[1;32m      3\u001b[0m     \u001b[39mprint\u001b[39m(message)\n",
      "File \u001b[0;32m~/neuraldragon/frames_arc/BabyDragon/babydragon/memory/threads/base_thread.py:198\u001b[0m, in \u001b[0;36mBaseThread.messages_after\u001b[0;34m(self, message)\u001b[0m\n\u001b[1;32m    194\u001b[0m \u001b[39mdef\u001b[39;00m \u001b[39mmessages_after\u001b[39m( \u001b[39mself\u001b[39m, message: \u001b[39mdict\u001b[39m   ) \u001b[39m-\u001b[39m\u001b[39m>\u001b[39m pl\u001b[39m.\u001b[39mDataFrame:\n\u001b[1;32m    195\u001b[0m \u001b[39m    \u001b[39m\u001b[39m\"\"\"\u001b[39;00m\n\u001b[1;32m    196\u001b[0m \u001b[39m    Get all messages after a specific message in the memory thread.\"\"\"\u001b[39;00m\n\u001b[0;32m--> 198\u001b[0m     index \u001b[39m=\u001b[39m \u001b[39mself\u001b[39m\u001b[39m.\u001b[39mmemory_thread\u001b[39m.\u001b[39mlazy()\u001b[39m.\u001b[39mwith_row_count(\u001b[39m\"\u001b[39m\u001b[39mindex\u001b[39m\u001b[39m\"\u001b[39m)\u001b[39m.\u001b[39mfilter((pl\u001b[39m.\u001b[39mcol(\u001b[39m'\u001b[39m\u001b[39mcontent\u001b[39m\u001b[39m'\u001b[39m)\u001b[39m==\u001b[39mmessage[\u001b[39m'\u001b[39;49m\u001b[39mcontent\u001b[39;49m\u001b[39m'\u001b[39;49m]) \u001b[39m&\u001b[39m (pl\u001b[39m.\u001b[39mcol(\u001b[39m'\u001b[39m\u001b[39mrole\u001b[39m\u001b[39m'\u001b[39m)\u001b[39m==\u001b[39mmessage[\u001b[39m'\u001b[39m\u001b[39mrole\u001b[39m\u001b[39m'\u001b[39m]))\u001b[39m.\u001b[39mselect(\u001b[39m'\u001b[39m\u001b[39mindex\u001b[39m\u001b[39m'\u001b[39m)\u001b[39m.\u001b[39mcollect()[\u001b[39m0\u001b[39m][\u001b[39m0\u001b[39m]\n\u001b[1;32m    199\u001b[0m     \u001b[39mreturn\u001b[39;00m \u001b[39mself\u001b[39m\u001b[39m.\u001b[39mmemory_thread\u001b[39m.\u001b[39mlazy()\u001b[39m.\u001b[39mwith_row_count(\u001b[39m\"\u001b[39m\u001b[39mindex\u001b[39m\u001b[39m\"\u001b[39m)\u001b[39m.\u001b[39mfilter(pl\u001b[39m.\u001b[39mcol(\u001b[39m'\u001b[39m\u001b[39mindex\u001b[39m\u001b[39m'\u001b[39m)\u001b[39m>\u001b[39mindex)\u001b[39m.\u001b[39mcollect()\n",
      "File \u001b[0;32m~/neuraldragon/frames_arc/BabyDragon/notebooks/venv/lib/python3.10/site-packages/polars/series/series.py:993\u001b[0m, in \u001b[0;36mSeries.__getitem__\u001b[0;34m(self, item)\u001b[0m\n\u001b[1;32m    988\u001b[0m         \u001b[39mraise\u001b[39;00m \u001b[39mValueError\u001b[39;00m(\n\u001b[1;32m    989\u001b[0m             \u001b[39m\"\u001b[39m\u001b[39mCannot __getitem__ with index values containing nulls\u001b[39m\u001b[39m\"\u001b[39m\n\u001b[1;32m    990\u001b[0m         )\n\u001b[1;32m    991\u001b[0m     \u001b[39mreturn\u001b[39;00m \u001b[39mself\u001b[39m\u001b[39m.\u001b[39m_take_with_series(idx_series)\n\u001b[0;32m--> 993\u001b[0m \u001b[39mraise\u001b[39;00m \u001b[39mValueError\u001b[39;00m(\n\u001b[1;32m    994\u001b[0m     \u001b[39mf\u001b[39m\u001b[39m\"\u001b[39m\u001b[39mCannot __getitem__ on Series of dtype: \u001b[39m\u001b[39m'\u001b[39m\u001b[39m{\u001b[39;00m\u001b[39mself\u001b[39m\u001b[39m.\u001b[39mdtype\u001b[39m}\u001b[39;00m\u001b[39m'\u001b[39m\u001b[39m \u001b[39m\u001b[39m\"\u001b[39m\n\u001b[1;32m    995\u001b[0m     \u001b[39mf\u001b[39m\u001b[39m\"\u001b[39m\u001b[39mwith argument: \u001b[39m\u001b[39m'\u001b[39m\u001b[39m{\u001b[39;00mitem\u001b[39m}\u001b[39;00m\u001b[39m'\u001b[39m\u001b[39m of type: \u001b[39m\u001b[39m'\u001b[39m\u001b[39m{\u001b[39;00m\u001b[39mtype\u001b[39m(item)\u001b[39m}\u001b[39;00m\u001b[39m'\u001b[39m\u001b[39m.\u001b[39m\u001b[39m\"\u001b[39m\n\u001b[1;32m    996\u001b[0m )\n",
      "\u001b[0;31mValueError\u001b[0m: Cannot __getitem__ on Series of dtype: 'UInt16' with argument: 'content' of type: '<class 'str'>'."
     ]
    }
   ],
   "source": [
    "messages_after = thread.messages_after(message)\n",
    "for message in messages_after:\n",
    "    print(message)"
   ]
  },
  {
   "attachments": {},
   "cell_type": "markdown",
   "metadata": {},
   "source": [
    "`messages_between()`: Gets all messages between two specific messages in the memory thread with a specific role.\n",
    "Here are examples of how to use these methods:"
   ]
  },
  {
   "cell_type": "code",
   "execution_count": 18,
   "metadata": {},
   "outputs": [
    {
     "name": "stdout",
     "output_type": "stream",
     "text": [
      "shape: (3,)\n",
      "Series: 'index' [u32]\n",
      "[\n",
      "\t1\n",
      "\t3\n",
      "\t5\n",
      "]\n",
      "shape: (3,)\n",
      "Series: 'role' [str]\n",
      "[\n",
      "\t\"assistant\"\n",
      "\t\"assistant\"\n",
      "\t\"assistant\"\n",
      "]\n",
      "shape: (3,)\n",
      "Series: 'content' [str]\n",
      "[\n",
      "\t\"I'm fine, than…\n",
      "\t\"My name is Bab…\n",
      "\t\"Nice to meet y…\n",
      "]\n",
      "shape: (3,)\n",
      "Series: 'timestamp' [f64]\n",
      "[\n",
      "\t1.6921e9\n",
      "\t1.6921e9\n",
      "\t1.6921e9\n",
      "]\n",
      "shape: (3,)\n",
      "Series: 'tokens_count' [u16]\n",
      "[\n",
      "\t13\n",
      "\t13\n",
      "\t13\n",
      "]\n"
     ]
    }
   ],
   "source": [
    "messages_between = thread.messages_between(first_user_message, last_user_message)\n",
    "for message in messages_between:\n",
    "    print(message)"
   ]
  },
  {
   "attachments": {},
   "cell_type": "markdown",
   "metadata": {},
   "source": [
    "## Token Bound History\n",
    "The following method is used to get the most recent messages from the memory thread within a specified token limit.\n",
    "\n",
    "`token_bound_history(max_tokens: int, max_history=None, role: Union[str, None] = None)`\n",
    "This method returns a tuple of messages and their indices that fit within the max_tokens limit, from the most recent messages in the memory thread with a specific role. If the role parameter is not provided, it will return messages with any role. The max_history parameter, if provided, limits the search to the most recent max_history messages."
   ]
  },
  {
   "cell_type": "code",
   "execution_count": null,
   "metadata": {},
   "outputs": [],
   "source": [
    "for message in thread.memory_thread:\n",
    "    tokens = len(thread.tokenizer.encode(message[\"content\"]))\n",
    "    tokens = tokens + 6  # 6 tokens for the special tokens\n",
    "    print(f\"Message: {message['content']}, Tokens: {tokens}\")"
   ]
  },
  {
   "cell_type": "code",
   "execution_count": 21,
   "metadata": {},
   "outputs": [
    {
     "name": "stdout",
     "output_type": "stream",
     "text": [
      "Hello, how are you?\n"
     ]
    }
   ],
   "source": [
    "messages, indices = thread.token_bound_history(36, role=\"user\")\n",
    "for message in messages:\n",
    "    print(message)"
   ]
  },
  {
   "cell_type": "code",
   "execution_count": null,
   "metadata": {},
   "outputs": [],
   "source": []
  }
 ],
 "metadata": {
  "kernelspec": {
   "display_name": "venvfm",
   "language": "python",
   "name": "venv"
  },
  "language_info": {
   "codemirror_mode": {
    "name": "ipython",
    "version": 3
   },
   "file_extension": ".py",
   "mimetype": "text/x-python",
   "name": "python",
   "nbconvert_exporter": "python",
   "pygments_lexer": "ipython3",
   "version": "3.10.0"
  },
  "orig_nbformat": 4
 },
 "nbformat": 4,
 "nbformat_minor": 2
}
