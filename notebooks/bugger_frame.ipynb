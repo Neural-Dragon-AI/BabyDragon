{
 "cells": [
  {
   "cell_type": "code",
   "execution_count": 1,
   "metadata": {},
   "outputs": [
    {
     "name": "stderr",
     "output_type": "stream",
     "text": [
      "Found cached dataset json (C:/Users/Tommaso/.cache/huggingface/datasets/mhhmm___json/mhhmm--leetcode-solutions-python-c6d2758e3a6cc905/0.0.0/e347ab1c932092252e717ff3f949105a4dd28b27e842dd53157d2f72e276c2e4)\n"
     ]
    }
   ],
   "source": [
    "from datasets import load_dataset\n",
    "docs = load_dataset(f\"mhhmm/leetcode-solutions-python\", split=\"train\")"
   ]
  },
  {
   "cell_type": "code",
   "execution_count": 2,
   "metadata": {},
   "outputs": [],
   "source": [
    "import libcst as cst\n",
    "import re\n",
    "import random\n",
    "from openbugger.bugger import Bugger, bugger_example\n",
    "from time import perf_counter"
   ]
  },
  {
   "cell_type": "code",
   "execution_count": 3,
   "metadata": {},
   "outputs": [],
   "source": [
    "import libcst as cst\n",
    "\n",
    "from functools import lru_cache\n",
    "\n",
    "\n",
    "def is_valid_python(code):\n",
    "    try:\n",
    "        cst.parse_module(code)\n",
    "        return True\n",
    "    except Exception:\n",
    "        return False\n",
    "\n",
    "\n",
    "def extract_python_blocks(input_string, start=0, intervals=None):\n",
    "    if intervals is None:\n",
    "        intervals = {\"Python\": [], \"Non-Python\": []}\n",
    "\n",
    "    lines = input_string.split('\\n')\n",
    "    n = len(lines)\n",
    "\n",
    "    for i in range(n):\n",
    "        if not lines[i].strip() or lines[i].lstrip().startswith('#'):  # ignore empty start lines\n",
    "            continue\n",
    "        for j in range(n-1, i-1, -1):\n",
    "            if not lines[j].strip() or lines[j].lstrip().startswith('#'):  # ignore empty end lines\n",
    "                continue\n",
    "            code = '\\n'.join(lines[i:j+1])\n",
    "            if is_valid_python(code):\n",
    "                intervals[\"Python\"].append((i+start, j+start))\n",
    "                if i > 0:\n",
    "                    intervals[\"Non-Python\"].append((start, i+start-1))\n",
    "                if j < n-1:\n",
    "                    remaining = '\\n'.join(lines[j+1:])\n",
    "                    return extract_python_blocks(remaining, j+start+1, intervals)\n",
    "                return intervals\n",
    "    if n > 0 and (start, start+n-1) not in intervals[\"Non-Python\"]:\n",
    "        intervals[\"Non-Python\"].append((start, start+n-1))\n",
    "    return intervals\n",
    "\n"
   ]
  },
  {
   "cell_type": "code",
   "execution_count": 4,
   "metadata": {},
   "outputs": [],
   "source": [
    "from babydragon.memory.frames.code_frame import CodeFrame\n",
    "import polars as pl\n",
    "import re"
   ]
  },
  {
   "cell_type": "code",
   "execution_count": 5,
   "metadata": {},
   "outputs": [],
   "source": [
    "import libcst as cst\n",
    "\n",
    "def cst_module(code):\n",
    "    try:\n",
    "        module = cst.parse_module(code)\n",
    "        return module\n",
    "    except Exception:\n",
    "        return None\n",
    "\n",
    "\n",
    "def extract_strings_from_intervals(input_string, intervals):\n",
    "    lines = input_string.split('\\n')\n",
    "    non_python_text = ''\n",
    "    for interval in intervals['Non-Python']:\n",
    "        start, end = interval\n",
    "        non_python_text += '\\n'.join(lines[start:end + 1]) + '\\n'\n",
    "    return non_python_text.strip()\n",
    "\n",
    "def extract_python_from_intervals(input_string, intervals):\n",
    "    lines = input_string.split('\\n')\n",
    "    python_code = ''\n",
    "    for interval in intervals['Python']:\n",
    "        start, end = interval\n",
    "        python_code += '\\n'.join(lines[start:end + 1]) + '\\n'\n",
    "    #check there actually is python code\n",
    "    if python_code.strip() == '':\n",
    "        return None\n",
    "    return python_code.strip()\n",
    "\n",
    "\n"
   ]
  },
  {
   "cell_type": "code",
   "execution_count": 6,
   "metadata": {},
   "outputs": [
    {
     "data": {
      "text/html": [
       "<div><style>\n",
       ".dataframe > thead > tr > th,\n",
       ".dataframe > tbody > tr > td {\n",
       "  text-align: right;\n",
       "}\n",
       "</style>\n",
       "<small>shape: (5, 2)</small><table border=\"1\" class=\"dataframe\"><thead><tr><th>code_with_problem</th><th>code_with_data</th></tr><tr><td>str</td><td>str</td></tr></thead><tbody><tr><td>&quot;# Given an arr…</td><td>&quot;# two-sum\n",
       "# Tw…</td></tr><tr><td>&quot;# You are give…</td><td>&quot;# add-two-numb…</td></tr><tr><td>&quot;# Given a stri…</td><td>&quot;# longest-subs…</td></tr><tr><td>&quot;# Given two so…</td><td>&quot;# median-of-tw…</td></tr><tr><td>&quot;# Given a stri…</td><td>&quot;# longest-pali…</td></tr></tbody></table></div>"
      ],
      "text/plain": [
       "shape: (5, 2)\n",
       "┌───────────────────────────────────┬───────────────────────────────────┐\n",
       "│ code_with_problem                 ┆ code_with_data                    │\n",
       "│ ---                               ┆ ---                               │\n",
       "│ str                               ┆ str                               │\n",
       "╞═══════════════════════════════════╪═══════════════════════════════════╡\n",
       "│ # Given an array of integers `nu… ┆ # two-sum                         │\n",
       "│                                   ┆ # Two Sum                         │\n",
       "│                                   ┆ # Easy                            │\n",
       "│                                   ┆ # Giv…                            │\n",
       "│ # You are given two **non-empty*… ┆ # add-two-numbers                 │\n",
       "│                                   ┆ # Add Two Numb…                   │\n",
       "│ # Given a string `s`, find the l… ┆ # longest-substring-without-repe… │\n",
       "│ # Given two sorted arrays `nums1… ┆ # median-of-two-sorted-arrays     │\n",
       "│                                   ┆ # …                               │\n",
       "│ # Given a string `s`, return _th… ┆ # longest-palindromic-substring   │\n",
       "│                                   ┆ …                                 │\n",
       "└───────────────────────────────────┴───────────────────────────────────┘"
      ]
     },
     "execution_count": 6,
     "metadata": {},
     "output_type": "execute_result"
    }
   ],
   "source": [
    "df = pl.DataFrame(data={'code_with_problem':docs['code_with_problem'], 'code_with_data':docs['code_with_data']})\n",
    "df.head(5)"
   ]
  },
  {
   "cell_type": "code",
   "execution_count": 7,
   "metadata": {},
   "outputs": [],
   "source": [
    "import os\n",
    "\n",
    "#check that \"leet_code_python_preprocessed.parquet\" does not exists and if it does not create it\n",
    "if not os.path.exists(\"leet_code_python_preprocessed.parquet\"):\n",
    "\n",
    "    df_filtered = df.with_columns(\n",
    "        pl.col('code_with_problem').apply(lambda x: extract_python_from_intervals(x, extract_python_blocks(x)) ).alias('python_code'),\n",
    "        pl.col('code_with_problem').apply(lambda x: extract_strings_from_intervals(x, extract_python_blocks(x))).alias('non_python_text'),\n",
    "        pl.col('code_with_data').apply(lambda x: extract_python_from_intervals(x, extract_python_blocks(x))).alias('python_code_data'),\n",
    "        pl.col('code_with_data').apply(lambda x: extract_strings_from_intervals(x, extract_python_blocks(x))).alias('non_python_text_data')\n",
    "    )\n",
    "    df_filtered = df_filtered.filter(pl.col('python_code').is_not_null())\n",
    "    df_filtered.write_parquet(\"leet_code_python_preprocessed.parquet\")\n",
    "else:\n",
    "    df_filtered = pl.read_parquet(\"leet_code_python_preprocessed.parquet\")\n",
    "\n"
   ]
  },
  {
   "cell_type": "code",
   "execution_count": 8,
   "metadata": {},
   "outputs": [],
   "source": [
    "df_filtered_with_cst = df_filtered.with_columns(\n",
    "    pl.col(\"python_code\").apply(lambda x: cst_module(x)).alias(\"cst_module\").alias(\"python_code_cst\"))"
   ]
  },
  {
   "cell_type": "code",
   "execution_count": 9,
   "metadata": {},
   "outputs": [],
   "source": [
    "from babydragon.codemods.openbugger.bugger import Bugger\n",
    "from babydragon.codemods.openbugger.bugs.controlflow import ForgettingToUpdateVariableTransformer, InfiniteWhileTransformer, gen_OffByKIndexTransformer, IncorrectExceptionHandlerTransformer,MissingArgumentTransformer,ReturningEarlyTransformer\n",
    "from babydragon.codemods.openbugger.bugs.data import IncorrectVariableInitializationTransformer, VariableNameTypoTransformer, MutableDefaultArgumentTransformer, UseBeforeDefinitionTransformer\n",
    "from babydragon.codemods.openbugger.bugs.logical import gen_ComparisonTargetTransfomer, ComparisonSwapTransformer\n",
    "from babydragon.codemods.openbugger.bugs.type import IncorrectTypeTransformer, NonExistingMethodTransformer, SwapForTransformer\n",
    "\n"
   ]
  },
  {
   "cell_type": "code",
   "execution_count": 10,
   "metadata": {},
   "outputs": [],
   "source": [
    "bug_dict = {\"controlflow\":[ForgettingToUpdateVariableTransformer, InfiniteWhileTransformer, gen_OffByKIndexTransformer(),IncorrectExceptionHandlerTransformer,MissingArgumentTransformer,ReturningEarlyTransformer],\n",
    "            \"data\":[IncorrectVariableInitializationTransformer, VariableNameTypoTransformer, MutableDefaultArgumentTransformer, UseBeforeDefinitionTransformer],\n",
    "            \"logical\":[gen_ComparisonTargetTransfomer(), ComparisonSwapTransformer],\n",
    "            \"type\":[IncorrectTypeTransformer, NonExistingMethodTransformer, SwapForTransformer]}\n",
    "\n",
    "bug_list = []\n",
    "for bug_type in bug_dict:\n",
    "    bug_list.extend(bug_dict[bug_type])"
   ]
  },
  {
   "cell_type": "code",
   "execution_count": 11,
   "metadata": {},
   "outputs": [],
   "source": [
    "def apply_bug(module,bugtype):\n",
    "    bugger=Bugger([bugtype])\n",
    "    tainted = bugger.apply(module)\n",
    "    # Check if the bug application was successful\n",
    "    if not module.deep_equals(tainted):\n",
    "        # Attempt to invert the transformation\n",
    "        try:\n",
    "            clean = bugger.apply(tainted, debug=True)\n",
    "            if module.deep_equals(clean):\n",
    "                #succesfull inversion\n",
    "                bugs = bugger.get_bugs()\n",
    "                name = bugtype.__name__\n",
    "                out = {name+\"_code\": tainted.code,name +\"_bugs\": bugs}\n",
    "                # out ={name+\"_code\": tainted.code}\n",
    "                return [out]\n",
    "            else:\n",
    "                return None\n",
    "        except:\n",
    "            return None\n",
    "    return None\n",
    "\n",
    "def apply_bug_series(series):\n",
    "    outs = []\n",
    "    for i in series:\n",
    "        out = apply_bug(i)\n",
    "        outs.append(out)\n",
    "    return outs"
   ]
  },
  {
   "cell_type": "code",
   "execution_count": 12,
   "metadata": {},
   "outputs": [],
   "source": [
    "df_bugged = df_filtered_with_cst"
   ]
  },
  {
   "cell_type": "code",
   "execution_count": 13,
   "metadata": {},
   "outputs": [
    {
     "name": "stdout",
     "output_type": "stream",
     "text": [
      "Bugging ForgettingToUpdateVariableTransformer\n"
     ]
    }
   ],
   "source": [
    "import time\n",
    "for bug in bug_list:\n",
    "    start = time.time()\n",
    "    bug_name = bug.__name__\n",
    "    print(\"Bugging {bug_name}\".format(bug_name=bug_name))\n",
    "    df_bugged = df_bugged.with_columns(pl.col(\"python_code_cst\").apply(lambda x: apply_bug(x, bugtype=bug)).list.first().alias(bug_name)).unnest(bug_name)\n",
    "    #print time to bug and name of bug\n",
    "    timetobug =  time.time() - start\n",
    "    print(\"It took {timetobug}, for applying {bug_name}\".format(timetobug=timetobug,bug_name=bug_name))\n",
    "    df_bugged_filtered =df_bugged.select([pl.col(col) for col in df_bugged.columns if not col in ['python_code_cst']])\n",
    "    df_bugged_filtered.write_parquet(\"leet_code_python_bugged.parquet\")\n"
   ]
  }
 ],
 "metadata": {
  "kernelspec": {
   "display_name": "Python 3",
   "language": "python",
   "name": "python3"
  },
  "language_info": {
   "codemirror_mode": {
    "name": "ipython",
    "version": 3
   },
   "file_extension": ".py",
   "mimetype": "text/x-python",
   "name": "python",
   "nbconvert_exporter": "python",
   "pygments_lexer": "ipython3",
   "version": "3.10.6"
  },
  "orig_nbformat": 4
 },
 "nbformat": 4,
 "nbformat_minor": 2
}
