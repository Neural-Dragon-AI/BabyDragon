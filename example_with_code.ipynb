{
 "cells": [
  {
   "cell_type": "code",
   "execution_count": null,
   "metadata": {},
   "outputs": [],
   "source": [
    "from babydragon.chat.memory_chat import FifoVectorChat, FifoChat, VectorChat\n",
    "from babydragon.chat.base_chat import BaseChat\n",
    "from babydragon.chat.chat import Chat\n",
    "from babydragon.memory.indexes.pandas_index import PandasIndex\n",
    "from babydragon.memory.indexes.python_index import PythonIndex\n",
    "from babydragon.utils.oai import mark_question"
   ]
  },
  {
   "cell_type": "code",
   "execution_count": null,
   "metadata": {},
   "outputs": [],
   "source": [
    "import openai\n",
    "openai.api_key = \"\""
   ]
  },
  {
   "cell_type": "code",
   "execution_count": null,
   "metadata": {},
   "outputs": [],
   "source": [
    "import os\n",
    "import babydragon\n",
    "\n",
    "babydragon_path = os.path.dirname(os.path.abspath(babydragon.__file__))\n",
    "print(babydragon_path)\n"
   ]
  },
  {
   "cell_type": "code",
   "execution_count": null,
   "metadata": {},
   "outputs": [],
   "source": [
    "pind = PythonIndex(babydragon_path,name=\"babydragon_index\", load = False)"
   ]
  },
  {
   "cell_type": "code",
   "execution_count": null,
   "metadata": {},
   "outputs": [],
   "source": [
    "out, embed, ind = pind.faiss_query(\"Fifo_Threaded_Chat\", k = 10)"
   ]
  },
  {
   "cell_type": "code",
   "execution_count": null,
   "metadata": {},
   "outputs": [],
   "source": [
    "ic = Chat (model='gpt-3.5-turbo-0301',index_dict={\"babydragon\": pind}) \n",
    "vci = FifoVectorChat(model='gpt-3.5-turbo-0301',index_dict={\"babydragon\": pind}, max_output_tokens=500, max_index_memory= 1000, max_memory=2000, longterm_frac=0.3)"
   ]
  },
  {
   "cell_type": "code",
   "execution_count": null,
   "metadata": {},
   "outputs": [],
   "source": [
    "#qa bot\n",
    "# ic.gradio()"
   ]
  },
  {
   "cell_type": "code",
   "execution_count": null,
   "metadata": {},
   "outputs": [],
   "source": [
    "#chatbot with memory ofconversation \n",
    "vci.gradio()"
   ]
  }
 ],
 "metadata": {
  "kernelspec": {
   "display_name": "Python 3",
   "language": "python",
   "name": "python3"
  },
  "language_info": {
   "codemirror_mode": {
    "name": "ipython",
    "version": 3
   },
   "file_extension": ".py",
   "mimetype": "text/x-python",
   "name": "python",
   "nbconvert_exporter": "python",
   "pygments_lexer": "ipython3",
   "version": "3.10.6"
  },
  "orig_nbformat": 4
 },
 "nbformat": 4,
 "nbformat_minor": 2
}
