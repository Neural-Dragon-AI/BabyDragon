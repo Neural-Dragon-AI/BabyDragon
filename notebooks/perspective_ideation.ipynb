{
 "cells": [
  {
   "cell_type": "code",
   "execution_count": null,
   "metadata": {},
   "outputs": [],
   "source": [
    "from babydragon.apps.auto_perspective.perspective import generate_perspective_prompt, PerspectivePromptGenerator\n",
    "from babydragon.chat.memory_chat import FifoChat\n",
    "import openai\n",
    "from IPython.display import Markdown, display\n",
    "from babydragon.memory.indexes.memory_index import MemoryIndex\n",
    "from babydragon.models.embedders.cohere import CohereEmbedder\n",
    "\n",
    "openai.api_key =  \"sk-\"\n"
   ]
  },
  {
   "cell_type": "code",
   "execution_count": null,
   "metadata": {},
   "outputs": [],
   "source": [
    "subjects = [\n",
    "    \"Artificial Intelligence\",\n",
    "    \"Climate Change\",\n",
    "    \"Quantum Computing\",\n",
    "    \"Space Exploration\",\n",
    "    \"Genetic Engineering\",\n",
    "    \"Cryptocurrency\",\n",
    "    \"Biodiversity\",\n",
    "    \"Mental Health\",\n",
    "    \"Social Media\",\n",
    "    \"Education\",\n",
    "    \"Renewable Energy\",\n",
    "    \"Virtual Reality\",\n",
    "    \"Internet Privacy\",\n",
    "    \"Globalization\",\n",
    "    \"Autonomous Vehicles\",\n",
    "    \"Urban Planning\",\n",
    "    \"Food Security\",\n",
    "    \"Cultural Diversity\",\n",
    "    \"Cybersecurity\",\n",
    "    \"Aging Population\",\n",
    "]\n",
    "\n",
    "perspectives = [\n",
    "    \"Sustainability-Focused\",\n",
    "    \"Technological Optimism\",\n",
    "    \"Existential Risk Theory\",\n",
    "    \"Social Constructivism\",\n",
    "    \"Cosmological Anthropic Principle\",\n",
    "    \"Bioconservatism\",\n",
    "    \"Biopsychosocial Model\",\n",
    "    \"Economic Libertarianism\",\n",
    "    \"Techno-Social Interactionism\",\n",
    "    \"Deep Ecology\",\n",
    "    \"Humanistic Psychology\",\n",
    "    \"Technological Determinism\",\n",
    "    \"Techno-Utopianism\",\n",
    "    \"Transhumanism\",\n",
    "    \"Positive Psychology\",\n",
    "    \"Quantum Mysticism\",\n",
    "    \"Physical Realism\",\n",
    "    \"Critical Theory\",\n",
    "    \"Media Ecology\",\n",
    "    \"Anthropocentrism\",\n",
    "]\n"
   ]
  },
  {
   "cell_type": "code",
   "execution_count": null,
   "metadata": {},
   "outputs": [],
   "source": [
    "prompt = generate_perspective_prompt(\"Parenting\", \"Magic: the gthering design philosphy\")"
   ]
  },
  {
   "cell_type": "code",
   "execution_count": null,
   "metadata": {},
   "outputs": [],
   "source": [
    "generator = PerspectivePromptGenerator(subjects, perspectives, max_workers=12, calls_per_minute=4)"
   ]
  },
  {
   "cell_type": "code",
   "execution_count": null,
   "metadata": {},
   "outputs": [],
   "source": [
    "prompts = generator.generate_prompts()\n",
    "generator.save_prompts_to_json('prompts.json')\n"
   ]
  },
  {
   "cell_type": "code",
   "execution_count": null,
   "metadata": {},
   "outputs": [],
   "source": [
    "# import json\n",
    "# filename = 'prompts_3by3.json'\n",
    "# with open(filename, 'w') as f:\n",
    "#             json.dump(prompts, f)\n"
   ]
  },
  {
   "cell_type": "code",
   "execution_count": null,
   "metadata": {},
   "outputs": [],
   "source": [
    "a"
   ]
  },
  {
   "cell_type": "code",
   "execution_count": null,
   "metadata": {},
   "outputs": [],
   "source": [
    "prompt = generate_perspective_prompt(\"Parenting\", \"Magic: the gthering design philosphy\")"
   ]
  },
  {
   "cell_type": "code",
   "execution_count": null,
   "metadata": {},
   "outputs": [],
   "source": [
    "display(Markdown(prompt))"
   ]
  },
  {
   "cell_type": "code",
   "execution_count": null,
   "metadata": {},
   "outputs": [],
   "source": [
    "perspective_chat = FifoChat(name= \"perspective,chat\", max_fifo_memory= 4000, system_prompt=prompt,model = \"gpt-4\")"
   ]
  },
  {
   "cell_type": "code",
   "execution_count": null,
   "metadata": {},
   "outputs": [],
   "source": [
    "perspective_chat.reply(\"explain the 2008 economic crisis\")"
   ]
  }
 ],
 "metadata": {
  "kernelspec": {
   "display_name": "venv",
   "language": "python",
   "name": "python3"
  },
  "language_info": {
   "codemirror_mode": {
    "name": "ipython",
    "version": 3
   },
   "file_extension": ".py",
   "mimetype": "text/x-python",
   "name": "python",
   "nbconvert_exporter": "python",
   "pygments_lexer": "ipython3",
   "version": "3.10.6"
  },
  "orig_nbformat": 4
 },
 "nbformat": 4,
 "nbformat_minor": 2
}
