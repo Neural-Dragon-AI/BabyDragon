{
 "cells": [
  {
   "attachments": {},
   "cell_type": "markdown",
   "metadata": {},
   "source": [
    "# BabyDragon Indexes\n",
    "\n",
    "The `indexes` submodule of the BabyDragon package provides different indexing\n",
    "and searching strategies for various data types.\n",
    "The main class in this\n",
    "submodule is  `MemoryIndex` class, a wrapper for a Faiss index that simplifies managing the index and associated data. It supports creating an index from scratch, loading an index from a file, or initializing from a pandas DataFrame. The class also provides methods for adding and removing items from the index, querying the index, saving and loading the index, and pruning the index based on certain constraints.\n",
    "\n",
    "##  Table of Contents\n",
    "\n",
    "1. [MemoryIndex](#usage)\n",
    "   - [Initializing a MemoryIndex](#initializing-a-memoryindex)\n",
    "   - [Adding and Removing Items](#adding-and-removing-items)\n",
    "   - [Querying the Index](#querying-the-index)\n",
    "   - [Saving and Loading](#saving-and-loading)\n",
    "   - [Pruning the Index](#pruning-the-index)\n",
    "   - [Multithreading](#multithreading)\n",
    "2. [Examples](#examples)\n",
    "\n",
    "## Usage\n",
    "\n",
    "### Initializing a MemoryIndex\n",
    "\n",
    "A `MemoryIndex` object can be initialized in several ways:\n",
    "1. Create a new empty index from scratch:\n",
    "\n",
    "\n"
   ]
  },
  {
   "cell_type": "code",
   "execution_count": 2,
   "metadata": {},
   "outputs": [
    {
     "name": "stdout",
     "output_type": "stream",
     "text": [
      "Creating a new index\n"
     ]
    }
   ],
   "source": [
    "from babydragon.memory.indexes.memory_index import MemoryIndex\n",
    "\n",
    "index = MemoryIndex()"
   ]
  },
  {
   "attachments": {},
   "cell_type": "markdown",
   "metadata": {},
   "source": [
    "2. Create a new index from a list of values:"
   ]
  },
  {
   "cell_type": "code",
   "execution_count": null,
   "metadata": {},
   "outputs": [],
   "source": [
    "values = [\"apple\", \"banana\", \"cherry\"]\n",
    "\n",
    "index = MemoryIndex(values=values)"
   ]
  },
  {
   "attachments": {},
   "cell_type": "markdown",
   "metadata": {},
   "source": [
    "3. Create a new index from a list of values and their embeddings:"
   ]
  },
  {
   "cell_type": "code",
   "execution_count": null,
   "metadata": {},
   "outputs": [],
   "source": [
    "values = [\"apple\", \"banana\", \"cherry\"]\n",
    "embeddings = [...]  # list of embeddings corresponding to the values\n",
    "\n",
    "index = MemoryIndex(values=values, embeddings=embeddings)"
   ]
  },
  {
   "attachments": {},
   "cell_type": "markdown",
   "metadata": {},
   "source": [
    "4. Create a new index from a list of values and their embeddings:"
   ]
  },
  {
   "cell_type": "code",
   "execution_count": null,
   "metadata": {},
   "outputs": [],
   "source": [
    "values = [\"apple\", \"banana\", \"cherry\"]\n",
    "embeddings = [...]  # list of embeddings corresponding to the values\n",
    "\n",
    "index = MemoryIndex(values=values, embeddings=embeddings)"
   ]
  },
  {
   "attachments": {},
   "cell_type": "markdown",
   "metadata": {},
   "source": [
    "5. Load an existing index from a file:"
   ]
  },
  {
   "cell_type": "code",
   "execution_count": null,
   "metadata": {},
   "outputs": [],
   "source": [
    "index = MemoryIndex(load=True, name = \"precomputed_index\")"
   ]
  },
  {
   "attachments": {},
   "cell_type": "markdown",
   "metadata": {},
   "source": [
    "6. Initialize a MemoryIndex object from a pandas DataFrame:"
   ]
  },
  {
   "cell_type": "code",
   "execution_count": null,
   "metadata": {},
   "outputs": [],
   "source": [
    "import pandas as pd\n",
    "\n",
    "data_frame = pd.DataFrame({\n",
    "    \"values\": [\"apple\", \"banana\", \"cherry\"],\n",
    "    \"embeddings\": [...]  # list of embeddings corresponding to the values\n",
    "})\n",
    "\n",
    "index = MemoryIndex.from_pandas(data_frame=data_frame, columns=\"values\", embeddings_col=\"embeddings\")"
   ]
  },
  {
   "attachments": {},
   "cell_type": "markdown",
   "metadata": {},
   "source": [
    "\n",
    "### Adding and Removing Items\n",
    "You can add items to the index by calling the add_to_index method:"
   ]
  },
  {
   "cell_type": "code",
   "execution_count": null,
   "metadata": {},
   "outputs": [],
   "source": [
    "index.add_to_index(value=\"orange\")"
   ]
  },
  {
   "attachments": {},
   "cell_type": "markdown",
   "metadata": {},
   "source": [
    "You can also remove items from the index by calling the remove_from_index method:"
   ]
  },
  {
   "cell_type": "code",
   "execution_count": null,
   "metadata": {},
   "outputs": [],
   "source": [
    "index.remove_from_index(value=\"banana\")"
   ]
  },
  {
   "attachments": {},
   "cell_type": "markdown",
   "metadata": {},
   "source": [
    "### Querying the Index\n",
    "To query the index, use the faiss_query or token_bound_query methods:"
   ]
  },
  {
   "cell_type": "code",
   "execution_count": null,
   "metadata": {},
   "outputs": [],
   "source": [
    "# Query the top-5 most similar values\n",
    "values, scores, indices = index.faiss_query(query=\"fruit\", k=5)\n",
    "\n",
    "# Query the top-5 most similar values with a maximum tokens constraint\n",
    "values, scores, indices = index.token_bound_query(query=\"fruit\", k=5, max_tokens=4000)"
   ]
  },
  {
   "attachments": {},
   "cell_type": "markdown",
   "metadata": {},
   "source": [
    "### Saving and Loading\n",
    "You can save the index to a file by calling the save method:"
   ]
  },
  {
   "cell_type": "code",
   "execution_count": null,
   "metadata": {},
   "outputs": [],
   "source": [
    "index.save()"
   ]
  },
  {
   "attachments": {},
   "cell_type": "markdown",
   "metadata": {},
   "source": [
    "You can load an index from a file by calling the load method:"
   ]
  },
  {
   "cell_type": "code",
   "execution_count": null,
   "metadata": {},
   "outputs": [],
   "source": [
    "index = MemoryIndex(load=True, name= \"precomputed_index\")"
   ]
  },
  {
   "attachments": {},
   "cell_type": "markdown",
   "metadata": {},
   "source": [
    "### Pruning the Index\n",
    "To prune the index based on certain constraints, use the prune method:"
   ]
  },
  {
   "cell_type": "code",
   "execution_count": null,
   "metadata": {},
   "outputs": [],
   "source": [
    "index.prune(max_tokens=3500)"
   ]
  },
  {
   "attachments": {},
   "cell_type": "markdown",
   "metadata": {},
   "source": [
    "### Multithreading\n",
    "In order to enable multi-threading for speeding up the embedding process, you can set the `max_workers parameter to a value bigger than 1:"
   ]
  },
  {
   "cell_type": "code",
   "execution_count": null,
   "metadata": {},
   "outputs": [],
   "source": [
    "index = MemoryIndex(values=myvalues,max_workers=8)"
   ]
  }
 ],
 "metadata": {
  "kernelspec": {
   "display_name": "Python 3",
   "language": "python",
   "name": "python3"
  },
  "language_info": {
   "codemirror_mode": {
    "name": "ipython",
    "version": 3
   },
   "file_extension": ".py",
   "mimetype": "text/x-python",
   "name": "python",
   "nbconvert_exporter": "python",
   "pygments_lexer": "ipython3",
   "version": "3.10.6"
  },
  "orig_nbformat": 4
 },
 "nbformat": 4,
 "nbformat_minor": 2
}
