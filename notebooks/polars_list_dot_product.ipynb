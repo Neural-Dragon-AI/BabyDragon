{
 "cells": [
  {
   "cell_type": "code",
   "execution_count": null,
   "metadata": {},
   "outputs": [],
   "source": [
    "import polars as pl\n",
    "import openai\n",
    "from babydragon.memory.indexes.numpy_index import NpIndex\n",
    "from babydragon.models.embedders.ada2 import OpenAiEmbedder"
   ]
  },
  {
   "cell_type": "code",
   "execution_count": null,
   "metadata": {},
   "outputs": [],
   "source": [
    "# Initialize an OpenAiEmbedder instance\n",
    "openai_embedder = OpenAiEmbedder()\n",
    "openai.api_key = \"sk-\"\n",
    "# Initialize a NpIndex instance using OpenAiEmbedder\n",
    "values = ['Hello, world!', 'This is a test sentence.', 'OpenAI is amazing!','cake','pie','ice cream', 'Buffer Errors']\n",
    "embeddings = openai_embedder.embed(values)\n"
   ]
  },
  {
   "cell_type": "code",
   "execution_count": null,
   "metadata": {},
   "outputs": [],
   "source": [
    "vindex = NpIndex(values, embeddings)"
   ]
  },
  {
   "cell_type": "code",
   "execution_count": null,
   "metadata": {},
   "outputs": [],
   "source": [
    "df = pl.DataFrame({'values': values, 'embeddings': embeddings}, schema={'values': str, 'embeddings':pl.List( inner=pl.Float64) }) #:pl.Array(width=1536, inner=pl.Float64)"
   ]
  },
  {
   "cell_type": "code",
   "execution_count": null,
   "metadata": {},
   "outputs": [],
   "source": [
    "df.head()"
   ]
  },
  {
   "cell_type": "code",
   "execution_count": null,
   "metadata": {},
   "outputs": [],
   "source": [
    "query_text = \"Dessert recommendation\"\n",
    "query_embedding = openai_embedder.embed([query_text])"
   ]
  },
  {
   "cell_type": "code",
   "execution_count": null,
   "metadata": {},
   "outputs": [],
   "source": [
    "len(query_embedding)"
   ]
  },
  {
   "cell_type": "code",
   "execution_count": null,
   "metadata": {},
   "outputs": [],
   "source": [
    "top_k = 3\n",
    "vindex.search(query_text, top_k=top_k)"
   ]
  },
  {
   "cell_type": "code",
   "execution_count": null,
   "metadata": {},
   "outputs": [],
   "source": [
    "embedding_column_name = 'embeddings'\n",
    "# Add the query as a new column in the DataFrame\n",
    "n_rows = len(df)\n",
    "query_1d_series = pl.Series(query_embedding)\n",
    "query_df_1d = pl.DataFrame({ 'query': query_embedding},  )\n",
    "print(query_1d_series, type(query_1d_series))\n",
    "print(query_df_1d, type(query_df_1d))\n",
    "\n"
   ]
  },
  {
   "cell_type": "code",
   "execution_count": null,
   "metadata": {},
   "outputs": [],
   "source": [
    "query_1d_series_list = pl.Series([query_embedding])\n",
    "query_df_1d_list = pl.DataFrame({ 'query': [query_embedding]}, schema={'query': pl.List( inner=pl.Float64) })\n",
    "query_df_bd_list = pl.DataFrame({ 'query': [query_embedding] * n_rows }, schema={'query': pl.List( inner=pl.Float64) })\n",
    "print(query_1d_series_list, type(query_1d_series_list))\n",
    "print(query_df_1d_list, type(query_df_1d_list))\n",
    "print(query_df_bd_list, type(query_df_bd_list))"
   ]
  },
  {
   "cell_type": "code",
   "execution_count": null,
   "metadata": {},
   "outputs": [],
   "source": [
    "embeddings_series = df[\"embeddings\"]\n",
    "embeddings_df = df.select(\"embeddings\")\n",
    "print(embeddings_series.head(), type(df[\"embeddings\"]))\n",
    "print(embeddings_df.head(), type(embeddings_df))\n"
   ]
  },
  {
   "cell_type": "code",
   "execution_count": null,
   "metadata": {},
   "outputs": [],
   "source": [
    "#get the first row of the embeddings column from the different datastructures\n",
    "first_element_series = embeddings_series[0]\n",
    "first_element_df = embeddings_df[0]\n",
    "print(first_element_series, type(embeddings_series[0]))\n",
    "print(first_element_df, type(embeddings_df[0]))\n"
   ]
  },
  {
   "cell_type": "code",
   "execution_count": null,
   "metadata": {},
   "outputs": [],
   "source": [
    "#dot product of the first row of the embeddings column with the query both in series format\n",
    "print(type(first_element_series), type(query_1d_series))\n",
    "print(first_element_series.shape, query_1d_series.shape)\n",
    "first_element_series.dot(query_1d_series)"
   ]
  },
  {
   "cell_type": "code",
   "execution_count": null,
   "metadata": {},
   "outputs": [],
   "source": [
    "first_element_df.head()"
   ]
  },
  {
   "cell_type": "code",
   "execution_count": null,
   "metadata": {},
   "outputs": [],
   "source": [
    "#dot product of the first row of the embeddings column with the query both in df format\n",
    "print(type(first_element_df), type(query_df_1d))\n",
    "print(first_element_df.shape, query_df_1d.shape)\n",
    "element = first_element_df[\"embeddings\"].list.eval(pl.element().explode())\n",
    "print(\"Printing element:\")\n",
    "print(type(element),element.shape)\n",
    "\n",
    "print(element)\n",
    "normal_multiplcation = first_element_df[\"embeddings\"].list.eval(pl.element()*2)\n",
    "print(normal_multiplcation, type(normal_multiplcation))\n",
    "dot_product =first_element_df[\"embeddings\"].list.eval(pl.element())[0].dot(query_1d_series)\n",
    "print(dot_product, type(dot_product))\n",
    "\n",
    "dot_product_ineval =first_element_df[\"embeddings\"].list.eval(pl.element().explode().dot(query_1d_series))\n",
    "\n",
    "print(dot_product_ineval, type(dot_product_ineval))"
   ]
  },
  {
   "cell_type": "code",
   "execution_count": null,
   "metadata": {},
   "outputs": [],
   "source": [
    "dot_product_frame = df.with_columns(df[\"embeddings\"].list.eval(pl.element().explode().dot(query_1d_series),parallel=True).alias(\"dot_product\"))"
   ]
  },
  {
   "cell_type": "code",
   "execution_count": null,
   "metadata": {},
   "outputs": [],
   "source": [
    "print(type(query_1d_series),query_1d_series.shape)"
   ]
  },
  {
   "cell_type": "code",
   "execution_count": null,
   "metadata": {},
   "outputs": [],
   "source": [
    "print(df[\"embeddings\"].shape)\n",
    "print(df[\"embeddings\"][0].shape)\n",
    "df[\"embeddings\"]"
   ]
  },
  {
   "cell_type": "code",
   "execution_count": null,
   "metadata": {},
   "outputs": [],
   "source": [
    "dot_product_frame.head()"
   ]
  },
  {
   "cell_type": "code",
   "execution_count": null,
   "metadata": {},
   "outputs": [],
   "source": [
    "extended_df = df.hstack(query_df)\n",
    "extended_df.head()"
   ]
  },
  {
   "cell_type": "code",
   "execution_count": null,
   "metadata": {},
   "outputs": [],
   "source": [
    "dir(extended_df[embedding_column_name].arr)"
   ]
  },
  {
   "cell_type": "code",
   "execution_count": null,
   "metadata": {},
   "outputs": [],
   "source": [
    "dir(extended_df[embedding_column_name].list)"
   ]
  }
 ],
 "metadata": {
  "kernelspec": {
   "display_name": "Python 3",
   "language": "python",
   "name": "python3"
  },
  "language_info": {
   "codemirror_mode": {
    "name": "ipython",
    "version": 3
   },
   "file_extension": ".py",
   "mimetype": "text/x-python",
   "name": "python",
   "nbconvert_exporter": "python",
   "pygments_lexer": "ipython3",
   "version": "3.10.6"
  },
  "orig_nbformat": 4
 },
 "nbformat": 4,
 "nbformat_minor": 2
}
