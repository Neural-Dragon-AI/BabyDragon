{
 "cells": [
  {
   "cell_type": "code",
   "execution_count": 3,
   "metadata": {},
   "outputs": [
    {
     "ename": "ImportError",
     "evalue": "attempted relative import with no known parent package",
     "output_type": "error",
     "traceback": [
      "\u001b[0;31m---------------------------------------------------------------------------\u001b[0m",
      "\u001b[0;31mImportError\u001b[0m                               Traceback (most recent call last)",
      "Cell \u001b[0;32mIn[3], line 1\u001b[0m\n\u001b[0;32m----> 1\u001b[0m \u001b[39mfrom\u001b[39;00m \u001b[39m.\u001b[39;00m\u001b[39m.\u001b[39;00m\u001b[39mbabydragon\u001b[39;00m\u001b[39m.\u001b[39;00m\u001b[39mchat\u001b[39;00m\u001b[39m.\u001b[39;00m\u001b[39mmemory_chat\u001b[39;00m \u001b[39mimport\u001b[39;00m FifoVectorChat, FifoChat, VectorChat\n\u001b[1;32m      2\u001b[0m \u001b[39mfrom\u001b[39;00m \u001b[39mbabydragon\u001b[39;00m\u001b[39m.\u001b[39;00m\u001b[39mchat\u001b[39;00m\u001b[39m.\u001b[39;00m\u001b[39mbase_chat\u001b[39;00m \u001b[39mimport\u001b[39;00m BaseChat\n\u001b[1;32m      3\u001b[0m \u001b[39mfrom\u001b[39;00m \u001b[39mbabydragon\u001b[39;00m\u001b[39m.\u001b[39;00m\u001b[39mchat\u001b[39;00m\u001b[39m.\u001b[39;00m\u001b[39mchat\u001b[39;00m \u001b[39mimport\u001b[39;00m Chat\n",
      "\u001b[0;31mImportError\u001b[0m: attempted relative import with no known parent package"
     ]
    }
   ],
   "source": [
    "from babydragon.chat.memory_chat import FifoVectorChat, FifoChat, VectorChat\n",
    "from babydragon.chat.base_chat import BaseChat\n",
    "from babydragon.chat.chat import Chat\n",
    "from babydragon.memory.indexes.pandas_index import PandasIndex"
   ]
  },
  {
   "cell_type": "code",
   "execution_count": null,
   "metadata": {},
   "outputs": [],
   "source": [
    "import openai\n",
    "\n",
    "openai.api_key = \"\""
   ]
  },
  {
   "cell_type": "code",
   "execution_count": null,
   "metadata": {},
   "outputs": [],
   "source": [
    "bc = BaseChat()"
   ]
  },
  {
   "cell_type": "code",
   "execution_count": null,
   "metadata": {},
   "outputs": [],
   "source": [
    "c = Chat()"
   ]
  },
  {
   "cell_type": "code",
   "execution_count": null,
   "metadata": {},
   "outputs": [],
   "source": []
  },
  {
   "cell_type": "code",
   "execution_count": null,
   "metadata": {},
   "outputs": [],
   "source": [
    "import pandas as pd"
   ]
  },
  {
   "cell_type": "code",
   "execution_count": null,
   "metadata": {},
   "outputs": [],
   "source": [
    "# create a mathew colville index\n",
    "df_mci = pd.read_csv(\n",
    "    r\"C:\\Users\\Tommaso\\Documents\\Dev\\LangDND\\DndIndexes\\Indexes\\matthew_colville_index.csv\",\n",
    "    converters={\"embeddings\": eval},\n",
    ")\n",
    "mci = PandasIndex(\n",
    "    df_mci, columns=[\"text\"], embeddings_col=\"embeddings\", name=\"matthew_colville_index\"\n",
    ")"
   ]
  },
  {
   "cell_type": "code",
   "execution_count": null,
   "metadata": {},
   "outputs": [],
   "source": [
    "ic = Chat(index_dict={\"matthew conville\": mci})"
   ]
  },
  {
   "cell_type": "code",
   "execution_count": null,
   "metadata": {},
   "outputs": [],
   "source": [
    "# ic.reply(\"Dungeon description please\")"
   ]
  },
  {
   "cell_type": "code",
   "execution_count": null,
   "metadata": {},
   "outputs": [],
   "source": [
    "ic.system_prompt"
   ]
  },
  {
   "cell_type": "code",
   "execution_count": null,
   "metadata": {},
   "outputs": [],
   "source": [
    "fc = FifoChat(index_dict={\"matthew conville\": mci})"
   ]
  },
  {
   "cell_type": "code",
   "execution_count": null,
   "metadata": {},
   "outputs": [],
   "source": [
    "fc.system_prompt"
   ]
  },
  {
   "cell_type": "code",
   "execution_count": null,
   "metadata": {},
   "outputs": [],
   "source": [
    "# fc.reply(\"Dungeon description please\")"
   ]
  },
  {
   "cell_type": "code",
   "execution_count": null,
   "metadata": {},
   "outputs": [],
   "source": [
    "fc.setup_indices"
   ]
  },
  {
   "cell_type": "code",
   "execution_count": null,
   "metadata": {},
   "outputs": [],
   "source": [
    "vc = VectorChat(index_dict={\"matthew conville\": mci})"
   ]
  },
  {
   "cell_type": "code",
   "execution_count": null,
   "metadata": {},
   "outputs": [],
   "source": [
    "vc.reply(\"Dungeon description please\")"
   ]
  },
  {
   "cell_type": "code",
   "execution_count": null,
   "metadata": {},
   "outputs": [],
   "source": [
    "vci = FifoVectorChat(\n",
    "    index_dict={\"matthew conville\": mci},\n",
    "    max_output_tokens=100,\n",
    "    max_index_memory=1000,\n",
    "    max_memory=2000,\n",
    "    longterm_frac=0.3,\n",
    ")"
   ]
  },
  {
   "cell_type": "code",
   "execution_count": null,
   "metadata": {},
   "outputs": [],
   "source": [
    "vci.total_tokens"
   ]
  },
  {
   "cell_type": "code",
   "execution_count": null,
   "metadata": {},
   "outputs": [],
   "source": [
    "vci.reply(\n",
    "    \"Dungeon description ple n running a game back in 1974 when the game was first created. Additionally, the speaker explains that even though there are now many more options for exploring dungeons in different games, the original idea of a dungeon in Dungeons and Dragons is still useful and important. Overall, this description portrays dungeons as a key component of the Dungeons and Dragons game and highlights their historical and current significance. ase Dungeon description pleaseDungeon description pleaseDungeon description pleaseDungeon description pleaseDungeon description pleaseDungeon description pleaseDungeon description pleaseDungeon description pleaseDungeon description pleaseDungeon description pleaseDungeon description pleaseDungeon description pleaseDungeon description pleaseDungeon description pleaseDungeon description pleaseDungeon description pleaseDungeon description pleaseDungeon description pleaseDungeon description pleaseDungeon description pleaseDungeon description pleaseDungeon description pleaseDungeon description pleaseDungeon description pleas Dungeon description please eDungeon description pleaseDungeon description pleaseDungeon description pleaseDungeon description pleaseDungeon description pleaseDungeon description pleaseDungeon description pleaseDungeon description pleaseDungeon description please\"\n",
    ")"
   ]
  },
  {
   "cell_type": "code",
   "execution_count": null,
   "metadata": {},
   "outputs": [],
   "source": [
    "mci.faiss_query(\"dungeon descriptions\")"
   ]
  },
  {
   "cell_type": "code",
   "execution_count": null,
   "metadata": {},
   "outputs": [],
   "source": [
    "# create a srd index\n",
    "url = r\"C:\\Users\\Tommaso\\Documents\\Dev\\LangDND\\DndIndexes\\Indexes\\srd_index.csv\"\n",
    "df_srd = pd.read_csv(url, converters={\"embeddings\": eval})\n",
    "srdi = PandasIndex(\n",
    "    df_srd, columns=[\"values\"], embeddings_col=\"embeddings\", name=\"srd_index\"\n",
    ")"
   ]
  },
  {
   "cell_type": "code",
   "execution_count": null,
   "metadata": {},
   "outputs": [],
   "source": [
    "## create index dictionary\n",
    "indices = {\"matthew_colville_index\": mci, \"srd_index\": srdi}"
   ]
  },
  {
   "cell_type": "code",
   "execution_count": null,
   "metadata": {},
   "outputs": [],
   "source": [
    "ic.gradio()"
   ]
  }
 ],
 "metadata": {
  "kernelspec": {
   "display_name": "Python 3",
   "language": "python",
   "name": "python3"
  },
  "language_info": {
   "codemirror_mode": {
    "name": "ipython",
    "version": 3
   },
   "file_extension": ".py",
   "mimetype": "text/x-python",
   "name": "python",
   "nbconvert_exporter": "python",
   "pygments_lexer": "ipython3",
   "version": "3.10.0"
  },
  "orig_nbformat": 4
 },
 "nbformat": 4,
 "nbformat_minor": 2
}
