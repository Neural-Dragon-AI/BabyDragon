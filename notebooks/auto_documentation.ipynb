{
 "cells": [
  {
   "cell_type": "code",
   "execution_count": 6,
   "metadata": {},
   "outputs": [],
   "source": [
    "import os"
   ]
  },
  {
   "cell_type": "code",
   "execution_count": 5,
   "metadata": {},
   "outputs": [],
   "source": [
    "\n",
    "\n",
    "def create_rst_file(path, name):\n",
    "    \"\"\"\n",
    "    Create a .rst file with a title in the given directory.\n",
    "    The name parameter should not include the .rst extension.\n",
    "    \"\"\"\n",
    "    rst_path = os.path.join(path, f\"{name}.rst\")\n",
    "    with open(rst_path, 'w') as rst_file:\n",
    "        rst_file.write(f\"{name}\\n\")\n",
    "        rst_file.write(\"=\" * len(name) + \"\\n\\n\")\n",
    "        rst_file.write(\".. automodule:: \" + name + \"\\n\")\n",
    "        rst_file.write(\"   :members:\\n\")\n",
    "\n",
    "def create_sphinx_docs(src_dir, doc_dir):\n",
    "    \"\"\"\n",
    "    Generate .rst files in doc_dir for each .py file in src_dir and its subdirectories.\n",
    "    Does not overwrite existing .rst files.\n",
    "    \"\"\"\n",
    "    for root, dirs, files in os.walk(src_dir):\n",
    "        relative_path = os.path.relpath(root, src_dir)\n",
    "        rst_dir = os.path.join(doc_dir, relative_path)\n",
    "\n",
    "        if not os.path.exists(rst_dir):\n",
    "            os.makedirs(rst_dir)\n",
    "\n",
    "        for file in files:\n",
    "            name, ext = os.path.splitext(file)\n",
    "            if ext == \".py\" and name != \"__init__\":\n",
    "                rst_path = os.path.join(rst_dir, name + \".rst\")\n",
    "                if not os.path.exists(rst_path):\n",
    "                    create_rst_file(rst_dir, name)\n",
    "\n",
    "\n",
    "\n",
    "\n",
    "# Example usage:\n",
    "create_sphinx_docs('/Users/danielhug/neuraldragon/gitensor/BabyDragon/babydragon', '/Users/danielhug/neuraldragon/gitensor/BabyDragon/docs')\n"
   ]
  },
  {
   "cell_type": "code",
   "execution_count": null,
   "metadata": {},
   "outputs": [],
   "source": []
  }
 ],
 "metadata": {
  "kernelspec": {
   "display_name": "venv",
   "language": "python",
   "name": "python3"
  },
  "language_info": {
   "codemirror_mode": {
    "name": "ipython",
    "version": 3
   },
   "file_extension": ".py",
   "mimetype": "text/x-python",
   "name": "python",
   "nbconvert_exporter": "python",
   "pygments_lexer": "ipython3",
   "version": "3.10.0"
  },
  "orig_nbformat": 4
 },
 "nbformat": 4,
 "nbformat_minor": 2
}
