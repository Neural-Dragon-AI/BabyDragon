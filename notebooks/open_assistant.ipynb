{
 "cells": [
  {
   "cell_type": "code",
   "execution_count": 1,
   "metadata": {},
   "outputs": [],
   "source": [
    "import sys\n",
    "sys.path.append('/Users/danielhug/neuraldragon/.venv/lib/python3.10/site-packages')\n",
    "sys.path.append(\"/Users/danielhug/neuraldragon/gitensor/BabyDragon\")"
   ]
  },
  {
   "cell_type": "code",
   "execution_count": 2,
   "metadata": {},
   "outputs": [
    {
     "name": "stderr",
     "output_type": "stream",
     "text": [
      "/Users/danielhug/neuraldragon/gitensor/BabyDragon/notebooks/venv/lib/python3.10/site-packages/tqdm/auto.py:21: TqdmWarning: IProgress not found. Please update jupyter and ipywidgets. See https://ipywidgets.readthedocs.io/en/stable/user_install.html\n",
      "  from .autonotebook import tqdm as notebook_tqdm\n"
     ]
    }
   ],
   "source": [
    "from datasets import load_dataset"
   ]
  },
  {
   "cell_type": "code",
   "execution_count": 4,
   "metadata": {},
   "outputs": [],
   "source": [
    "from babydragon.memory.indexes.memory_index import MemoryIndex\n"
   ]
  },
  {
   "cell_type": "code",
   "execution_count": 11,
   "metadata": {},
   "outputs": [
    {
     "name": "stderr",
     "output_type": "stream",
     "text": [
      "Found cached dataset parquet (/Users/danielhug/.cache/huggingface/datasets/OpenAssistant___parquet/OpenAssistant--oasst1-2960c57d7e52ab15/0.0.0/2a3b91fbd88a2c90d1dbbb32b460cf621d31bd5b05b934492fdef7d8d6f236ec)\n",
      "100%|██████████| 2/2 [00:00<00:00, 182.31it/s]\n"
     ]
    }
   ],
   "source": [
    "dataset_url = \"OpenAssistant/oasst1\"\n",
    "dataset = load_dataset(dataset_url)['train']"
   ]
  },
  {
   "cell_type": "code",
   "execution_count": 12,
   "metadata": {},
   "outputs": [
    {
     "data": {
      "text/plain": [
       "['message_id',\n",
       " 'parent_id',\n",
       " 'user_id',\n",
       " 'created_date',\n",
       " 'text',\n",
       " 'role',\n",
       " 'lang',\n",
       " 'review_count',\n",
       " 'review_result',\n",
       " 'deleted',\n",
       " 'rank',\n",
       " 'synthetic',\n",
       " 'model_name',\n",
       " 'detoxify',\n",
       " 'message_tree_id',\n",
       " 'tree_state',\n",
       " 'emojis',\n",
       " 'labels']"
      ]
     },
     "execution_count": 12,
     "metadata": {},
     "output_type": "execute_result"
    }
   ],
   "source": [
    "dataset.column_names"
   ]
  },
  {
   "cell_type": "code",
   "execution_count": 13,
   "metadata": {},
   "outputs": [
    {
     "data": {
      "text/plain": [
       "{'message_id': '6ab24d72-0181-4594-a9cd-deaf170242fb',\n",
       " 'parent_id': None,\n",
       " 'user_id': 'c3fe8c76-fc30-4fa7-b7f8-c492f5967d18',\n",
       " 'created_date': '2023-02-05T14:23:50.983374+00:00',\n",
       " 'text': 'Can you write a short introduction about the relevance of the term \"monopsony\" in economics? Please use examples related to potential monopsonies in the labour market and cite relevant research.',\n",
       " 'role': 'prompter',\n",
       " 'lang': 'en',\n",
       " 'review_count': 3,\n",
       " 'review_result': True,\n",
       " 'deleted': False,\n",
       " 'rank': None,\n",
       " 'synthetic': False,\n",
       " 'model_name': None,\n",
       " 'detoxify': {'toxicity': 0.00044308538781479,\n",
       "  'severe_toxicity': 3.252684837207198e-05,\n",
       "  'obscene': 0.00023475120542570949,\n",
       "  'identity_attack': 0.0001416115992469713,\n",
       "  'insult': 0.00039489680784754455,\n",
       "  'threat': 4.075629112776369e-05,\n",
       "  'sexual_explicit': 2.712695459194947e-05},\n",
       " 'message_tree_id': '6ab24d72-0181-4594-a9cd-deaf170242fb',\n",
       " 'tree_state': 'ready_for_export',\n",
       " 'emojis': {'name': ['+1', '_skip_reply', '_skip_ranking'],\n",
       "  'count': [10, 1, 4]},\n",
       " 'labels': {'name': ['spam',\n",
       "   'lang_mismatch',\n",
       "   'pii',\n",
       "   'not_appropriate',\n",
       "   'hate_speech',\n",
       "   'sexual_content',\n",
       "   'quality',\n",
       "   'toxicity',\n",
       "   'humor',\n",
       "   'creativity',\n",
       "   'violence'],\n",
       "  'value': [0.0,\n",
       "   0.0,\n",
       "   0.0,\n",
       "   0.0,\n",
       "   0.0,\n",
       "   0.0,\n",
       "   0.9166666666666666,\n",
       "   0.16666666666666666,\n",
       "   0.3333333333333333,\n",
       "   0.6666666666666666,\n",
       "   0.0],\n",
       "  'count': [3, 3, 3, 3, 3, 3, 3, 3, 3, 3, 3]}}"
      ]
     },
     "execution_count": 13,
     "metadata": {},
     "output_type": "execute_result"
    }
   ],
   "source": [
    "dataset[0]"
   ]
  },
  {
   "cell_type": "code",
   "execution_count": 14,
   "metadata": {},
   "outputs": [
    {
     "name": "stderr",
     "output_type": "stream",
     "text": [
      "                                                                       \r"
     ]
    }
   ],
   "source": [
    "\n",
    "#filter by language\n",
    "dataset = dataset.filter(lambda example: example['lang'] == 'en')"
   ]
  },
  {
   "cell_type": "code",
   "execution_count": 15,
   "metadata": {},
   "outputs": [],
   "source": [
    "values = dataset.select_columns(['text'])\n"
   ]
  },
  {
   "cell_type": "code",
   "execution_count": 19,
   "metadata": {},
   "outputs": [],
   "source": []
  },
  {
   "cell_type": "code",
   "execution_count": 33,
   "metadata": {},
   "outputs": [
    {
     "data": {
      "image/png": "[encoded data removed]",
      "text/plain": [
       "<Figure size 640x480 with 1 Axes>"
      ]
     },
     "metadata": {},
     "output_type": "display_data"
    }
   ],
   "source": [
    "import tiktoken\n",
    "import matplotlib.pyplot as plt\n",
    "\n",
    "tokenizer = tiktoken.encoding_for_model(\"gpt-3.5-turbo\")\n",
    "token_counts = []\n",
    "filtered_values = []\n",
    "for val in values:\n",
    "    tokens = tokenizer.encode(val['text'], disallowed_special=())\n",
    "    num_tokens = len(tokens)\n",
    "    if num_tokens < 512:\n",
    "        filtered_values.append(val['text'])\n",
    "    token_counts.append(num_tokens)\n",
    "\n",
    "plt.hist(token_counts, bins=100)\n",
    "plt.xlabel('Token Counts')\n",
    "plt.ylabel('Frequency')\n",
    "plt.show()\n"
   ]
  },
  {
   "cell_type": "code",
   "execution_count": 28,
   "metadata": {},
   "outputs": [
    {
     "data": {
      "text/plain": [
       "11794"
      ]
     },
     "execution_count": 28,
     "metadata": {},
     "output_type": "execute_result"
    }
   ],
   "source": [
    "max(token_counts)"
   ]
  },
  {
   "cell_type": "code",
   "execution_count": 16,
   "metadata": {},
   "outputs": [
    {
     "data": {
      "text/plain": [
       "'Can you write a short introduction about the relevance of the term \"monopsony\" in economics? Please use examples related to potential monopsonies in the labour market and cite relevant research.'"
      ]
     },
     "execution_count": 16,
     "metadata": {},
     "output_type": "execute_result"
    }
   ],
   "source": [
    "values[0]['text']"
   ]
  },
  {
   "cell_type": "code",
   "execution_count": 30,
   "metadata": {},
   "outputs": [],
   "source": [
    "from babydragon.models.embedders.cohere import CohereEmbedder\n",
    "cohere_embedder = CohereEmbedder()"
   ]
  },
  {
   "cell_type": "code",
   "execution_count": 31,
   "metadata": {},
   "outputs": [
    {
     "data": {
      "text/plain": [
       "768"
      ]
     },
     "execution_count": 31,
     "metadata": {},
     "output_type": "execute_result"
    }
   ],
   "source": [
    "cohere_embedder.get_embedding_size()"
   ]
  },
  {
   "cell_type": "code",
   "execution_count": 36,
   "metadata": {},
   "outputs": [
    {
     "name": "stdout",
     "output_type": "stream",
     "text": [
      "0\n",
      "1000\n",
      "1000\n",
      "1000\n",
      "2000\n",
      "1000\n",
      "3000\n",
      "1000\n",
      "4000\n",
      "1000\n",
      "5000\n",
      "1000\n",
      "6000\n",
      "1000\n",
      "7000\n",
      "1000\n",
      "8000\n",
      "1000\n",
      "9000\n",
      "1000\n",
      "10000\n",
      "1000\n",
      "11000\n",
      "1000\n",
      "12000\n",
      "1000\n",
      "13000\n",
      "1000\n",
      "14000\n",
      "1000\n",
      "15000\n",
      "1000\n",
      "16000\n",
      "1000\n",
      "17000\n",
      "1000\n",
      "18000\n",
      "1000\n",
      "19000\n",
      "1000\n",
      "20000\n",
      "1000\n",
      "21000\n",
      "1000\n",
      "22000\n",
      "1000\n",
      "23000\n",
      "1000\n",
      "24000\n",
      "1000\n",
      "25000\n",
      "1000\n",
      "26000\n",
      "1000\n",
      "27000\n",
      "1000\n",
      "28000\n",
      "1000\n",
      "29000\n",
      "1000\n",
      "30000\n",
      "1000\n",
      "31000\n",
      "1000\n",
      "32000\n",
      "1000\n",
      "33000\n",
      "1000\n",
      "34000\n",
      "1000\n",
      "35000\n",
      "1000\n",
      "36000\n",
      "1000\n",
      "37000\n",
      "1000\n",
      "38000\n",
      "404\n"
     ]
    }
   ],
   "source": [
    "import cohere\n",
    "co = cohere.Client('LeohkffIg5ucAxbMSfiCIhZ0RL9M2uuw0GVb99ZN')\n",
    "# batch list into lists of 1000 and merge embeddings into a single ist\n",
    "embedding_set = []\n",
    "for i in range(0, len(filtered_values), 1000):\n",
    "    print(i)\n",
    "    if i + 1000 < len(filtered_values):\n",
    "        response = co.embed(texts= filtered_values[i:i+1000],model='multilingual-22-12')\n",
    "    else:\n",
    "        response = co.embed(texts= filtered_values[i:],model='multilingual-22-12')\n",
    "    print(len(response.embeddings))\n",
    "    embeddings = response.embeddings\n",
    "    embedding_set.extend(embeddings)\n"
   ]
  },
  {
   "cell_type": "code",
   "execution_count": 39,
   "metadata": {},
   "outputs": [
    {
     "data": {
      "text/plain": [
       "(38404, 768)"
      ]
     },
     "execution_count": 39,
     "metadata": {},
     "output_type": "execute_result"
    }
   ],
   "source": [
    "import numpy as np\n",
    "np.array(embedding_set).shape"
   ]
  },
  {
   "cell_type": "code",
   "execution_count": 40,
   "metadata": {},
   "outputs": [
    {
     "name": "stdout",
     "output_type": "stream",
     "text": [
      "Creating a new index from a list of embeddings and values\n",
      "37908  values in the index\n",
      "37908  embeddings in the index\n"
     ]
    }
   ],
   "source": [
    "OA_index = MemoryIndex(values=filtered_values, embeddings=embedding_set, name='OA_cohere_index', embedder=CohereEmbedder)"
   ]
  },
  {
   "cell_type": "code",
   "execution_count": 41,
   "metadata": {},
   "outputs": [
    {
     "data": {
      "text/plain": [
       "(['What is the meaning of life?',\n",
       "  \"What's the meaning of life?\",\n",
       "  'what is the meaning of life?',\n",
       "  'The meaning of life is a philosophical and existential question that has been debated and explored by scholars, theologians, and thinkers for centuries. There is no single, universally accepted answer to this question, as the meaning of life is subjective and may differ from person to person.\\n\\nSome people may find meaning in relationships, such as family or romantic relationships, while others may find meaning through their work or career. Others may find meaning in spirituality, religion, or personal growth.\\n\\nUltimately, the meaning of life may be a personal and individual journey, and each person may need to explore their own beliefs, values, and experiences to determine their own understanding of the meaning of life.',\n",
       "  'Tell me what is the meaning of life?',\n",
       "  \"The meaning of life is a complex and multi-faceted concept that can vary greatly depending on one's philosophical or religious beliefs.\\n\\nSome individuals might believe that the purpose of life is to be happy\\nwhile others might believe that the ultimate goal is following religious teaching\\ndedicated to praying to God or other religious activities\\n such as reading holy texts and other religious activities related to their faith is considered to be the ultimate expression of their devotion and purpose in life. \\n\\nThere are also those who believe that life has no inherent meaning, and that it is up to each individual to create their own purpose and significance.\\n\\nRegardless of every perspective, it is clear that the meaning of life is a deeply personal and subjective concept that can differ greatly depending on your beliefs and experiences.\",\n",
       "  \"Here are some perspectives on the meaning of life from major world religions:\\n\\n- In Christianity, the meaning of life involves fulfilling God's purpose for one's existence, which is to love God and love one another. The ultimate goal is to attain eternal life with God in Heaven. Finding meaning comes from living according to Jesus's teachings and following his example.\\n\\n- In Islam, the purpose of life is to worship Allah and to seek closeness to him. Muslims are taught to be grateful for life and to make the most of the opportunities that God has provided to do good and show kindness to others. Serving God and seeking paradise are the primary purposes of human existence.\\n\\n- In Hinduism, the meaning of life involves fulfilling dharma or your purpose in the cosmic order. This could be through virtuous conduct, religious duties, and graduating through the stages of life. The ultimate goal is to attain liberation or moksha from the cycle of rebirth. Finding meaning comes from fulfilling one's purpose and achieving unity with Brahman or the eternal Self.\\n\\n- In Buddhism, the purpose of life is to overcome suffering by reaching Nirvana. One cultivates wisdom and morality and practices meditation to free oneself from attachments and delusions. The ultimate goal is to attain enlightenment through one's own efforts and end the cycle of rebirth. Meaning is found in the journey towards liberation from suffering, not in external conditions or beliefs.\\n\\nI hope this helps provide some perspective on different views of the meaning of life. As you reflect on these concepts, consider what resonates with you and how you can explore your own sources of meaning, purpose, and fulfillment. If you would like to discuss this further, I'm happy to provide additional insights or listen to your thoughts on the matter.\",\n",
       "  'The meaning of life is a philosophical question that has been debated throughout history, and there is no single answer that is universally accepted. \\n\\nSome people believe that life has no inherent meaning, and that we must create our own purpose through our experiences and relationships. \\n\\nOthers believe that life has a spiritual or divine meaning, and that it is our responsibility to discover and fulfill that purpose. \\n\\nUltimately, the meaning of life is a deeply personal and subjective question, and each person must decide for themselves what it means to them.',\n",
       "  \"The meaning of life is a philosophical question that has been debated for centuries, and there is no one answer that applies to everyone. In the current time, the meaning of life can vary greatly depending on an individual's beliefs, values, and experiences.\\n\\nFor some people, the meaning of life might be to find happiness and fulfillment, while for others it could be to achieve success or to contribute to society in a meaningful way. Some may find meaning in their relationships with family and friends, while others may focus on personal growth and spiritual development.\\n\\nUltimately, the meaning of life is a deeply personal and subjective concept that can change over time as people grow and experience new things. It is up to each individual to determine their own purpose and meaning in life.\",\n",
       "  'The meaning of life is a philosophical and metaphysical question that has been asked by many people throughout history, but there is no single answer. The concept of the meaning of life can be viewed as a cluster or amalgam of overlapping ideas such as fulfilling higher-order purposes, meriting substantial esteem or admiration, having a noteworthy impact, transcending one’s animal nature, making sense, or exhibiting a compelling life-story. Different people and cultures believe different things for the answer to this question. Many schools of philosophy suggest varying answers for the meaning of life, including life having a supernatural or unexplainable meaning. Humans may ponder the question of what is the meaning of life for a variety of reasons, and there are three meanings to understanding the meaning of life: purpose, coherence, and significance.'],\n",
       " [152.45193,\n",
       "  152.04971,\n",
       "  151.47348,\n",
       "  151.21823,\n",
       "  151.15018,\n",
       "  150.6398,\n",
       "  150.63448,\n",
       "  150.607,\n",
       "  150.59511,\n",
       "  150.13104],\n",
       " array([[ 7039,  8367, 25498, 32563,  8344, 32566, 25503, 32559,  3426,\n",
       "         25501]]))"
      ]
     },
     "execution_count": 41,
     "metadata": {},
     "output_type": "execute_result"
    }
   ],
   "source": [
    "OA_index.faiss_query(\"What is the meaning of life?\")"
   ]
  },
  {
   "cell_type": "code",
   "execution_count": 16,
   "metadata": {},
   "outputs": [],
   "source": [
    "from babydragon.chat.memory_chat import FifoChat\n"
   ]
  },
  {
   "cell_type": "code",
   "execution_count": 18,
   "metadata": {},
   "outputs": [
    {
     "name": "stdout",
     "output_type": "stream",
     "text": [
      "Index is available so using index prompts\n"
     ]
    }
   ],
   "source": [
    "chatbot = FifoChat(model= \"command\", index_dict = {\"OA_cohere_index\":OA_index}, name=\"babyd_chatbot\", max_index_memory = 2500, max_output_tokens= 400)"
   ]
  },
  {
   "cell_type": "code",
   "execution_count": 19,
   "metadata": {},
   "outputs": [
    {
     "name": "stdout",
     "output_type": "stream",
     "text": [
      "Trying to call Cohere API... using model: command\n"
     ]
    },
    {
     "data": {
      "text/markdown": [
       "#### Question: \n",
       " What is the meaning of life?"
      ],
      "text/plain": [
       "<IPython.core.display.Markdown object>"
      ]
     },
     "metadata": {},
     "output_type": "display_data"
    },
    {
     "data": {
      "text/markdown": [
       " #### Anwser: \n",
       " \n",
       "According to Hinduism, the meaning of life is to realize that one's soul is identical to the supreme soul, that the supreme soul is present in everything and everyone, all life is interconnected and there is oneness in all life."
      ],
      "text/plain": [
       "<IPython.core.display.Markdown object>"
      ]
     },
     "metadata": {},
     "output_type": "display_data"
    },
    {
     "data": {
      "text/plain": [
       "\"\\nAccording to Hinduism, the meaning of life is to realize that one's soul is identical to the supreme soul, that the supreme soul is present in everything and everyone, all life is interconnected and there is oneness in all life.\""
      ]
     },
     "execution_count": 19,
     "metadata": {},
     "output_type": "execute_result"
    }
   ],
   "source": [
    "chatbot.reply(\"What is the meaning of life?\")"
   ]
  }
 ],
 "metadata": {
  "kernelspec": {
   "display_name": "Python 3",
   "language": "python",
   "name": "python3"
  },
  "language_info": {
   "codemirror_mode": {
    "name": "ipython",
    "version": 3
   },
   "file_extension": ".py",
   "mimetype": "text/x-python",
   "name": "python",
   "nbconvert_exporter": "python",
   "pygments_lexer": "ipython3",
   "version": "3.10.0"
  },
  "orig_nbformat": 4
 },
 "nbformat": 4,
 "nbformat_minor": 2
}
