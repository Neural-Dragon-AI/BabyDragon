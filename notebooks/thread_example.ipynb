{
 "cells": [
  {
   "cell_type": "markdown",
   "metadata": {},
   "source": [
    "## 1. Import the Required Libraries\n",
    "First, make sure you have imported all the required libraries as mentioned in the code snippet.\n"
   ]
  },
  {
   "cell_type": "code",
   "execution_count": 1,
   "metadata": {},
   "outputs": [],
   "source": [
    "from babydragon.memory.threads.base_thread import BaseThread"
   ]
  },
  {
   "cell_type": "markdown",
   "metadata": {},
   "source": [
    "\n",
    "## 2. Initialize the BaseThread Class\n",
    "Create an instance of the BaseThread class."
   ]
  },
  {
   "cell_type": "code",
   "execution_count": 2,
   "metadata": {},
   "outputs": [],
   "source": [
    "memory_thread = BaseThread(name=\"conversation\", max_memory=500)\n"
   ]
  },
  {
   "cell_type": "markdown",
   "metadata": {},
   "source": [
    "## 3. Add Messages to the Thread\n",
    "You can add messages to the thread using the add_dict_to_thread method."
   ]
  },
  {
   "cell_type": "code",
   "execution_count": 3,
   "metadata": {},
   "outputs": [],
   "source": [
    "message1 = {\"role\": \"user\", \"content\": \"Hello, how can I help you?\"}\n",
    "message2 = {\"role\": \"assistant\", \"content\": \"I have a question about your services.\"}\n",
    "\n",
    "memory_thread.add_dict_to_thread(message1)\n",
    "memory_thread.add_dict_to_thread(message2)\n"
   ]
  },
  {
   "cell_type": "code",
   "execution_count": 4,
   "metadata": {},
   "outputs": [
    {
     "name": "stdout",
     "output_type": "stream",
     "text": [
      "shape: (2,)\n",
      "Series: 'tokens_count' [u16]\n",
      "[\n",
      "\t15\n",
      "\t15\n",
      "]\n"
     ]
    }
   ],
   "source": [
    "print(memory_thread.memory_thread[\"tokens_count\"])\n"
   ]
  },
  {
   "cell_type": "markdown",
   "metadata": {},
   "source": [
    "## 4. Retrieve Messages\n",
    "Use various retrieval methods to access messages."
   ]
  },
  {
   "cell_type": "code",
   "execution_count": 5,
   "metadata": {},
   "outputs": [
    {
     "name": "stdout",
     "output_type": "stream",
     "text": [
      "shape: (1, 4)\n",
      "┌───────────┬───────────────────────────────────┬───────────┬──────────────┐\n",
      "│ role      ┆ content                           ┆ timestamp ┆ tokens_count │\n",
      "│ ---       ┆ ---                               ┆ ---       ┆ ---          │\n",
      "│ str       ┆ str                               ┆ f64       ┆ u16          │\n",
      "╞═══════════╪═══════════════════════════════════╪═══════════╪══════════════╡\n",
      "│ assistant ┆ I have a question about your ser… ┆ 1.6925e9  ┆ 15           │\n",
      "└───────────┴───────────────────────────────────┴───────────┴──────────────┘\n",
      "shape: (2, 4)\n",
      "┌───────────┬───────────────────────────────────┬───────────┬──────────────┐\n",
      "│ role      ┆ content                           ┆ timestamp ┆ tokens_count │\n",
      "│ ---       ┆ ---                               ┆ ---       ┆ ---          │\n",
      "│ str       ┆ str                               ┆ f64       ┆ u16          │\n",
      "╞═══════════╪═══════════════════════════════════╪═══════════╪══════════════╡\n",
      "│ user      ┆ Hello, how can I help you?        ┆ 1.6925e9  ┆ 15           │\n",
      "│ assistant ┆ I have a question about your ser… ┆ 1.6925e9  ┆ 15           │\n",
      "└───────────┴───────────────────────────────────┴───────────┴──────────────┘\n"
     ]
    }
   ],
   "source": [
    "# Get the last message\n",
    "last_message = memory_thread.last_message()\n",
    "print(last_message)\n",
    "\n",
    "# Get messages with less than a specific number of tokens\n",
    "more_tokens_messages = memory_thread.messages_less_tokens(tokens=20)\n",
    "print(more_tokens_messages)\n"
   ]
  },
  {
   "cell_type": "code",
   "execution_count": 6,
   "metadata": {},
   "outputs": [],
   "source": [
    "# Add a longer message\n",
    "long_message = {\"role\": \"user\", \"content\": \"This is a longer message that should have more than 10 tokens.\"}\n",
    "memory_thread.add_dict_to_thread(long_message)"
   ]
  },
  {
   "cell_type": "code",
   "execution_count": 7,
   "metadata": {},
   "outputs": [
    {
     "name": "stdout",
     "output_type": "stream",
     "text": [
      "shape: (1, 4)\n",
      "┌──────┬───────────────────────────────────┬───────────┬──────────────┐\n",
      "│ role ┆ content                           ┆ timestamp ┆ tokens_count │\n",
      "│ ---  ┆ ---                               ┆ ---       ┆ ---          │\n",
      "│ str  ┆ str                               ┆ f64       ┆ u16          │\n",
      "╞══════╪═══════════════════════════════════╪═══════════╪══════════════╡\n",
      "│ user ┆ This is a longer message that sh… ┆ 1.6925e9  ┆ 21           │\n",
      "└──────┴───────────────────────────────────┴───────────┴──────────────┘\n"
     ]
    }
   ],
   "source": [
    "\n",
    "\n",
    "# Get messages with more than 10 tokens\n",
    "more_tokens_messages = memory_thread.messages_more_tokens(tokens=15, role=\"user\")\n",
    "print(more_tokens_messages)\n"
   ]
  },
  {
   "cell_type": "markdown",
   "metadata": {},
   "source": [
    "## 5. Remove a Message\n",
    "You can remove a message by its content or index."
   ]
  },
  {
   "cell_type": "code",
   "execution_count": 8,
   "metadata": {},
   "outputs": [],
   "source": [
    "# Remove by content\n",
    "memory_thread.remove_dict_from_thread(message_dict=message1)\n",
    "\n",
    "# Remove by index\n",
    "memory_thread.remove_dict_from_thread(idx=-1)\n"
   ]
  },
  {
   "cell_type": "code",
   "execution_count": 11,
   "metadata": {},
   "outputs": [
    {
     "name": "stdout",
     "output_type": "stream",
     "text": [
      "shape: (1, 4)\n",
      "┌───────────┬───────────────────────────────────┬───────────┬──────────────┐\n",
      "│ role      ┆ content                           ┆ timestamp ┆ tokens_count │\n",
      "│ ---       ┆ ---                               ┆ ---       ┆ ---          │\n",
      "│ str       ┆ str                               ┆ f64       ┆ u16          │\n",
      "╞═══════════╪═══════════════════════════════════╪═══════════╪══════════════╡\n",
      "│ assistant ┆ I have a question about your ser… ┆ 1.6925e9  ┆ 15           │\n",
      "└───────────┴───────────────────────────────────┴───────────┴──────────────┘\n"
     ]
    }
   ],
   "source": [
    "# Get the last message\n",
    "last_message = memory_thread.first_message()\n",
    "print(last_message)"
   ]
  },
  {
   "cell_type": "markdown",
   "metadata": {},
   "source": [
    "## 6. Save and Load the Thread\n",
    "You can save the current state of the thread and load it later."
   ]
  },
  {
   "cell_type": "code",
   "execution_count": null,
   "metadata": {},
   "outputs": [],
   "source": [
    "# Save the thread\n",
    "memory_thread.save(path=\"conversation.parquet\")\n",
    "\n",
    "# Load the thread\n",
    "memory_thread.load(path=\"conversation.parquet\")\n"
   ]
  },
  {
   "cell_type": "markdown",
   "metadata": {},
   "source": [
    "## 7. Filter Messages\n",
    "You can filter messages based on various criteria."
   ]
  },
  {
   "cell_type": "code",
   "execution_count": 15,
   "metadata": {},
   "outputs": [
    {
     "name": "stdout",
     "output_type": "stream",
     "text": [
      "shape: (2, 4)\n",
      "┌──────┬───────────────────────────────────┬───────────┬──────────────┐\n",
      "│ role ┆ content                           ┆ timestamp ┆ tokens_count │\n",
      "│ ---  ┆ ---                               ┆ ---       ┆ ---          │\n",
      "│ str  ┆ str                               ┆ f64       ┆ u16          │\n",
      "╞══════╪═══════════════════════════════════╪═══════════╪══════════════╡\n",
      "│ user ┆ Hello, how can I help you?        ┆ 1.6925e9  ┆ 15           │\n",
      "│ user ┆ This is a longer message that sh… ┆ 1.6925e9  ┆ 21           │\n",
      "└──────┴───────────────────────────────────┴───────────┴──────────────┘\n"
     ]
    }
   ],
   "source": [
    "# Filter by feature and value\n",
    "filtered_messages = memory_thread.filter_col(feature=\"role\", filter=\"user\")\n",
    "print(filtered_messages)\n"
   ]
  },
  {
   "cell_type": "markdown",
   "metadata": {},
   "source": [
    "## 8. Load Conversation from a URL\n",
    "If you want to load a conversation from a URL, use the following method."
   ]
  },
  {
   "cell_type": "code",
   "execution_count": 2,
   "metadata": {},
   "outputs": [
    {
     "name": "stdout",
     "output_type": "stream",
     "text": [
      "Conversation loaded successfully\n"
     ]
    }
   ],
   "source": [
    "# Load conversation from a URL (replace with an actual URL)\n",
    "memory_thread = BaseThread(name=\"conversation1\", max_memory=5000)\n",
    "url = \"https://chat.openai.com/share/e8d4ef1c-399a-4c8e-b299-6e851e092236\"\n",
    "memory_thread.load_from_gpt_url(url)\n"
   ]
  },
  {
   "cell_type": "markdown",
   "metadata": {},
   "source": [
    "## 9. Display Entire Conversation\n",
    "You can view the entire conversation at any time."
   ]
  },
  {
   "cell_type": "code",
   "execution_count": 3,
   "metadata": {},
   "outputs": [
    {
     "name": "stdout",
     "output_type": "stream",
     "text": [
      "shape: (9, 4)\n",
      "┌───────────┬───────────────────────────────────┬───────────┬──────────────┐\n",
      "│ role      ┆ content                           ┆ timestamp ┆ tokens_count │\n",
      "│ ---       ┆ ---                               ┆ ---       ┆ ---          │\n",
      "│ str       ┆ str                               ┆ f64       ┆ u16          │\n",
      "╞═══════════╪═══════════════════════════════════╪═══════════╪══════════════╡\n",
      "│ assistant ┆ Apologies for the confusion. Giv… ┆ 1.6925e9  ┆ 427          │\n",
      "│ user      ┆ no, there are certainly entries … ┆ 1.6925e9  ┆ 24           │\n",
      "│ assistant ┆ It appears that the discrepancy … ┆ 1.6925e9  ┆ 316          │\n",
      "│ user      ┆ # Get messages with more than a … ┆ 1.6925e9  ┆ 78           │\n",
      "│ assistant ┆ Certainly! Below are a series of… ┆ 1.6925e9  ┆ 581          │\n",
      "│ user      ┆ Create a series of examples that… ┆ 1.6925e9  ┆ 24           │\n",
      "│ assistant ┆ The given code defines a class n… ┆ 1.6925e9  ┆ 565          │\n",
      "│ user      ┆ from time import time as now      ┆ 1.6925e9  ┆ 2672         │\n",
      "│           ┆ fro…                              ┆           ┆              │\n",
      "│ system    ┆ Original Custom Instructions no … ┆ null      ┆ 13           │\n",
      "└───────────┴───────────────────────────────────┴───────────┴──────────────┘\n"
     ]
    }
   ],
   "source": [
    "print(memory_thread.memory_thread)"
   ]
  },
  {
   "cell_type": "code",
   "execution_count": null,
   "metadata": {},
   "outputs": [],
   "source": []
  }
 ],
 "metadata": {
  "kernelspec": {
   "display_name": "venvfm",
   "language": "python",
   "name": "venv"
  },
  "language_info": {
   "codemirror_mode": {
    "name": "ipython",
    "version": 3
   },
   "file_extension": ".py",
   "mimetype": "text/x-python",
   "name": "python",
   "nbconvert_exporter": "python",
   "pygments_lexer": "ipython3",
   "version": "3.10.0"
  },
  "orig_nbformat": 4
 },
 "nbformat": 4,
 "nbformat_minor": 2
}
