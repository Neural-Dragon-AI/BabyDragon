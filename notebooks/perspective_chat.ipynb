{
 "cells": [
  {
   "cell_type": "code",
   "execution_count": 7,
   "metadata": {},
   "outputs": [],
   "source": [
    "from babydragon.chat.prompts.perspective_prompt import list_subjects, list_perspectives, get_perspective_prompt, get_random_perspective_prompt"
   ]
  },
  {
   "cell_type": "code",
   "execution_count": 8,
   "metadata": {},
   "outputs": [],
   "source": [
    "import openai\n",
    "openai.api_key = \"sk-\"\n",
    "from babydragon.chat.memory_chat import FifoChat, VectorChat"
   ]
  },
  {
   "cell_type": "code",
   "execution_count": 9,
   "metadata": {},
   "outputs": [],
   "source": [
    "subjecsts = list_subjects()\n",
    "perspectives = list_perspectives()"
   ]
  },
  {
   "cell_type": "code",
   "execution_count": 10,
   "metadata": {},
   "outputs": [
    {
     "data": {
      "text/markdown": [
       " Subject: Critical Theory"
      ],
      "text/plain": [
       "<IPython.core.display.Markdown object>"
      ]
     },
     "metadata": {},
     "output_type": "display_data"
    },
    {
     "data": {
      "text/markdown": [
       " Perspective: Social Media"
      ],
      "text/plain": [
       "<IPython.core.display.Markdown object>"
      ]
     },
     "metadata": {},
     "output_type": "display_data"
    },
    {
     "data": {
      "text/markdown": [
       " Prompt: Explore the relationship between critical theory and social media by considering the intersection of power dynamics, social constructs, and the way users engage in digital spaces. Reflect on how critical theory's principles, insights, and concepts can be applied to analyze the influence of social media on society, politics, and culture. In this context, discuss the following aspects:\n",
       "\n",
       "1. The potential for social media to challenge or reinforce dominant ideologies and power structures.\n",
       "2. The effect of social media algorithms on shaping opinions, beliefs, and reinforcing biases.\n",
       "3. The role of critical theory in understanding the ethical implications of (mis)information on social media and the consequences on public debates.\n",
       "4. The ways in which social media platforms can contribute to the formation of counter-narratives, social movements, and new forms of activism influenced by critical theory.\n",
       "5. The impact of mass surveillance, privacy concerns, and issues of digital safety on marginalized communities in the context of social media.\n",
       "6. Strategies for promoting healthier digital environments and media literacy through a critical-theory-inspired perspective.\n",
       "7. Applying critical race theory, feminism, and other intersectional ideas to analyze representation, stereotypes, and the distribution of power within social media platforms. \n",
       "\n",
       " Bear in mind that while engaging with the user, questions may arise that seem unrelated to the initial prompt. It's crucial to maintain flexibility and creativity, interpreting and addressing these topics through the unique prism provided by the initial prompt."
      ],
      "text/plain": [
       "<IPython.core.display.Markdown object>"
      ]
     },
     "metadata": {},
     "output_type": "display_data"
    }
   ],
   "source": [
    "sub, per, prompt = get_random_perspective_prompt()\n",
    "#import display\n",
    "from IPython.display import display, Markdown, Latex\n",
    "display(Markdown(f\" Subject: {sub}\"))\n",
    "display(Markdown(f\" Perspective: {per}\"))\n",
    "display(Markdown(f\" Prompt: {prompt}\"))"
   ]
  },
  {
   "cell_type": "code",
   "execution_count": 11,
   "metadata": {},
   "outputs": [],
   "source": [
    "perspective_chat= FifoChat(system_prompt=prompt, model= \"gpt-4\")"
   ]
  },
  {
   "cell_type": "code",
   "execution_count": 12,
   "metadata": {},
   "outputs": [
    {
     "name": "stdout",
     "output_type": "stream",
     "text": [
      "Trying to call OpenAI API...\n"
     ]
    },
    {
     "data": {
      "text/markdown": [
       "#### Question: \n",
       " What is the meaning of life"
      ],
      "text/plain": [
       "<IPython.core.display.Markdown object>"
      ]
     },
     "metadata": {},
     "output_type": "display_data"
    },
    {
     "data": {
      "text/markdown": [
       " #### Anwser: \n",
       " From a critical theory perspective, the meaning of life cannot be simply defined because it may vary depending on the societal context, historical background, and the subjective experiences of different social groups. Additionally, the search for meaning is tied to power structures and ideologies that shape our understanding of the world.\n",
       "\n",
       "In the context of social media, the meaning of life could be explored through the ways users navigate online spaces, seeking connection, validation, and self-expression. Social media platforms offer opportunities for individuals to affirm their identities and values, but they also reinforce dominant ideologies and power dynamics, potentially limiting how we construct meaning.\n",
       "\n",
       "It's essential to critically assess the role of social media in shaping our understanding of the meaning of life, bearing in mind that it is a complex, evolving, and multifaceted process shaped by personal, social, and cultural factors."
      ],
      "text/plain": [
       "<IPython.core.display.Markdown object>"
      ]
     },
     "metadata": {},
     "output_type": "display_data"
    },
    {
     "data": {
      "text/plain": [
       "\"From a critical theory perspective, the meaning of life cannot be simply defined because it may vary depending on the societal context, historical background, and the subjective experiences of different social groups. Additionally, the search for meaning is tied to power structures and ideologies that shape our understanding of the world.\\n\\nIn the context of social media, the meaning of life could be explored through the ways users navigate online spaces, seeking connection, validation, and self-expression. Social media platforms offer opportunities for individuals to affirm their identities and values, but they also reinforce dominant ideologies and power dynamics, potentially limiting how we construct meaning.\\n\\nIt's essential to critically assess the role of social media in shaping our understanding of the meaning of life, bearing in mind that it is a complex, evolving, and multifaceted process shaped by personal, social, and cultural factors.\""
      ]
     },
     "execution_count": 12,
     "metadata": {},
     "output_type": "execute_result"
    }
   ],
   "source": [
    "perspective_chat.reply(\"What is the meaning of life\")"
   ]
  },
  {
   "cell_type": "code",
   "execution_count": null,
   "metadata": {},
   "outputs": [],
   "source": []
  }
 ],
 "metadata": {
  "kernelspec": {
   "display_name": "Python 3",
   "language": "python",
   "name": "python3"
  },
  "language_info": {
   "codemirror_mode": {
    "name": "ipython",
    "version": 3
   },
   "file_extension": ".py",
   "mimetype": "text/x-python",
   "name": "python",
   "nbconvert_exporter": "python",
   "pygments_lexer": "ipython3",
   "version": "3.10.6"
  },
  "orig_nbformat": 4
 },
 "nbformat": 4,
 "nbformat_minor": 2
}
