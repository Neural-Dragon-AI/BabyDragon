{
 "cells": [
  {
   "cell_type": "code",
   "execution_count": null,
   "metadata": {},
   "outputs": [],
   "source": [
    "from babydragon.chat.memory_chat import FifoVectorChat\n",
    "from babydragon.oai_utils.utils import *\n",
    "from babydragon.core.vector_index import MemoryIndex\n",
    "from babydragon.pandas_integration.pandas_index import PandasIndex\n",
    "import gradio as gr\n",
    "import pandas as pd"
   ]
  },
  {
   "cell_type": "code",
   "execution_count": null,
   "metadata": {},
   "outputs": [],
   "source": [
    "import openai\n",
    "openai.api_key = \"\""
   ]
  },
  {
   "cell_type": "code",
   "execution_count": null,
   "metadata": {},
   "outputs": [],
   "source": [
    "class IndexChat(FifoVectorChat):\n",
    "    def __init__(self, indices, system_prompt=None, name='index_chat', max_context=4000, max_memory=2048, longterm_thread=None, longterm_frac=0.5):\n",
    "        super().__init__(system_prompt, name, max_memory, longterm_thread, longterm_frac)\n",
    "        self.indices = indices\n",
    "        self.max_context = max_context\n",
    "        self.current_index = None\n",
    "        self.prompt_func = self.index_memory_prompt\n",
    "        \n",
    "    def index_memory_prompt(self, question, k=10):\n",
    "        prompt = [mark_system(self.system_prompt)]\n",
    "\n",
    "        if len(self.longterm_thread.memory_thread) > 0 and self.longterm_thread.total_tokens <= self.max_longterm_memory:\n",
    "            prompt += self.longterm_thread.memory_thread\n",
    "        elif len(self.longterm_thread.memory_thread) > 0 and self.longterm_thread.total_tokens > self.max_longterm_memory:\n",
    "            prompt += self.longterm_thread.get_token_bound_prompt(question, k=k)\n",
    "\n",
    "        prompt += self.memory_thread\n",
    "        prompt += [mark_question(self.get_index_hints(question, k))]\n",
    "        return prompt, mark_question(question)\n",
    "\n",
    "    def get_index_hints(self, question, k=10):\n",
    "        hints = []\n",
    "        if self.current_index is not None:\n",
    "            index_instance = self.indices[self.current_index]\n",
    "            if isinstance(index_instance, PandasIndex) or isinstance(index_instance, MemoryIndex):\n",
    "                hints = index_instance.get_token_bound_hints(question, k, self.max_context)\n",
    "            else:\n",
    "                raise ValueError(\"The current index is not a valid index instance.\")  \n",
    "            hints_string = \"\\n\".join(hints)\n",
    "            hint_prompt = \"I am going to ask you a question and you should use the hints to answer it. The hints are:\\n{hints_string} . Remember that I can not see the hints, and you should answer without me realizing you are using the hints.\"\n",
    "            question_intro = \"The question is: {question}\"\n",
    "            return hint_prompt.format(hints_string=hints_string) + question_intro.format(question=question)\n",
    "        else:\n",
    "            return question\n",
    "\n",
    "    def set_current_index(self, index_name):\n",
    "        if index_name in self.indices:\n",
    "            self.current_index = index_name\n",
    "        elif index_name is None:\n",
    "            self.current_index = None\n",
    "        else:\n",
    "            raise ValueError(\"The provided index name is not available.\")\n",
    "    def reply_from_index(self,query, index_name):\n",
    "        self.set_current_index(index_name)\n",
    "        return self.reply(query)\n"
   ]
  },
  {
   "cell_type": "code",
   "execution_count": null,
   "metadata": {},
   "outputs": [],
   "source": [
    "#create a mathew colville index\n",
    "from babydragon.pandas_integration.pandas_index import PandasIndex\n",
    "df_mci = pd.read_csv(r\"C:\\Users\\Tommaso\\Documents\\Dev\\LangDND\\DndIndexes\\Indexes\\matthew_colville_index.csv\", converters={\"embeddings\": eval})\n",
    "mci = PandasIndex(df_mci, columns=[\"text\"], embeddings_col=\"embeddings\", name=\"matthew_colville_index\")"
   ]
  },
  {
   "cell_type": "code",
   "execution_count": null,
   "metadata": {},
   "outputs": [],
   "source": [
    "#create a srd index\n",
    "url = r\"C:\\Users\\Tommaso\\Documents\\Dev\\LangDND\\DndIndexes\\Indexes\\srd_index.csv\"\n",
    "df_srd = pd.read_csv(url, converters={\"embeddings\": eval})\n",
    "srdi = PandasIndex(df_srd, columns=[\"values\"], embeddings_col=\"embeddings\", name=\"srd_index\")"
   ]
  },
  {
   "cell_type": "code",
   "execution_count": null,
   "metadata": {},
   "outputs": [],
   "source": [
    "## create index dictionary \n",
    "indices = {\"matthew_colville_index\": mci, \"srd_index\": srdi}"
   ]
  },
  {
   "cell_type": "code",
   "execution_count": null,
   "metadata": {},
   "outputs": [],
   "source": [
    "ic = IndexChat(indices=indices)\n",
    "ic.max_context=500\n",
    "ic.max_memory=1400\n",
    "ic.max_output_tokens= 500"
   ]
  },
  {
   "cell_type": "code",
   "execution_count": null,
   "metadata": {},
   "outputs": [],
   "source": [
    "ic.set_current_index(\"matthew_colville_index\")"
   ]
  },
  {
   "cell_type": "code",
   "execution_count": null,
   "metadata": {},
   "outputs": [],
   "source": [
    "ic.set_current_index(\"srd_index\")"
   ]
  },
  {
   "cell_type": "code",
   "execution_count": null,
   "metadata": {},
   "outputs": [],
   "source": [
    "ic.gradio()"
   ]
  }
 ],
 "metadata": {
  "kernelspec": {
   "display_name": "Python 3",
   "language": "python",
   "name": "python3"
  },
  "language_info": {
   "codemirror_mode": {
    "name": "ipython",
    "version": 3
   },
   "file_extension": ".py",
   "mimetype": "text/x-python",
   "name": "python",
   "nbconvert_exporter": "python",
   "pygments_lexer": "ipython3",
   "version": "3.10.6"
  },
  "orig_nbformat": 4
 },
 "nbformat": 4,
 "nbformat_minor": 2
}
