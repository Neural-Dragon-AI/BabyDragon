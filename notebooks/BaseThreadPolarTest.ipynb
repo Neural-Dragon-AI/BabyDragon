{
 "cells": [
  {
   "cell_type": "code",
   "execution_count": 1,
   "id": "0f3c41cc",
   "metadata": {},
   "outputs": [],
   "source": [
    "from babydragon.memory.threads.base_thread import BaseThread"
   ]
  },
  {
   "cell_type": "code",
   "execution_count": 2,
   "id": "a35cb5bc",
   "metadata": {},
   "outputs": [],
   "source": [
    "memory = BaseThread()"
   ]
  },
  {
   "cell_type": "code",
   "execution_count": 3,
   "id": "0d8338b0",
   "metadata": {},
   "outputs": [
    {
     "data": {
      "text/html": [
       "<div><style>\n",
       ".dataframe > thead > tr > th,\n",
       ".dataframe > tbody > tr > td {\n",
       "  text-align: right;\n",
       "}\n",
       "</style>\n",
       "<small>shape: (0, 4)</small><table border=\"1\" class=\"dataframe\"><thead><tr><th>role</th><th>content</th><th>timestamp</th><th>tokens_count</th></tr><tr><td>str</td><td>str</td><td>f64</td><td>u16</td></tr></thead><tbody></tbody></table></div>"
      ],
      "text/plain": [
       "shape: (0, 4)\n",
       "┌──────┬─────────┬───────────┬──────────────┐\n",
       "│ role ┆ content ┆ timestamp ┆ tokens_count │\n",
       "│ ---  ┆ ---     ┆ ---       ┆ ---          │\n",
       "│ str  ┆ str     ┆ f64       ┆ u16          │\n",
       "╞══════╪═════════╪═══════════╪══════════════╡\n",
       "└──────┴─────────┴───────────┴──────────────┘"
      ]
     },
     "execution_count": 3,
     "metadata": {},
     "output_type": "execute_result"
    }
   ],
   "source": [
    "memory.memory_thread"
   ]
  },
  {
   "cell_type": "code",
   "execution_count": 4,
   "id": "14d308a5",
   "metadata": {},
   "outputs": [],
   "source": [
    "user_message = {\"role\": \"user\", \"content\": \"Spiegami come sfruttare appieno Polars\"}"
   ]
  },
  {
   "cell_type": "code",
   "execution_count": 5,
   "id": "aac59514",
   "metadata": {},
   "outputs": [],
   "source": [
    "gpt_message = {\"content\": \"Polars \\u00e8 una libreria di data science open source per Python che consente di analizzare e manipolare grandi quantit\\u00e0 di dati, in particolare i dati provenienti da file CSV, TSV, JSON e altri formati comunemente utilizzati.\\n\\nEcco come puoi sfruttare appieno Polars:\\n\\n1. Installa Polars: Prima di tutto, devi assicurarti di avere Polars installato sul tuo computer. Puoi farlo utilizzando il comando \\\"pip install polars\\\".\\n\\n2. Importa Polars: Quando si lavora con Polars, il primo passo \\u00e8 importare la libreria nel tuo script Python utilizzando il comando \\\"import polars\\\".\\n\\n3. Carica i dati: Polars consente di caricare i dati da file CSV, TSV, JSON e altri formati di file comuni. Utilizza il comando \\\"polars.read_csv\\\" per caricare un file CSV nel tuo script Python.\\n\\n4. Analisi dei dati: Polars consente di effettuare diverse operazioni di data analysis sui tuoi dati. Ad esempio, puoi utilizzare il comando \\\"df.describe()\\\" per ottenere una panoramica statistica dei tuoi dati.\\n\\n5. Manipolazione dei dati: Polars consente di manipolare i dati in vari modi. Ad esempio, puoi utilizzare il comando \\\"df.select()\\\" per selezionare solo le colonne che ti interessano e il comando \\\"df.filter()\\\" per filtrare i dati in base a determinate condizioni.\\n\\n6. Operazioni su pi\\u00f9 tabelle: Polars consente anche di effettuare operazioni su pi\\u00f9 tabelle. Ad esempio, puoi utilizzare il comando \\\"df.join()\\\" per unire pi\\u00f9 tabelle sulla base di una colonna comune.\\n\\n7. Visualizzazione dei dati: Polars consente di visualizzare i dati in vari formati, ad esempio attraverso grafici e tabelle. Utilizza il comando \\\"df.plot()\\\" per visualizzare i dati in un grafico.\\n\\nIn definitiva, Polars \\u00e8 una libreria potentissima per la manipolazione e l'analisi dei dati in Python. Utilizza questi suggerimenti per sfruttare appieno le sue funzionalit\\u00e0 e migliorare la tua capacit\\u00e0 di analizzare e comprendere i dati.\",\n",
    "        \"role\": \"assistant\"}"
   ]
  },
  {
   "cell_type": "code",
   "execution_count": 6,
   "id": "3a7b1480",
   "metadata": {},
   "outputs": [],
   "source": [
    "memory.add_dict_to_thread(user_message)"
   ]
  },
  {
   "cell_type": "code",
   "execution_count": 7,
   "id": "f6cba72a",
   "metadata": {},
   "outputs": [
    {
     "data": {
      "text/html": [
       "<div><style>\n",
       ".dataframe > thead > tr > th,\n",
       ".dataframe > tbody > tr > td {\n",
       "  text-align: right;\n",
       "}\n",
       "</style>\n",
       "<small>shape: (1, 4)</small><table border=\"1\" class=\"dataframe\"><thead><tr><th>role</th><th>content</th><th>timestamp</th><th>tokens_count</th></tr><tr><td>str</td><td>str</td><td>f64</td><td>u16</td></tr></thead><tbody><tr><td>&quot;user&quot;</td><td>&quot;Spiegami come …</td><td>1.6874e9</td><td>20</td></tr></tbody></table></div>"
      ],
      "text/plain": [
       "shape: (1, 4)\n",
       "┌──────┬───────────────────────────────────┬───────────┬──────────────┐\n",
       "│ role ┆ content                           ┆ timestamp ┆ tokens_count │\n",
       "│ ---  ┆ ---                               ┆ ---       ┆ ---          │\n",
       "│ str  ┆ str                               ┆ f64       ┆ u16          │\n",
       "╞══════╪═══════════════════════════════════╪═══════════╪══════════════╡\n",
       "│ user ┆ Spiegami come sfruttare appieno … ┆ 1.6874e9  ┆ 20           │\n",
       "└──────┴───────────────────────────────────┴───────────┴──────────────┘"
      ]
     },
     "execution_count": 7,
     "metadata": {},
     "output_type": "execute_result"
    }
   ],
   "source": [
    "memory.memory_thread"
   ]
  },
  {
   "cell_type": "code",
   "execution_count": 8,
   "id": "e2ed4512",
   "metadata": {},
   "outputs": [],
   "source": [
    "memory.add_dict_to_thread(gpt_message)"
   ]
  },
  {
   "cell_type": "code",
   "execution_count": 9,
   "id": "84a1a657",
   "metadata": {},
   "outputs": [
    {
     "data": {
      "text/html": [
       "<div><style>\n",
       ".dataframe > thead > tr > th,\n",
       ".dataframe > tbody > tr > td {\n",
       "  text-align: right;\n",
       "}\n",
       "</style>\n",
       "<small>shape: (2, 4)</small><table border=\"1\" class=\"dataframe\"><thead><tr><th>role</th><th>content</th><th>timestamp</th><th>tokens_count</th></tr><tr><td>str</td><td>str</td><td>f64</td><td>u16</td></tr></thead><tbody><tr><td>&quot;user&quot;</td><td>&quot;Spiegami come …</td><td>1.6874e9</td><td>20</td></tr><tr><td>&quot;assistant&quot;</td><td>&quot;Polars è una l…</td><td>1.6874e9</td><td>512</td></tr></tbody></table></div>"
      ],
      "text/plain": [
       "shape: (2, 4)\n",
       "┌───────────┬───────────────────────────────────┬───────────┬──────────────┐\n",
       "│ role      ┆ content                           ┆ timestamp ┆ tokens_count │\n",
       "│ ---       ┆ ---                               ┆ ---       ┆ ---          │\n",
       "│ str       ┆ str                               ┆ f64       ┆ u16          │\n",
       "╞═══════════╪═══════════════════════════════════╪═══════════╪══════════════╡\n",
       "│ user      ┆ Spiegami come sfruttare appieno … ┆ 1.6874e9  ┆ 20           │\n",
       "│ assistant ┆ Polars è una libreria di data sc… ┆ 1.6874e9  ┆ 512          │\n",
       "└───────────┴───────────────────────────────────┴───────────┴──────────────┘"
      ]
     },
     "execution_count": 9,
     "metadata": {},
     "output_type": "execute_result"
    }
   ],
   "source": [
    "memory.memory_thread"
   ]
  },
  {
   "cell_type": "code",
   "execution_count": 10,
   "id": "dbd4dbe2",
   "metadata": {},
   "outputs": [
    {
     "data": {
      "text/plain": [
       "2"
      ]
     },
     "execution_count": 10,
     "metadata": {},
     "output_type": "execute_result"
    }
   ],
   "source": [
    "len(memory.memory_thread)"
   ]
  },
  {
   "cell_type": "code",
   "execution_count": 11,
   "id": "2966df21",
   "metadata": {},
   "outputs": [
    {
     "data": {
      "text/plain": [
       "532"
      ]
     },
     "execution_count": 11,
     "metadata": {},
     "output_type": "execute_result"
    }
   ],
   "source": [
    "memory.get_total_tokens_from_thread()"
   ]
  },
  {
   "cell_type": "code",
   "execution_count": 12,
   "id": "420dbbf3",
   "metadata": {},
   "outputs": [
    {
     "data": {
      "text/html": [
       "<div><style>\n",
       ".dataframe > thead > tr > th,\n",
       ".dataframe > tbody > tr > td {\n",
       "  text-align: right;\n",
       "}\n",
       "</style>\n",
       "<small>shape: (1, 4)</small><table border=\"1\" class=\"dataframe\"><thead><tr><th>role</th><th>content</th><th>timestamp</th><th>tokens_count</th></tr><tr><td>str</td><td>str</td><td>f64</td><td>u16</td></tr></thead><tbody><tr><td>&quot;user&quot;</td><td>&quot;Spiegami come …</td><td>1.6874e9</td><td>20</td></tr></tbody></table></div>"
      ],
      "text/plain": [
       "shape: (1, 4)\n",
       "┌──────┬───────────────────────────────────┬───────────┬──────────────┐\n",
       "│ role ┆ content                           ┆ timestamp ┆ tokens_count │\n",
       "│ ---  ┆ ---                               ┆ ---       ┆ ---          │\n",
       "│ str  ┆ str                               ┆ f64       ┆ u16          │\n",
       "╞══════╪═══════════════════════════════════╪═══════════╪══════════════╡\n",
       "│ user ┆ Spiegami come sfruttare appieno … ┆ 1.6874e9  ┆ 20           │\n",
       "└──────┴───────────────────────────────────┴───────────┴──────────────┘"
      ]
     },
     "execution_count": 12,
     "metadata": {},
     "output_type": "execute_result"
    }
   ],
   "source": [
    "memory.find_role('user')"
   ]
  },
  {
   "cell_type": "code",
   "execution_count": 13,
   "id": "d635512f",
   "metadata": {},
   "outputs": [
    {
     "data": {
      "text/html": [
       "<div><style>\n",
       ".dataframe > thead > tr > th,\n",
       ".dataframe > tbody > tr > td {\n",
       "  text-align: right;\n",
       "}\n",
       "</style>\n",
       "<small>shape: (1, 4)</small><table border=\"1\" class=\"dataframe\"><thead><tr><th>role</th><th>content</th><th>timestamp</th><th>tokens_count</th></tr><tr><td>str</td><td>str</td><td>f64</td><td>u16</td></tr></thead><tbody><tr><td>&quot;assistant&quot;</td><td>&quot;Polars è una l…</td><td>1.6874e9</td><td>512</td></tr></tbody></table></div>"
      ],
      "text/plain": [
       "shape: (1, 4)\n",
       "┌───────────┬───────────────────────────────────┬───────────┬──────────────┐\n",
       "│ role      ┆ content                           ┆ timestamp ┆ tokens_count │\n",
       "│ ---       ┆ ---                               ┆ ---       ┆ ---          │\n",
       "│ str       ┆ str                               ┆ f64       ┆ u16          │\n",
       "╞═══════════╪═══════════════════════════════════╪═══════════╪══════════════╡\n",
       "│ assistant ┆ Polars è una libreria di data sc… ┆ 1.6874e9  ┆ 512          │\n",
       "└───────────┴───────────────────────────────────┴───────────┴──────────────┘"
      ]
     },
     "execution_count": 13,
     "metadata": {},
     "output_type": "execute_result"
    }
   ],
   "source": [
    "memory.last_message()"
   ]
  },
  {
   "cell_type": "code",
   "execution_count": 14,
   "id": "702a4984",
   "metadata": {},
   "outputs": [],
   "source": [
    "user_message_second = {\"role\": \"user\", \"content\": \"RIMUOVIMI\"}"
   ]
  },
  {
   "cell_type": "code",
   "execution_count": 15,
   "id": "c2650a4b",
   "metadata": {},
   "outputs": [],
   "source": [
    "memory.add_dict_to_thread(user_message_second)"
   ]
  },
  {
   "cell_type": "code",
   "execution_count": 16,
   "id": "3a7ea5ba",
   "metadata": {},
   "outputs": [
    {
     "name": "stdout",
     "output_type": "stream",
     "text": [
      "shape: (3, 4)\n",
      "┌───────────┬───────────────────────────────────┬───────────┬──────────────┐\n",
      "│ role      ┆ content                           ┆ timestamp ┆ tokens_count │\n",
      "│ ---       ┆ ---                               ┆ ---       ┆ ---          │\n",
      "│ str       ┆ str                               ┆ f64       ┆ u16          │\n",
      "╞═══════════╪═══════════════════════════════════╪═══════════╪══════════════╡\n",
      "│ user      ┆ Spiegami come sfruttare appieno … ┆ 1.6874e9  ┆ 20           │\n",
      "│ assistant ┆ Polars è una libreria di data sc… ┆ 1.6874e9  ┆ 512          │\n",
      "│ user      ┆ RIMUOVIMI                         ┆ 1.6874e9  ┆ 13           │\n",
      "└───────────┴───────────────────────────────────┴───────────┴──────────────┘\n"
     ]
    }
   ],
   "source": [
    "print(memory.memory_thread)"
   ]
  },
  {
   "cell_type": "code",
   "execution_count": 17,
   "id": "0e620127",
   "metadata": {},
   "outputs": [],
   "source": [
    "memory.remove_dict_from_thread(idx=2)"
   ]
  },
  {
   "cell_type": "code",
   "execution_count": 18,
   "id": "18468174",
   "metadata": {},
   "outputs": [
    {
     "name": "stdout",
     "output_type": "stream",
     "text": [
      "shape: (2, 4)\n",
      "┌───────────┬───────────────────────────────────┬───────────┬──────────────┐\n",
      "│ role      ┆ content                           ┆ timestamp ┆ tokens_count │\n",
      "│ ---       ┆ ---                               ┆ ---       ┆ ---          │\n",
      "│ str       ┆ str                               ┆ f64       ┆ u16          │\n",
      "╞═══════════╪═══════════════════════════════════╪═══════════╪══════════════╡\n",
      "│ user      ┆ Spiegami come sfruttare appieno … ┆ 1.6874e9  ┆ 20           │\n",
      "│ assistant ┆ Polars è una libreria di data sc… ┆ 1.6874e9  ┆ 512          │\n",
      "└───────────┴───────────────────────────────────┴───────────┴──────────────┘\n"
     ]
    }
   ],
   "source": [
    "print(memory.memory_thread)"
   ]
  },
  {
   "cell_type": "code",
   "execution_count": 19,
   "id": "ea8925f1",
   "metadata": {},
   "outputs": [],
   "source": [
    "memory.remove_dict_from_thread(user_message)"
   ]
  },
  {
   "cell_type": "code",
   "execution_count": 20,
   "id": "971bb705",
   "metadata": {},
   "outputs": [
    {
     "name": "stdout",
     "output_type": "stream",
     "text": [
      "shape: (1, 4)\n",
      "┌───────────┬───────────────────────────────────┬───────────┬──────────────┐\n",
      "│ role      ┆ content                           ┆ timestamp ┆ tokens_count │\n",
      "│ ---       ┆ ---                               ┆ ---       ┆ ---          │\n",
      "│ str       ┆ str                               ┆ f64       ┆ u16          │\n",
      "╞═══════════╪═══════════════════════════════════╪═══════════╪══════════════╡\n",
      "│ assistant ┆ Polars è una libreria di data sc… ┆ 1.6874e9  ┆ 512          │\n",
      "└───────────┴───────────────────────────────────┴───────────┴──────────────┘\n"
     ]
    }
   ],
   "source": [
    "print(memory.memory_thread)"
   ]
  },
  {
   "cell_type": "code",
   "execution_count": 21,
   "id": "3d819b78",
   "metadata": {},
   "outputs": [],
   "source": [
    "memory.add_dict_to_thread(user_message)\n",
    "memory.add_dict_to_thread(user_message_second)"
   ]
  },
  {
   "cell_type": "code",
   "execution_count": 22,
   "id": "53749078",
   "metadata": {},
   "outputs": [
    {
     "data": {
      "text/html": [
       "<div><style>\n",
       ".dataframe > thead > tr > th,\n",
       ".dataframe > tbody > tr > td {\n",
       "  text-align: right;\n",
       "}\n",
       "</style>\n",
       "<small>shape: (1, 4)</small><table border=\"1\" class=\"dataframe\"><thead><tr><th>role</th><th>content</th><th>timestamp</th><th>tokens_count</th></tr><tr><td>str</td><td>str</td><td>f64</td><td>u16</td></tr></thead><tbody><tr><td>&quot;user&quot;</td><td>&quot;Spiegami come …</td><td>1.6874e9</td><td>20</td></tr></tbody></table></div>"
      ],
      "text/plain": [
       "shape: (1, 4)\n",
       "┌──────┬───────────────────────────────────┬───────────┬──────────────┐\n",
       "│ role ┆ content                           ┆ timestamp ┆ tokens_count │\n",
       "│ ---  ┆ ---                               ┆ ---       ┆ ---          │\n",
       "│ str  ┆ str                               ┆ f64       ┆ u16          │\n",
       "╞══════╪═══════════════════════════════════╪═══════════╪══════════════╡\n",
       "│ user ┆ Spiegami come sfruttare appieno … ┆ 1.6874e9  ┆ 20           │\n",
       "└──────┴───────────────────────────────────┴───────────┴──────────────┘"
      ]
     },
     "execution_count": 22,
     "metadata": {},
     "output_type": "execute_result"
    }
   ],
   "source": [
    "memory.find_message(user_message)"
   ]
  },
  {
   "cell_type": "code",
   "execution_count": 28,
   "id": "32c36f21",
   "metadata": {},
   "outputs": [
    {
     "data": {
      "text/plain": [
       "(shape: (0,)\n",
       " Series: 'content' [str]\n",
       " [\n",
       " ],\n",
       " shape: (0,)\n",
       " Series: 'index' [u32]\n",
       " [\n",
       " ])"
      ]
     },
     "execution_count": 28,
     "metadata": {},
     "output_type": "execute_result"
    }
   ],
   "source": [
    "memory.token_bound_history(6)"
   ]
  }
 ],
 "metadata": {
  "kernelspec": {
   "display_name": "Python 3 (ipykernel)",
   "language": "python",
   "name": "python3"
  },
  "language_info": {
   "codemirror_mode": {
    "name": "ipython",
    "version": 3
   },
   "file_extension": ".py",
   "mimetype": "text/x-python",
   "name": "python",
   "nbconvert_exporter": "python",
   "pygments_lexer": "ipython3",
   "version": "3.11.3"
  }
 },
 "nbformat": 4,
 "nbformat_minor": 5
}
