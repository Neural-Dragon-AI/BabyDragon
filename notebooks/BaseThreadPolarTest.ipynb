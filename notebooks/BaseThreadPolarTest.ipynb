{
 "cells": [
  {
   "cell_type": "code",
   "execution_count": 1,
   "id": "0f3c41cc",
   "metadata": {},
   "outputs": [],
   "source": [
    "from babydragon.memory.threads.base_thread import BaseThread"
   ]
  },
  {
   "cell_type": "code",
   "execution_count": 2,
   "id": "a35cb5bc",
   "metadata": {},
   "outputs": [],
   "source": [
    "memory = BaseThread()"
   ]
  },
  {
   "cell_type": "code",
   "execution_count": 5,
   "id": "0d8338b0",
   "metadata": {},
   "outputs": [
    {
     "data": {
      "text/html": [
       "<div><style>\n",
       ".dataframe > thead > tr > th,\n",
       ".dataframe > tbody > tr > td {\n",
       "  text-align: right;\n",
       "}\n",
       "</style>\n",
       "<small>shape: (4, 4)</small><table border=\"1\" class=\"dataframe\"><thead><tr><th>role</th><th>content</th><th>timestamp</th><th>tokens_count</th></tr><tr><td>str</td><td>str</td><td>f64</td><td>u16</td></tr></thead><tbody><tr><td>&quot;assistant&quot;</td><td>&quot;Mi dispiace pe…</td><td>1.6875e9</td><td>129</td></tr><tr><td>&quot;user&quot;</td><td>&quot;puoi visitare …</td><td>1.6875e9</td><td>49</td></tr><tr><td>&quot;assistant&quot;</td><td>&quot;Ciao! Attualme…</td><td>1.6875e9</td><td>327</td></tr><tr><td>&quot;user&quot;</td><td>&quot;Ciao, ho espor…</td><td>1.6875e9</td><td>43</td></tr></tbody></table></div>"
      ],
      "text/plain": [
       "shape: (4, 4)\n",
       "┌───────────┬───────────────────────────────────┬───────────┬──────────────┐\n",
       "│ role      ┆ content                           ┆ timestamp ┆ tokens_count │\n",
       "│ ---       ┆ ---                               ┆ ---       ┆ ---          │\n",
       "│ str       ┆ str                               ┆ f64       ┆ u16          │\n",
       "╞═══════════╪═══════════════════════════════════╪═══════════╪══════════════╡\n",
       "│ assistant ┆ Mi dispiace per la confusione, m… ┆ 1.6875e9  ┆ 129          │\n",
       "│ user      ┆ puoi visitare questo link ? http… ┆ 1.6875e9  ┆ 49           │\n",
       "│ assistant ┆ Ciao! Attualmente OpenAI non for… ┆ 1.6875e9  ┆ 327          │\n",
       "│ user      ┆ Ciao, ho esportato una tua conve… ┆ 1.6875e9  ┆ 43           │\n",
       "└───────────┴───────────────────────────────────┴───────────┴──────────────┘"
      ]
     },
     "execution_count": 5,
     "metadata": {},
     "output_type": "execute_result"
    }
   ],
   "source": [
    "memory.memory_thread"
   ]
  },
  {
   "cell_type": "code",
   "execution_count": 4,
   "id": "14d308a5",
   "metadata": {},
   "outputs": [],
   "source": [
    "memory.load_from_gpt_link('https://chat.openai.com/share/87ab58dc-49d6-485d-9c71-056d282e6c2d')"
   ]
  },
  {
   "cell_type": "code",
   "execution_count": 5,
   "id": "aac59514",
   "metadata": {},
   "outputs": [],
   "source": [
    "gpt_message = {\"content\": \"Polars \\u00e8 una libreria di data science open source per Python che consente di analizzare e manipolare grandi quantit\\u00e0 di dati, in particolare i dati provenienti da file CSV, TSV, JSON e altri formati comunemente utilizzati.\\n\\nEcco come puoi sfruttare appieno Polars:\\n\\n1. Installa Polars: Prima di tutto, devi assicurarti di avere Polars installato sul tuo computer. Puoi farlo utilizzando il comando \\\"pip install polars\\\".\\n\\n2. Importa Polars: Quando si lavora con Polars, il primo passo \\u00e8 importare la libreria nel tuo script Python utilizzando il comando \\\"import polars\\\".\\n\\n3. Carica i dati: Polars consente di caricare i dati da file CSV, TSV, JSON e altri formati di file comuni. Utilizza il comando \\\"polars.read_csv\\\" per caricare un file CSV nel tuo script Python.\\n\\n4. Analisi dei dati: Polars consente di effettuare diverse operazioni di data analysis sui tuoi dati. Ad esempio, puoi utilizzare il comando \\\"df.describe()\\\" per ottenere una panoramica statistica dei tuoi dati.\\n\\n5. Manipolazione dei dati: Polars consente di manipolare i dati in vari modi. Ad esempio, puoi utilizzare il comando \\\"df.select()\\\" per selezionare solo le colonne che ti interessano e il comando \\\"df.filter()\\\" per filtrare i dati in base a determinate condizioni.\\n\\n6. Operazioni su pi\\u00f9 tabelle: Polars consente anche di effettuare operazioni su pi\\u00f9 tabelle. Ad esempio, puoi utilizzare il comando \\\"df.join()\\\" per unire pi\\u00f9 tabelle sulla base di una colonna comune.\\n\\n7. Visualizzazione dei dati: Polars consente di visualizzare i dati in vari formati, ad esempio attraverso grafici e tabelle. Utilizza il comando \\\"df.plot()\\\" per visualizzare i dati in un grafico.\\n\\nIn definitiva, Polars \\u00e8 una libreria potentissima per la manipolazione e l'analisi dei dati in Python. Utilizza questi suggerimenti per sfruttare appieno le sue funzionalit\\u00e0 e migliorare la tua capacit\\u00e0 di analizzare e comprendere i dati.\",\n",
    "        \"role\": \"assistant\"}"
   ]
  },
  {
   "cell_type": "code",
   "execution_count": 6,
   "id": "3a7b1480",
   "metadata": {},
   "outputs": [
    {
     "ename": "TypeError",
     "evalue": "must be real number, not function",
     "output_type": "error",
     "traceback": [
      "\u001b[0;31m---------------------------------------------------------------------------\u001b[0m",
      "\u001b[0;31mTypeError\u001b[0m                                 Traceback (most recent call last)",
      "Cell \u001b[0;32mIn[6], line 1\u001b[0m\n\u001b[0;32m----> 1\u001b[0m \u001b[43mmemory\u001b[49m\u001b[38;5;241;43m.\u001b[39;49m\u001b[43madd_dict_to_thread\u001b[49m\u001b[43m(\u001b[49m\u001b[43muser_message\u001b[49m\u001b[43m)\u001b[49m\n",
      "File \u001b[0;32m~/AI/BabyDragon/babydragon/memory/threads/base_thread.py:117\u001b[0m, in \u001b[0;36mBaseThread.add_dict_to_thread\u001b[0;34m(self, message_dict)\u001b[0m\n\u001b[1;32m    110\u001b[0m \u001b[38;5;28;01mdef\u001b[39;00m \u001b[38;5;21madd_dict_to_thread\u001b[39m(\u001b[38;5;28mself\u001b[39m, message_dict: \u001b[38;5;28mdict\u001b[39m) \u001b[38;5;241m-\u001b[39m\u001b[38;5;241m>\u001b[39m \u001b[38;5;28;01mNone\u001b[39;00m:\n\u001b[1;32m    111\u001b[0m \u001b[38;5;250m    \u001b[39m\u001b[38;5;124;03m\"\"\"\u001b[39;00m\n\u001b[1;32m    112\u001b[0m \u001b[38;5;124;03m    Add a message to the memory thread.\u001b[39;00m\n\u001b[1;32m    113\u001b[0m \n\u001b[1;32m    114\u001b[0m \u001b[38;5;124;03m    :param message_dict: A dictionary containing the role and content of the message.\u001b[39;00m\n\u001b[1;32m    115\u001b[0m \u001b[38;5;124;03m    \"\"\"\u001b[39;00m\n\u001b[0;32m--> 117\u001b[0m     new_message_row \u001b[38;5;241m=\u001b[39m \u001b[38;5;28;43mself\u001b[39;49m\u001b[38;5;241;43m.\u001b[39;49m\u001b[43mdict_to_row\u001b[49m\u001b[43m(\u001b[49m\u001b[43mmessage_dict\u001b[49m\u001b[43m)\u001b[49m\n\u001b[1;32m    119\u001b[0m     \u001b[38;5;28;01mif\u001b[39;00m (\n\u001b[1;32m    120\u001b[0m         \u001b[38;5;28mself\u001b[39m\u001b[38;5;241m.\u001b[39mmax_memory \u001b[38;5;129;01mis\u001b[39;00m \u001b[38;5;28;01mNone\u001b[39;00m\n\u001b[1;32m    121\u001b[0m         \u001b[38;5;129;01mor\u001b[39;00m \u001b[38;5;28mself\u001b[39m\u001b[38;5;241m.\u001b[39mtotal_tokens \u001b[38;5;241m+\u001b[39m new_message_row[\u001b[38;5;124m'\u001b[39m\u001b[38;5;124mtokens_count\u001b[39m\u001b[38;5;124m'\u001b[39m] \u001b[38;5;241m<\u001b[39m\u001b[38;5;241m=\u001b[39m \u001b[38;5;28mself\u001b[39m\u001b[38;5;241m.\u001b[39mmax_memory\n\u001b[1;32m    122\u001b[0m     ):\n\u001b[1;32m    123\u001b[0m         \u001b[38;5;28mself\u001b[39m\u001b[38;5;241m.\u001b[39mmemory_thread \u001b[38;5;241m=\u001b[39m pl\u001b[38;5;241m.\u001b[39mconcat([\u001b[38;5;28mself\u001b[39m\u001b[38;5;241m.\u001b[39mmemory_thread, new_message_row], rechunk\u001b[38;5;241m=\u001b[39m\u001b[38;5;28;01mTrue\u001b[39;00m)\n",
      "File \u001b[0;32m~/AI/BabyDragon/babydragon/memory/threads/base_thread.py:82\u001b[0m, in \u001b[0;36mBaseThread.dict_to_row\u001b[0;34m(self, message_dict)\u001b[0m\n\u001b[1;32m     81\u001b[0m \u001b[38;5;28;01mdef\u001b[39;00m \u001b[38;5;21mdict_to_row\u001b[39m(\u001b[38;5;28mself\u001b[39m, message_dict:Dict[\u001b[38;5;28mstr\u001b[39m,\u001b[38;5;28mstr\u001b[39m]) \u001b[38;5;241m-\u001b[39m\u001b[38;5;241m>\u001b[39m pl\u001b[38;5;241m.\u001b[39mDataFrame:\n\u001b[0;32m---> 82\u001b[0m     \u001b[38;5;28;01mreturn\u001b[39;00m \u001b[43mpl\u001b[49m\u001b[38;5;241;43m.\u001b[39;49m\u001b[43mDataFrame\u001b[49m\u001b[43m(\u001b[49m\u001b[43mschema\u001b[49m\u001b[38;5;241;43m=\u001b[39;49m\u001b[38;5;28;43mself\u001b[39;49m\u001b[38;5;241;43m.\u001b[39;49m\u001b[43mmemory_schema\u001b[49m\u001b[43m,\u001b[49m\n\u001b[1;32m     83\u001b[0m \u001b[43m                        \u001b[49m\u001b[43mdata\u001b[49m\u001b[38;5;241;43m=\u001b[39;49m\u001b[43m{\u001b[49m\u001b[43m \u001b[49m\u001b[38;5;124;43m\"\u001b[39;49m\u001b[38;5;124;43mrole\u001b[39;49m\u001b[38;5;124;43m\"\u001b[39;49m\u001b[43m:\u001b[49m\u001b[43m[\u001b[49m\u001b[43mmessage_dict\u001b[49m\u001b[43m[\u001b[49m\u001b[38;5;124;43m\"\u001b[39;49m\u001b[38;5;124;43mrole\u001b[39;49m\u001b[38;5;124;43m\"\u001b[39;49m\u001b[43m]\u001b[49m\u001b[43m]\u001b[49m\u001b[43m,\u001b[49m\n\u001b[1;32m     84\u001b[0m \u001b[43m                              \u001b[49m\u001b[38;5;124;43m\"\u001b[39;49m\u001b[38;5;124;43mcontent\u001b[39;49m\u001b[38;5;124;43m\"\u001b[39;49m\u001b[43m:\u001b[49m\u001b[43m[\u001b[49m\u001b[43mmessage_dict\u001b[49m\u001b[43m[\u001b[49m\u001b[38;5;124;43m\"\u001b[39;49m\u001b[38;5;124;43mcontent\u001b[39;49m\u001b[38;5;124;43m\"\u001b[39;49m\u001b[43m]\u001b[49m\u001b[43m]\u001b[49m\u001b[43m,\u001b[49m\n\u001b[1;32m     85\u001b[0m \u001b[43m                              \u001b[49m\u001b[38;5;124;43m\"\u001b[39;49m\u001b[38;5;124;43mtimestamp\u001b[39;49m\u001b[38;5;124;43m\"\u001b[39;49m\u001b[43m:\u001b[49m\u001b[43m \u001b[49m\u001b[38;5;28;43;01mlambda\u001b[39;49;00m\u001b[43m:\u001b[49m\u001b[43m \u001b[49m\u001b[43mmessage_dict\u001b[49m\u001b[43m[\u001b[49m\u001b[38;5;124;43m'\u001b[39;49m\u001b[38;5;124;43mtimestamp\u001b[39;49m\u001b[38;5;124;43m'\u001b[39;49m\u001b[43m]\u001b[49m\u001b[43m \u001b[49m\u001b[38;5;28;43;01mif\u001b[39;49;00m\u001b[43m \u001b[49m\u001b[38;5;124;43m'\u001b[39;49m\u001b[38;5;124;43mtimestamp\u001b[39;49m\u001b[38;5;124;43m'\u001b[39;49m\u001b[43m \u001b[49m\u001b[38;5;129;43;01min\u001b[39;49;00m\u001b[43m \u001b[49m\u001b[43mmessage_dict\u001b[49m\u001b[43m \u001b[49m\u001b[38;5;28;43;01melse\u001b[39;49;00m\u001b[43m \u001b[49m\u001b[43m[\u001b[49m\u001b[43mnow\u001b[49m\u001b[43m(\u001b[49m\u001b[43m)\u001b[49m\u001b[43m]\u001b[49m\u001b[43m,\u001b[49m\n\u001b[1;32m     86\u001b[0m \u001b[43m                              \u001b[49m\u001b[38;5;124;43m\"\u001b[39;49m\u001b[38;5;124;43mtokens_count\u001b[39;49m\u001b[38;5;124;43m\"\u001b[39;49m\u001b[43m:\u001b[49m\u001b[43m[\u001b[49m\u001b[38;5;28;43mlen\u001b[39;49m\u001b[43m(\u001b[49m\u001b[38;5;28;43mself\u001b[39;49m\u001b[38;5;241;43m.\u001b[39;49m\u001b[43mtokenizer\u001b[49m\u001b[38;5;241;43m.\u001b[39;49m\u001b[43mencode\u001b[49m\u001b[43m(\u001b[49m\u001b[43mmessage_dict\u001b[49m\u001b[43m[\u001b[49m\u001b[38;5;124;43m\"\u001b[39;49m\u001b[38;5;124;43mcontent\u001b[39;49m\u001b[38;5;124;43m\"\u001b[39;49m\u001b[43m]\u001b[49m\u001b[43m)\u001b[49m\u001b[43m)\u001b[49m\u001b[38;5;241;43m+\u001b[39;49m\u001b[38;5;241;43m7\u001b[39;49m\u001b[43m]\u001b[49m\n\u001b[1;32m     87\u001b[0m \u001b[43m                              \u001b[49m\u001b[43m}\u001b[49m\u001b[43m)\u001b[49m\n",
      "File \u001b[0;32m~/.virtualenvs/ai/lib/python3.11/site-packages/polars/dataframe/frame.py:361\u001b[0m, in \u001b[0;36mDataFrame.__init__\u001b[0;34m(self, data, schema, schema_overrides, orient, infer_schema_length, nan_to_null)\u001b[0m\n\u001b[1;32m    356\u001b[0m     \u001b[38;5;28mself\u001b[39m\u001b[38;5;241m.\u001b[39m_df \u001b[38;5;241m=\u001b[39m dict_to_pydf(\n\u001b[1;32m    357\u001b[0m         {}, schema\u001b[38;5;241m=\u001b[39mschema, schema_overrides\u001b[38;5;241m=\u001b[39mschema_overrides\n\u001b[1;32m    358\u001b[0m     )\n\u001b[1;32m    360\u001b[0m \u001b[38;5;28;01melif\u001b[39;00m \u001b[38;5;28misinstance\u001b[39m(data, \u001b[38;5;28mdict\u001b[39m):\n\u001b[0;32m--> 361\u001b[0m     \u001b[38;5;28mself\u001b[39m\u001b[38;5;241m.\u001b[39m_df \u001b[38;5;241m=\u001b[39m \u001b[43mdict_to_pydf\u001b[49m\u001b[43m(\u001b[49m\n\u001b[1;32m    362\u001b[0m \u001b[43m        \u001b[49m\u001b[43mdata\u001b[49m\u001b[43m,\u001b[49m\n\u001b[1;32m    363\u001b[0m \u001b[43m        \u001b[49m\u001b[43mschema\u001b[49m\u001b[38;5;241;43m=\u001b[39;49m\u001b[43mschema\u001b[49m\u001b[43m,\u001b[49m\n\u001b[1;32m    364\u001b[0m \u001b[43m        \u001b[49m\u001b[43mschema_overrides\u001b[49m\u001b[38;5;241;43m=\u001b[39;49m\u001b[43mschema_overrides\u001b[49m\u001b[43m,\u001b[49m\n\u001b[1;32m    365\u001b[0m \u001b[43m        \u001b[49m\u001b[43mnan_to_null\u001b[49m\u001b[38;5;241;43m=\u001b[39;49m\u001b[43mnan_to_null\u001b[49m\u001b[43m,\u001b[49m\n\u001b[1;32m    366\u001b[0m \u001b[43m    \u001b[49m\u001b[43m)\u001b[49m\n\u001b[1;32m    368\u001b[0m \u001b[38;5;28;01melif\u001b[39;00m \u001b[38;5;28misinstance\u001b[39m(data, (\u001b[38;5;28mlist\u001b[39m, \u001b[38;5;28mtuple\u001b[39m, Sequence)):\n\u001b[1;32m    369\u001b[0m     \u001b[38;5;28mself\u001b[39m\u001b[38;5;241m.\u001b[39m_df \u001b[38;5;241m=\u001b[39m sequence_to_pydf(\n\u001b[1;32m    370\u001b[0m         data,\n\u001b[1;32m    371\u001b[0m         schema\u001b[38;5;241m=\u001b[39mschema,\n\u001b[0;32m   (...)\u001b[0m\n\u001b[1;32m    374\u001b[0m         infer_schema_length\u001b[38;5;241m=\u001b[39minfer_schema_length,\n\u001b[1;32m    375\u001b[0m     )\n",
      "File \u001b[0;32m~/.virtualenvs/ai/lib/python3.11/site-packages/polars/utils/_construction.py:800\u001b[0m, in \u001b[0;36mdict_to_pydf\u001b[0;34m(data, schema, schema_overrides, nan_to_null)\u001b[0m\n\u001b[1;32m    791\u001b[0m     data_series \u001b[38;5;241m=\u001b[39m [\n\u001b[1;32m    792\u001b[0m         pl\u001b[38;5;241m.\u001b[39mSeries(\n\u001b[1;32m    793\u001b[0m             name, [], dtype\u001b[38;5;241m=\u001b[39mschema_overrides\u001b[38;5;241m.\u001b[39mget(name), nan_to_null\u001b[38;5;241m=\u001b[39mnan_to_null\n\u001b[1;32m    794\u001b[0m         )\u001b[38;5;241m.\u001b[39m_s\n\u001b[1;32m    795\u001b[0m         \u001b[38;5;28;01mfor\u001b[39;00m name \u001b[38;5;129;01min\u001b[39;00m column_names\n\u001b[1;32m    796\u001b[0m     ]\n\u001b[1;32m    797\u001b[0m \u001b[38;5;28;01melse\u001b[39;00m:\n\u001b[1;32m    798\u001b[0m     data_series \u001b[38;5;241m=\u001b[39m [\n\u001b[1;32m    799\u001b[0m         s\u001b[38;5;241m.\u001b[39m_s\n\u001b[0;32m--> 800\u001b[0m         \u001b[38;5;28;01mfor\u001b[39;00m s \u001b[38;5;129;01min\u001b[39;00m \u001b[43m_expand_dict_scalars\u001b[49m\u001b[43m(\u001b[49m\n\u001b[1;32m    801\u001b[0m \u001b[43m            \u001b[49m\u001b[43mdata\u001b[49m\u001b[43m,\u001b[49m\u001b[43m \u001b[49m\u001b[43mschema_overrides\u001b[49m\u001b[43m,\u001b[49m\u001b[43m \u001b[49m\u001b[43mnan_to_null\u001b[49m\u001b[38;5;241;43m=\u001b[39;49m\u001b[43mnan_to_null\u001b[49m\n\u001b[1;32m    802\u001b[0m \u001b[43m        \u001b[49m\u001b[43m)\u001b[49m\u001b[38;5;241m.\u001b[39mvalues()\n\u001b[1;32m    803\u001b[0m     ]\n\u001b[1;32m    805\u001b[0m data_series \u001b[38;5;241m=\u001b[39m _handle_columns_arg(data_series, columns\u001b[38;5;241m=\u001b[39mcolumn_names, from_dict\u001b[38;5;241m=\u001b[39m\u001b[38;5;28;01mTrue\u001b[39;00m)\n\u001b[1;32m    806\u001b[0m \u001b[38;5;28;01mreturn\u001b[39;00m PyDataFrame(data_series)\n",
      "File \u001b[0;32m~/.virtualenvs/ai/lib/python3.11/site-packages/polars/utils/_construction.py:719\u001b[0m, in \u001b[0;36m_expand_dict_scalars\u001b[0;34m(data, schema_overrides, order, nan_to_null)\u001b[0m\n\u001b[1;32m    715\u001b[0m             updated_data[name] \u001b[38;5;241m=\u001b[39m pl\u001b[38;5;241m.\u001b[39mSeries(\n\u001b[1;32m    716\u001b[0m                 name\u001b[38;5;241m=\u001b[39mname, values\u001b[38;5;241m=\u001b[39m[val], dtype\u001b[38;5;241m=\u001b[39mdtype\n\u001b[1;32m    717\u001b[0m             )\u001b[38;5;241m.\u001b[39mextend_constant(val, array_len \u001b[38;5;241m-\u001b[39m \u001b[38;5;241m1\u001b[39m)\n\u001b[1;32m    718\u001b[0m         \u001b[38;5;28;01melse\u001b[39;00m:\n\u001b[0;32m--> 719\u001b[0m             updated_data[name] \u001b[38;5;241m=\u001b[39m \u001b[43mpl\u001b[49m\u001b[38;5;241;43m.\u001b[39;49m\u001b[43mSeries\u001b[49m\u001b[43m(\u001b[49m\n\u001b[1;32m    720\u001b[0m \u001b[43m                \u001b[49m\u001b[43mname\u001b[49m\u001b[38;5;241;43m=\u001b[39;49m\u001b[43mname\u001b[49m\u001b[43m,\u001b[49m\u001b[43m \u001b[49m\u001b[43mvalues\u001b[49m\u001b[38;5;241;43m=\u001b[39;49m\u001b[43m[\u001b[49m\u001b[43mval\u001b[49m\u001b[43m]\u001b[49m\u001b[43m \u001b[49m\u001b[38;5;241;43m*\u001b[39;49m\u001b[43m \u001b[49m\u001b[43marray_len\u001b[49m\u001b[43m,\u001b[49m\u001b[43m \u001b[49m\u001b[43mdtype\u001b[49m\u001b[38;5;241;43m=\u001b[39;49m\u001b[43mdtype\u001b[49m\n\u001b[1;32m    721\u001b[0m \u001b[43m            \u001b[49m\u001b[43m)\u001b[49m\n\u001b[1;32m    723\u001b[0m \u001b[38;5;28;01melif\u001b[39;00m \u001b[38;5;28mall\u001b[39m((arrlen(val) \u001b[38;5;241m==\u001b[39m \u001b[38;5;241m0\u001b[39m) \u001b[38;5;28;01mfor\u001b[39;00m val \u001b[38;5;129;01min\u001b[39;00m data\u001b[38;5;241m.\u001b[39mvalues()):\n\u001b[1;32m    724\u001b[0m     \u001b[38;5;28;01mfor\u001b[39;00m name, val \u001b[38;5;129;01min\u001b[39;00m data\u001b[38;5;241m.\u001b[39mitems():\n",
      "File \u001b[0;32m~/.virtualenvs/ai/lib/python3.11/site-packages/polars/series/series.py:270\u001b[0m, in \u001b[0;36mSeries.__init__\u001b[0;34m(self, name, values, dtype, strict, nan_to_null, dtype_if_empty)\u001b[0m\n\u001b[1;32m    267\u001b[0m     \u001b[38;5;28mself\u001b[39m\u001b[38;5;241m.\u001b[39m_s \u001b[38;5;241m=\u001b[39m range_to_series(name, values, dtype\u001b[38;5;241m=\u001b[39mdtype)\u001b[38;5;241m.\u001b[39m_s\n\u001b[1;32m    269\u001b[0m \u001b[38;5;28;01melif\u001b[39;00m \u001b[38;5;28misinstance\u001b[39m(values, Sequence):\n\u001b[0;32m--> 270\u001b[0m     \u001b[38;5;28mself\u001b[39m\u001b[38;5;241m.\u001b[39m_s \u001b[38;5;241m=\u001b[39m \u001b[43msequence_to_pyseries\u001b[49m\u001b[43m(\u001b[49m\n\u001b[1;32m    271\u001b[0m \u001b[43m        \u001b[49m\u001b[43mname\u001b[49m\u001b[43m,\u001b[49m\n\u001b[1;32m    272\u001b[0m \u001b[43m        \u001b[49m\u001b[43mvalues\u001b[49m\u001b[43m,\u001b[49m\n\u001b[1;32m    273\u001b[0m \u001b[43m        \u001b[49m\u001b[43mdtype\u001b[49m\u001b[38;5;241;43m=\u001b[39;49m\u001b[43mdtype\u001b[49m\u001b[43m,\u001b[49m\n\u001b[1;32m    274\u001b[0m \u001b[43m        \u001b[49m\u001b[43mstrict\u001b[49m\u001b[38;5;241;43m=\u001b[39;49m\u001b[43mstrict\u001b[49m\u001b[43m,\u001b[49m\n\u001b[1;32m    275\u001b[0m \u001b[43m        \u001b[49m\u001b[43mdtype_if_empty\u001b[49m\u001b[38;5;241;43m=\u001b[39;49m\u001b[43mdtype_if_empty\u001b[49m\u001b[43m,\u001b[49m\n\u001b[1;32m    276\u001b[0m \u001b[43m        \u001b[49m\u001b[43mnan_to_null\u001b[49m\u001b[38;5;241;43m=\u001b[39;49m\u001b[43mnan_to_null\u001b[49m\u001b[43m,\u001b[49m\n\u001b[1;32m    277\u001b[0m \u001b[43m    \u001b[49m\u001b[43m)\u001b[49m\n\u001b[1;32m    278\u001b[0m \u001b[38;5;28;01melif\u001b[39;00m _check_for_numpy(values) \u001b[38;5;129;01mand\u001b[39;00m \u001b[38;5;28misinstance\u001b[39m(values, np\u001b[38;5;241m.\u001b[39mndarray):\n\u001b[1;32m    279\u001b[0m     \u001b[38;5;28mself\u001b[39m\u001b[38;5;241m.\u001b[39m_s \u001b[38;5;241m=\u001b[39m numpy_to_pyseries(name, values, strict, nan_to_null)\n",
      "File \u001b[0;32m~/.virtualenvs/ai/lib/python3.11/site-packages/polars/utils/_construction.py:402\u001b[0m, in \u001b[0;36msequence_to_pyseries\u001b[0;34m(name, values, dtype, strict, dtype_if_empty, nan_to_null)\u001b[0m\n\u001b[1;32m    395\u001b[0m \u001b[38;5;28;01mif\u001b[39;00m (\n\u001b[1;32m    396\u001b[0m     dtype \u001b[38;5;129;01mis\u001b[39;00m \u001b[38;5;129;01mnot\u001b[39;00m \u001b[38;5;28;01mNone\u001b[39;00m\n\u001b[1;32m    397\u001b[0m     \u001b[38;5;129;01mand\u001b[39;00m dtype \u001b[38;5;129;01mnot\u001b[39;00m \u001b[38;5;129;01min\u001b[39;00m (List, Struct, Unknown)\n\u001b[1;32m    398\u001b[0m     \u001b[38;5;129;01mand\u001b[39;00m is_polars_dtype(dtype)\n\u001b[1;32m    399\u001b[0m     \u001b[38;5;129;01mand\u001b[39;00m (python_dtype \u001b[38;5;129;01mis\u001b[39;00m \u001b[38;5;28;01mNone\u001b[39;00m)\n\u001b[1;32m    400\u001b[0m ):\n\u001b[1;32m    401\u001b[0m     constructor \u001b[38;5;241m=\u001b[39m polars_type_to_constructor(dtype)\n\u001b[0;32m--> 402\u001b[0m     pyseries \u001b[38;5;241m=\u001b[39m \u001b[43m_construct_series_with_fallbacks\u001b[49m\u001b[43m(\u001b[49m\n\u001b[1;32m    403\u001b[0m \u001b[43m        \u001b[49m\u001b[43mconstructor\u001b[49m\u001b[43m,\u001b[49m\u001b[43m \u001b[49m\u001b[43mname\u001b[49m\u001b[43m,\u001b[49m\u001b[43m \u001b[49m\u001b[43mvalues\u001b[49m\u001b[43m,\u001b[49m\u001b[43m \u001b[49m\u001b[43mdtype\u001b[49m\u001b[43m,\u001b[49m\u001b[43m \u001b[49m\u001b[43mstrict\u001b[49m\n\u001b[1;32m    404\u001b[0m \u001b[43m    \u001b[49m\u001b[43m)\u001b[49m\n\u001b[1;32m    405\u001b[0m     \u001b[38;5;28;01mif\u001b[39;00m dtype \u001b[38;5;129;01min\u001b[39;00m (Date, Datetime, Duration, Time, Categorical, Boolean):\n\u001b[1;32m    406\u001b[0m         \u001b[38;5;28;01mif\u001b[39;00m pyseries\u001b[38;5;241m.\u001b[39mdtype() \u001b[38;5;241m!=\u001b[39m dtype:\n",
      "File \u001b[0;32m~/.virtualenvs/ai/lib/python3.11/site-packages/polars/utils/_construction.py:341\u001b[0m, in \u001b[0;36m_construct_series_with_fallbacks\u001b[0;34m(constructor, name, values, target_dtype, strict)\u001b[0m\n\u001b[1;32m    339\u001b[0m     constructor \u001b[38;5;241m=\u001b[39m py_type_to_constructor(PyDecimal)\n\u001b[1;32m    340\u001b[0m \u001b[38;5;28;01melse\u001b[39;00m:\n\u001b[0;32m--> 341\u001b[0m     \u001b[38;5;28;01mraise\u001b[39;00m exc\n",
      "File \u001b[0;32m~/.virtualenvs/ai/lib/python3.11/site-packages/polars/utils/_construction.py:310\u001b[0m, in \u001b[0;36m_construct_series_with_fallbacks\u001b[0;34m(constructor, name, values, target_dtype, strict)\u001b[0m\n\u001b[1;32m    308\u001b[0m \u001b[38;5;28;01mwhile\u001b[39;00m \u001b[38;5;28;01mTrue\u001b[39;00m:\n\u001b[1;32m    309\u001b[0m     \u001b[38;5;28;01mtry\u001b[39;00m:\n\u001b[0;32m--> 310\u001b[0m         \u001b[38;5;28;01mreturn\u001b[39;00m \u001b[43mconstructor\u001b[49m\u001b[43m(\u001b[49m\u001b[43mname\u001b[49m\u001b[43m,\u001b[49m\u001b[43m \u001b[49m\u001b[43mvalues\u001b[49m\u001b[43m,\u001b[49m\u001b[43m \u001b[49m\u001b[43mstrict\u001b[49m\u001b[43m)\u001b[49m\n\u001b[1;32m    311\u001b[0m     \u001b[38;5;28;01mexcept\u001b[39;00m \u001b[38;5;167;01mTypeError\u001b[39;00m \u001b[38;5;28;01mas\u001b[39;00m exc:\n\u001b[1;32m    312\u001b[0m         str_exc \u001b[38;5;241m=\u001b[39m \u001b[38;5;28mstr\u001b[39m(exc)\n",
      "\u001b[0;31mTypeError\u001b[0m: must be real number, not function"
     ]
    }
   ],
   "source": [
    "memory.add_dict_to_thread(user_message)"
   ]
  },
  {
   "cell_type": "code",
   "execution_count": null,
   "id": "f6cba72a",
   "metadata": {},
   "outputs": [],
   "source": [
    "memory.memory_thread"
   ]
  },
  {
   "cell_type": "code",
   "execution_count": null,
   "id": "e2ed4512",
   "metadata": {},
   "outputs": [],
   "source": [
    "memory.add_dict_to_thread(gpt_message)"
   ]
  },
  {
   "cell_type": "code",
   "execution_count": null,
   "id": "84a1a657",
   "metadata": {},
   "outputs": [],
   "source": [
    "memory.select_col('content')"
   ]
  },
  {
   "cell_type": "code",
   "execution_count": null,
   "id": "dbd4dbe2",
   "metadata": {},
   "outputs": [],
   "source": [
    "memory.memory_thread[-2]"
   ]
  },
  {
   "cell_type": "code",
   "execution_count": null,
   "id": "1e618ef2",
   "metadata": {},
   "outputs": [],
   "source": [
    "memory.memory_thread"
   ]
  },
  {
   "cell_type": "code",
   "execution_count": null,
   "id": "77c4da74",
   "metadata": {},
   "outputs": [],
   "source": [
    "memory.save()"
   ]
  },
  {
   "cell_type": "code",
   "execution_count": null,
   "id": "14e62ba3",
   "metadata": {},
   "outputs": [],
   "source": [
    "memory.select_col(['role','content'])"
   ]
  },
  {
   "cell_type": "code",
   "execution_count": null,
   "id": "2966df21",
   "metadata": {},
   "outputs": [],
   "source": [
    "memory.get_total_tokens_from_thread()"
   ]
  },
  {
   "cell_type": "code",
   "execution_count": null,
   "id": "b84659c0",
   "metadata": {},
   "outputs": [],
   "source": [
    "memory.load()"
   ]
  },
  {
   "cell_type": "code",
   "execution_count": null,
   "id": "420dbbf3",
   "metadata": {},
   "outputs": [],
   "source": [
    "memory.find_role('user')"
   ]
  },
  {
   "cell_type": "code",
   "execution_count": null,
   "id": "d635512f",
   "metadata": {},
   "outputs": [],
   "source": [
    "memory.last_message()"
   ]
  },
  {
   "cell_type": "code",
   "execution_count": null,
   "id": "702a4984",
   "metadata": {},
   "outputs": [],
   "source": [
    "user_message_second = {\"role\": \"user\", \"content\": \"RIMUOVIMI\"}"
   ]
  },
  {
   "cell_type": "code",
   "execution_count": null,
   "id": "c2650a4b",
   "metadata": {},
   "outputs": [],
   "source": [
    "memory.add_dict_to_thread(user_message_second)"
   ]
  },
  {
   "cell_type": "code",
   "execution_count": null,
   "id": "3a7ea5ba",
   "metadata": {},
   "outputs": [],
   "source": [
    "print(memory.memory_thread)"
   ]
  },
  {
   "cell_type": "code",
   "execution_count": null,
   "id": "0e620127",
   "metadata": {},
   "outputs": [],
   "source": [
    "memory.remove_dict_from_thread(idx=2)"
   ]
  },
  {
   "cell_type": "code",
   "execution_count": null,
   "id": "18468174",
   "metadata": {},
   "outputs": [],
   "source": [
    "print(memory.memory_thread)"
   ]
  },
  {
   "cell_type": "code",
   "execution_count": null,
   "id": "ea8925f1",
   "metadata": {},
   "outputs": [],
   "source": [
    "memory.remove_dict_from_thread(user_message)"
   ]
  },
  {
   "cell_type": "code",
   "execution_count": null,
   "id": "971bb705",
   "metadata": {},
   "outputs": [],
   "source": [
    "print(memory.memory_thread)"
   ]
  },
  {
   "cell_type": "code",
   "execution_count": null,
   "id": "3d819b78",
   "metadata": {},
   "outputs": [],
   "source": [
    "memory.add_dict_to_thread(user_message)\n",
    "memory.add_dict_to_thread(user_message_second)"
   ]
  },
  {
   "cell_type": "code",
   "execution_count": null,
   "id": "53749078",
   "metadata": {},
   "outputs": [],
   "source": [
    "memory.find_message(user_message)"
   ]
  },
  {
   "cell_type": "code",
   "execution_count": null,
   "id": "9bffcf23",
   "metadata": {},
   "outputs": [],
   "source": [
    "memory.memory_thread.with_row_count(\"index\")"
   ]
  },
  {
   "cell_type": "code",
   "execution_count": null,
   "id": "32c36f21",
   "metadata": {},
   "outputs": [],
   "source": [
    "memory.memory_thread.with_row_count(\"index\").reverse().with_columns(pl.col(\"tokens_count\").cumsum().alias(\"cum_tokens_count\"))"
   ]
  },
  {
   "cell_type": "code",
   "execution_count": null,
   "id": "2a72cc89",
   "metadata": {},
   "outputs": [],
   "source": [
    "memory.token_bound_history(545)"
   ]
  }
 ],
 "metadata": {
  "kernelspec": {
   "display_name": "Python 3 (ipykernel)",
   "language": "python",
   "name": "python3"
  },
  "language_info": {
   "codemirror_mode": {
    "name": "ipython",
    "version": 3
   },
   "file_extension": ".py",
   "mimetype": "text/x-python",
   "name": "python",
   "nbconvert_exporter": "python",
   "pygments_lexer": "ipython3",
   "version": "3.11.3"
  }
 },
 "nbformat": 4,
 "nbformat_minor": 5
}
