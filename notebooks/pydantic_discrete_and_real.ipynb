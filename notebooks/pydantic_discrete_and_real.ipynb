{
 "cells": [
  {
   "cell_type": "code",
   "execution_count": 1,
   "metadata": {},
   "outputs": [],
   "source": [
    "from pydantic import BaseModel, Field, field_validator\n",
    "from typing import Union, List, Optional, Dict\n",
    "import datetime\n",
    "import uuid\n",
    "import tiktoken\n",
    "tokenizer = tiktoken.encoding_for_model(\"gpt-3.5-turbo\")\n",
    "\n",
    "\n",
    "# Base class for all bd_types\n",
    "class BDType(BaseModel):\n",
    "    source: str = Field(\"babydragon\", description=\"The source of the data.\")\n",
    "    timestamp: Optional[datetime.datetime] = Field(None, description=\"When the data was collected or created. If not provided, the current time is used.\")\n",
    "    id: uuid.UUID = Field(default_factory=uuid.uuid4, description=\"Unique identifier of the data.\")\n",
    "    data_name: Optional[str] = Field(None, description=\"Name of the data.\")\n",
    "    elements_name: Optional[List[str]] = Field(None, description=\"Names of the elements if the data is a list.\")\n",
    "\n",
    "    @field_validator(\"timestamp\")\n",
    "    def set_timestamp(cls, v):\n",
    "        return v or datetime.datetime.now()\n",
    "\n",
    "    @field_validator(\"id\")\n",
    "    def set_id(cls, values, **kwargs):\n",
    "        if \"id\" not in values:\n",
    "            values[\"id\"] = uuid.uuid4()\n",
    "        return values\n",
    "\n",
    "\n",
    "class NaturalLanguageSingle(BDType):\n",
    "    text: str = Field(..., description=\"The natural language text. It should be less than or equal to `max_tokens` in length when tokenized.\")\n",
    "    max_tokens: int = Field(8000, description=\"The maximum allowed length of the text in tokens. The default value is 8000.\")\n",
    "    \n",
    "    @field_validator(\"text\")\n",
    "    def validate_text(cls, v, info):\n",
    "        try:\n",
    "            # Tokenize the text and get the token count\n",
    "            token_count = len(tokenizer.encode(v))\n",
    "        except Exception as e:\n",
    "            raise ValueError(\"Failed to tokenize text.\") from e\n",
    "\n",
    "        # Get max_tokens from info.data, if not available, default to 8000\n",
    "        max_tokens = info.data.get(\"max_tokens\", 8000)\n",
    "\n",
    "        if token_count > max_tokens:\n",
    "            raise ValueError(f\"Text is longer than {max_tokens} tokens.\")\n",
    "\n",
    "        return v\n",
    "\n",
    "\n",
    "class NaturalLanguageList(BDType):\n",
    "    texts: List[NaturalLanguageSingle] = Field(..., description=\"A list of `NaturalLanguageSingle` objects. Each object should pass the validation requirements of the `NaturalLanguageSingle` class.\")\n",
    "\n"
   ]
  },
  {
   "cell_type": "code",
   "execution_count": 2,
   "metadata": {},
   "outputs": [],
   "source": [
    "from pydantic import BaseModel, Field, FieldValidationInfo, field_validator\n",
    "from typing import List, Optional, Set\n",
    "\n",
    "class DiscreteDataInt(BDType):\n",
    "    alphabet: Optional[Set[int]] = Field(None, description=\"Set of allowed discrete variables. All elements should be integers.\")\n",
    "    value: int = Field(..., description=\"The discrete data value. It should be an integer.\")\n",
    "\n",
    "    @field_validator('alphabet')\n",
    "    def check_alphabet(cls, v):\n",
    "        if not all(isinstance(item, int) for item in v):\n",
    "            raise ValueError(\"All elements in 'alphabet' should be integers.\")\n",
    "        return v\n",
    "\n",
    "    @field_validator('value')\n",
    "    def check_value(cls, v, info: FieldValidationInfo):\n",
    "        alphabet = info.data.get('alphabet')\n",
    "        if alphabet is not None and v not in alphabet:\n",
    "            raise ValueError(\"Value must be in the alphabet.\")\n",
    "        return v\n",
    "\n",
    "\n",
    "class DiscreteDataStr(BDType):\n",
    "    alphabet: Optional[Set[str]] = Field(None, description=\"Set of allowed discrete variables. All elements should be strings.\")\n",
    "    value: str = Field(..., description=\"The discrete data value. It should be a string.\")\n",
    "\n",
    "    @field_validator('alphabet')\n",
    "    def check_alphabet(cls, v):\n",
    "        if not all(isinstance(item, str) for item in v):\n",
    "            raise ValueError(\"All elements in 'alphabet' should be strings.\")\n",
    "        return v\n",
    "\n",
    "    @field_validator('value')\n",
    "    def check_value(cls, v, info: FieldValidationInfo):\n",
    "        alphabet = info.data.get('alphabet')\n",
    "        if alphabet is not None and v not in alphabet:\n",
    "            raise ValueError(\"Value must be in the alphabet.\")\n",
    "        return v\n"
   ]
  },
  {
   "cell_type": "code",
   "execution_count": 3,
   "metadata": {},
   "outputs": [
    {
     "name": "stdout",
     "output_type": "stream",
     "text": [
      "1 validation error for DiscreteDataStr\n",
      "value\n",
      "  Value error, Value must be in the alphabet. [type=value_error, input_value='d', input_type=str]\n",
      "    For further information visit https://errors.pydantic.dev/2.1.2/v/value_error\n",
      "1 validation error for DiscreteDataInt\n",
      "value\n",
      "  Value error, Value must be in the alphabet. [type=value_error, input_value=4, input_type=int]\n",
      "    For further information visit https://errors.pydantic.dev/2.1.2/v/value_error\n"
     ]
    }
   ],
   "source": [
    "alphabet = [\"a\", \"b\", \"c\"]\n",
    "data = DiscreteDataStr(value=\"c\", alphabet=alphabet)\n",
    "#now with try except for out of alphabet\n",
    "try:\n",
    "    data = DiscreteDataStr(value=\"d\", alphabet=alphabet)\n",
    "except Exception as e:\n",
    "    print(e)\n",
    "int_alphabet = [1, 2, 3]\n",
    "int_data = DiscreteDataInt(value=2, alphabet=int_alphabet)\n",
    "#now with try except for out of alphabet\n",
    "try:\n",
    "    int_data = DiscreteDataInt(value=4, alphabet=int_alphabet)\n",
    "except Exception as e:\n",
    "    print(e)"
   ]
  },
  {
   "cell_type": "code",
   "execution_count": 4,
   "metadata": {},
   "outputs": [],
   "source": [
    "from pydantic import BaseModel, Field, FieldValidationInfo, field_validator\n",
    "from typing import List, Optional, Union, Set\n",
    "\n",
    "# The DiscreteDataInt and DiscreteDataStr models are defined as before\n",
    "\n",
    "class DiscreteDataList(BaseModel):\n",
    "    alphabet: Optional[Set[Union[int, str]]] = Field(None, description=\"Set of allowed discrete variables. All elements should be of the same type (either integers or strings).\")\n",
    "    value: List[Union[DiscreteDataInt, DiscreteDataStr]] = Field(..., description=\"The list of discrete data values. All elements should be either DiscreteDataInt or DiscreteDataStr, not a mix.\")\n",
    "\n",
    "    @field_validator('value')\n",
    "    def check_alphabets(cls, value, info: FieldValidationInfo):\n",
    "        list_alphabet = info.data.get('alphabet')\n",
    "        if list_alphabet is not None:\n",
    "            for item in value:\n",
    "                item_alphabet = item.alphabet\n",
    "                if item_alphabet is not None and not set(item_alphabet).issubset(list_alphabet):\n",
    "                    raise ValueError(f\"Item alphabet {item_alphabet} is not a subset of the list alphabet {list_alphabet}.\")\n",
    "        return value\n"
   ]
  },
  {
   "cell_type": "code",
   "execution_count": 5,
   "metadata": {},
   "outputs": [
    {
     "name": "stdout",
     "output_type": "stream",
     "text": [
      "1 validation error for DiscreteDataList\n",
      "value\n",
      "  Value error, Item alphabet {'d'} is not a subset of the list alphabet {'a', 'c', 'b'}. [type=value_error, input_value=[DiscreteDataStr(source='...habet={'d'}, value='d')], input_type=list]\n",
      "    For further information visit https://errors.pydantic.dev/2.1.2/v/value_error\n"
     ]
    }
   ],
   "source": [
    "# Usage:\n",
    "alphabet = [\"a\", \"b\", \"c\"]\n",
    "alphabet_2 = [\"d\"]\n",
    "data_items = [\n",
    "        DiscreteDataStr(value=\"a\", alphabet=alphabet),\n",
    "        DiscreteDataStr(value=\"b\", alphabet=alphabet),\n",
    "    ]\n",
    "data_list = DiscreteDataList(value=data_items, alphabet=alphabet)\n",
    "data_items_wrong = [\n",
    "        DiscreteDataStr(value=\"a\", alphabet=alphabet),\n",
    "        DiscreteDataStr(value=\"b\", alphabet=alphabet),\n",
    "        DiscreteDataStr(value=\"d\", alphabet=alphabet_2),\n",
    "    ]\n",
    "try:\n",
    "    \n",
    "    data_list = DiscreteDataList(value=data_items_wrong, alphabet=alphabet)\n",
    "except Exception as e:\n",
    "    print(e)"
   ]
  },
  {
   "cell_type": "code",
   "execution_count": 6,
   "metadata": {},
   "outputs": [],
   "source": [
    "class MultiDimensionalDiscrete(BDType):\n",
    "    value: List[Union[DiscreteDataInt, DiscreteDataStr]] = Field(..., description=\"The multidimensional discrete data value. It should be a list of either DiscreteDataInt or DiscreteDataStr.\")\n",
    "    type_dictionary: Dict[int, str] = Field(default_factory=dict, description=\"The helper dictionary containing the type of each dimension of the value list.\")\n",
    "    def __init__(self, **data):\n",
    "        super().__init__(**data)\n",
    "        self.type_dictionary = {i: item.__class__.__name__ for i, item in enumerate(self.value)}\n",
    "        \n",
    "    @field_validator('value')\n",
    "    def check_value(cls, value):\n",
    "        if len(value) < 2:\n",
    "            raise ValueError(\"For multidimensional discrete data, size of the list should be at least 2. For less than 2, use DiscreteDataInt or DiscreteDataStr.\")\n",
    "        return value\n",
    "\n",
    "    "
   ]
  },
  {
   "cell_type": "code",
   "execution_count": 7,
   "metadata": {},
   "outputs": [
    {
     "name": "stdout",
     "output_type": "stream",
     "text": [
      "source='babydragon' timestamp=None id=UUID('9b78b111-bee7-407a-8a95-c9ae9ff6d98d') data_name=None elements_name=None value=[DiscreteDataInt(source='babydragon', timestamp=None, id=UUID('d07daa29-e2f0-4f5d-95a3-fc1428190e50'), data_name=None, elements_name=None, alphabet=None, value=1), DiscreteDataInt(source='babydragon', timestamp=None, id=UUID('bef822ba-f658-4bf9-bdd6-eaff82f3887d'), data_name=None, elements_name=None, alphabet=None, value=2)] type_dictionary={0: 'DiscreteDataInt', 1: 'DiscreteDataInt'}\n",
      "source='babydragon' timestamp=None id=UUID('f223e2ba-c45e-4708-8e22-fc8f0e6ad46b') data_name=None elements_name=None value=[DiscreteDataInt(source='babydragon', timestamp=None, id=UUID('d07daa29-e2f0-4f5d-95a3-fc1428190e50'), data_name=None, elements_name=None, alphabet=None, value=1), DiscreteDataStr(source='babydragon', timestamp=None, id=UUID('27612c45-69a5-429a-9e78-6fd0a6e8a809'), data_name=None, elements_name=None, alphabet=None, value='a')] type_dictionary={0: 'DiscreteDataInt', 1: 'DiscreteDataStr'}\n",
      "Caught an expected error: 1 validation error for MultiDimensionalDiscrete\n",
      "value\n",
      "  Value error, For multidimensional discrete data, size of the list should be at least 2. For less than 2, use DiscreteDataInt or DiscreteDataStr. [type=value_error, input_value=[DiscreteDataInt(source='...alphabet=None, value=1)], input_type=list]\n",
      "    For further information visit https://errors.pydantic.dev/2.1.2/v/value_error\n"
     ]
    }
   ],
   "source": [
    "# Create some examples\n",
    "discrete_int_1 = DiscreteDataInt(value=1)\n",
    "discrete_int_2 = DiscreteDataInt(value=2)\n",
    "discrete_str_1 = DiscreteDataStr(value=\"a\")\n",
    "\n",
    "# This should work (two DiscreteDataInt)\n",
    "multi_dim_discrete_1 = MultiDimensionalDiscrete(value=[discrete_int_1, discrete_int_2])\n",
    "print(multi_dim_discrete_1)\n",
    "\n",
    "# This should work too (one DiscreteDataInt and one DiscreteDataStr)\n",
    "multi_dim_discrete_2 = MultiDimensionalDiscrete(value=[discrete_int_1, discrete_str_1])\n",
    "print(multi_dim_discrete_2)\n",
    "\n",
    "# This should raise a ValueError (only one DiscreteDataInt)\n",
    "try:\n",
    "    multi_dim_discrete_3 = MultiDimensionalDiscrete(value=[discrete_int_1])\n",
    "except ValueError as e:\n",
    "    print(f\"Caught an expected error: {e}\")\n"
   ]
  },
  {
   "cell_type": "code",
   "execution_count": 8,
   "metadata": {},
   "outputs": [],
   "source": [
    "from pydantic import BaseModel, Field, field_validator\n",
    "from typing import List, Optional, Union, Tuple, Any, Set\n",
    "\n",
    "class MultiDimensionalDiscreteList(BDType):\n",
    "    values: List[MultiDimensionalDiscrete] = Field(..., description=\"The list of multidimensional discrete data values. All elements should be instances of MultiDimensionalDiscrete.\")\n",
    "    joint_alphabet: Optional[Set[Tuple[Any, ...]]] = Field(None, description=\"Set of tuples representing allowed discrete variable combinations. All elements should be tuples of the same length as the number of dimensions in each joint discrete variable.\")\n",
    "\n",
    "    @field_validator('values')\n",
    "    def check_type_dictionaries(cls, values):\n",
    "        first_type_dictionary = values[0].type_dictionary\n",
    "        for value in values[1:]:\n",
    "            if value.type_dictionary != first_type_dictionary:\n",
    "                raise ValueError(\"All elements in 'values' should have the same 'type_dictionary'.\")\n",
    "        return values\n",
    "\n",
    "    @field_validator('joint_alphabet')\n",
    "    def check_joint_alphabet(cls, v, info):\n",
    "        if v is not None and \"values\" in info.data:\n",
    "            expected_tuple_length = len(info.data[\"values\"][0].value)\n",
    "            for item in v:\n",
    "                if not isinstance(item, tuple) or len(item) != expected_tuple_length:\n",
    "                    raise ValueError(f\"Each element in 'joint_alphabet' should be a tuple of length {expected_tuple_length}.\")\n",
    "                for dim_value, dim_alphabet in zip(item, [value.alphabet for value in info.data[\"values\"][0].value]):\n",
    "                    if dim_alphabet is not None and dim_value not in dim_alphabet:\n",
    "                        raise ValueError(f\"Value {dim_value} is not in the alphabet for its dimension.\")\n",
    "        return v\n"
   ]
  },
  {
   "cell_type": "code",
   "execution_count": 9,
   "metadata": {},
   "outputs": [],
   "source": [
    "discrete_int1 = DiscreteDataInt(alphabet=[0, 1, 2, 3, 4], value=2)\n",
    "discrete_int2 = DiscreteDataInt(alphabet=[0, 1, 2, 3, 4], value=3)\n",
    "discrete_str1 = DiscreteDataStr(alphabet=['a', 'b', 'c', 'd'], value='b')\n"
   ]
  },
  {
   "cell_type": "code",
   "execution_count": 10,
   "metadata": {},
   "outputs": [
    {
     "name": "stdout",
     "output_type": "stream",
     "text": [
      "{\"source\":\"babydragon\",\"timestamp\":null,\"id\":\"46113d80-b664-43c7-8784-4eac154de569\",\"data_name\":null,\"elements_name\":null,\"value\":[{\"source\":\"babydragon\",\"timestamp\":null,\"id\":\"9d4840a5-28b8-4a2b-9a65-1186225e44df\",\"data_name\":null,\"elements_name\":null,\"alphabet\":[0,1,2,3,4],\"value\":2},{\"source\":\"babydragon\",\"timestamp\":null,\"id\":\"a979058a-2d2b-4710-9de7-aee584d38ce1\",\"data_name\":null,\"elements_name\":null,\"alphabet\":[\"d\",\"a\",\"c\",\"b\"],\"value\":\"b\"}],\"type_dictionary\":{\"0\":\"DiscreteDataInt\",\"1\":\"DiscreteDataStr\"}}\n",
      "{\"source\":\"babydragon\",\"timestamp\":null,\"id\":\"4bf17151-445c-4c35-b7df-183136cacd9a\",\"data_name\":null,\"elements_name\":null,\"values\":[{\"source\":\"babydragon\",\"timestamp\":null,\"id\":\"46113d80-b664-43c7-8784-4eac154de569\",\"data_name\":null,\"elements_name\":null,\"value\":[{\"source\":\"babydragon\",\"timestamp\":null,\"id\":\"9d4840a5-28b8-4a2b-9a65-1186225e44df\",\"data_name\":null,\"elements_name\":null,\"alphabet\":[0,1,2,3,4],\"value\":2},{\"source\":\"babydragon\",\"timestamp\":null,\"id\":\"a979058a-2d2b-4710-9de7-aee584d38ce1\",\"data_name\":null,\"elements_name\":null,\"alphabet\":[\"d\",\"a\",\"c\",\"b\"],\"value\":\"b\"}],\"type_dictionary\":{\"0\":\"DiscreteDataInt\",\"1\":\"DiscreteDataStr\"}},{\"source\":\"babydragon\",\"timestamp\":null,\"id\":\"0e3c59a0-d07c-4f93-8784-b2d0b4a2f072\",\"data_name\":null,\"elements_name\":null,\"value\":[{\"source\":\"babydragon\",\"timestamp\":null,\"id\":\"484b5046-8fc7-4622-96e7-013eda5ac2b8\",\"data_name\":null,\"elements_name\":null,\"alphabet\":[0,1,2,3,4],\"value\":3},{\"source\":\"babydragon\",\"timestamp\":null,\"id\":\"a979058a-2d2b-4710-9de7-aee584d38ce1\",\"data_name\":null,\"elements_name\":null,\"alphabet\":[\"d\",\"a\",\"c\",\"b\"],\"value\":\"b\"}],\"type_dictionary\":{\"0\":\"DiscreteDataInt\",\"1\":\"DiscreteDataStr\"}}],\"joint_alphabet\":[[2,\"b\"],[3,\"b\"]]}\n"
     ]
    }
   ],
   "source": [
    "multi_dim_discrete1 = MultiDimensionalDiscrete(value=[discrete_int1, discrete_str1])\n",
    "print(multi_dim_discrete1.model_dump_json())\n",
    "\n",
    "multi_dim_discrete2 = MultiDimensionalDiscrete(value=[discrete_int2, discrete_str1])\n",
    "multi_dim_list = MultiDimensionalDiscreteList(values=[multi_dim_discrete1, multi_dim_discrete2], joint_alphabet=[(2, 'b'), (3, 'b')])\n",
    "print(multi_dim_list.model_dump_json())\n"
   ]
  },
  {
   "cell_type": "code",
   "execution_count": 11,
   "metadata": {},
   "outputs": [
    {
     "name": "stdout",
     "output_type": "stream",
     "text": [
      "1 validation error for MultiDimensionalDiscreteList\n",
      "joint_alphabet\n",
      "  Value error, Value 5 is not in the alphabet for its dimension. [type=value_error, input_value=[(5, 'b'), (3, 'b')], input_type=list]\n",
      "    For further information visit https://errors.pydantic.dev/2.1.2/v/value_error\n"
     ]
    }
   ],
   "source": [
    "try:\n",
    "    multi_dim_list_error = MultiDimensionalDiscreteList(values=[multi_dim_discrete1, multi_dim_discrete2], joint_alphabet=[(5, 'b'), (3, 'b')])\n",
    "except ValueError as e:\n",
    "    print(e)\n"
   ]
  },
  {
   "cell_type": "code",
   "execution_count": 12,
   "metadata": {},
   "outputs": [
    {
     "name": "stdout",
     "output_type": "stream",
     "text": [
      "{0: 'DiscreteDataInt', 1: 'DiscreteDataInt'}\n",
      "1 validation error for MultiDimensionalDiscreteList\n",
      "values\n",
      "  Value error, All elements in 'values' should have the same 'type_dictionary'. [type=value_error, input_value=[MultiDimensionalDiscrete... 1: 'DiscreteDataInt'})], input_type=list]\n",
      "    For further information visit https://errors.pydantic.dev/2.1.2/v/value_error\n"
     ]
    }
   ],
   "source": [
    "try:\n",
    "    discrete_int3 = DiscreteDataInt(alphabet=[0, 1, 2, 3, 4], value=4)\n",
    "    multi_dim_discrete_error = MultiDimensionalDiscrete(value=[discrete_int2, discrete_int3])\n",
    "    print(multi_dim_discrete_error.type_dictionary)\n",
    "    multi_dim_list_error = MultiDimensionalDiscreteList(values=[multi_dim_discrete1, multi_dim_discrete_error])\n",
    "except ValueError as e:\n",
    "    print(e)\n"
   ]
  },
  {
   "cell_type": "code",
   "execution_count": 30,
   "metadata": {},
   "outputs": [],
   "source": [
    "from pydantic import BaseModel, Field, FieldValidationInfo, field_validator\n",
    "from typing import Union, Optional, Tuple\n",
    "\n",
    "class RealData(BDType):\n",
    "    range: Optional[Tuple[Union[float, int], Union[float, int]]] = Field(None, description=\"An optional inclusive range (min, max) for the value.\")\n",
    "    value: Union[float, int] = Field(..., description=\"The real value data. It should be a float or an integer.\")\n",
    "\n",
    "    @field_validator(\"value\")\n",
    "    def validate_value(cls, v, values):\n",
    "        value_range = values.data[\"range\"]\n",
    "        if value_range is not None:\n",
    "            min_value, max_value = value_range\n",
    "            if not min_value <= v <= max_value:\n",
    "                raise ValueError(f\"Value {v} is not within the specified range {value_range}.\")\n",
    "        return v\n"
   ]
  },
  {
   "cell_type": "code",
   "execution_count": 31,
   "metadata": {},
   "outputs": [
    {
     "name": "stdout",
     "output_type": "stream",
     "text": [
      "1 validation error for RealData\n",
      "value\n",
      "  Value error, Value 3.5 is not within the specified range (0, 3). [type=value_error, input_value=3.5, input_type=float]\n",
      "    For further information visit https://errors.pydantic.dev/2.1.2/v/value_error\n"
     ]
    }
   ],
   "source": [
    "realdata = RealData(value=3.5, range=(0, 5))\n",
    "try:\n",
    "    realdata = RealData(value=3.5, range=(0, 3))\n",
    "except ValueError as e:\n",
    "    print(e)"
   ]
  },
  {
   "cell_type": "code",
   "execution_count": 34,
   "metadata": {},
   "outputs": [],
   "source": [
    "from pydantic import BaseModel, Field, FieldValidationInfo, field_validator\n",
    "from typing import List, Union, Optional, Tuple\n",
    "\n",
    "class RealDataList(BDType):\n",
    "    range: Optional[Tuple[Union[float, int], Union[float, int]]] = Field(None, description=\"An optional inclusive range (min, max) for the values.\")\n",
    "    values: List[RealData] = Field(..., description=\"The list of real value data. Each should be a RealeData object.\")\n",
    "\n",
    "    @field_validator(\"values\")\n",
    "    def validate_values(cls, values, values_dict):\n",
    "        list_range = values_dict.data.get(\"range\")\n",
    "        if list_range is not None:\n",
    "            min_value, max_value = list_range\n",
    "            for value in values:\n",
    "                if not min_value <= value.value <= max_value:\n",
    "                    raise ValueError(f\"Value {value.value} of RealData object is not within the specified range {list_range}.\")\n",
    "        return values\n"
   ]
  },
  {
   "cell_type": "code",
   "execution_count": 35,
   "metadata": {},
   "outputs": [],
   "source": [
    "raw_data= list(range(10))\n",
    "list_realdata = [RealData(value=value, range=(0, 5)) for value in raw_data[0:5]]\n",
    "range_for_list = (0, 5)\n",
    "realdata_list = RealDataList(values=list_realdata, range=range_for_list)\n",
    "\n"
   ]
  },
  {
   "cell_type": "code",
   "execution_count": 39,
   "metadata": {},
   "outputs": [
    {
     "name": "stdout",
     "output_type": "stream",
     "text": [
      "1 validation error for RealDataList\n",
      "values\n",
      "  Value error, Value 6 of RealData object is not within the specified range (0, 5). [type=value_error, input_value=[RealData(source='babydra...range=(5, 10), value=9)], input_type=list]\n",
      "    For further information visit https://errors.pydantic.dev/2.1.2/v/value_error\n"
     ]
    }
   ],
   "source": [
    "out_of_range_list = [RealData(value=value, range=(5, 10)) for value in raw_data[5:10]]\n",
    "try:\n",
    "    realdata_list = RealDataList(values=out_of_range_list, range=range_for_list)\n",
    "except ValueError as e:\n",
    "    print(e)"
   ]
  },
  {
   "cell_type": "code",
   "execution_count": 54,
   "metadata": {},
   "outputs": [],
   "source": [
    "from pydantic import BaseModel, Field, FieldValidationInfo, field_validator\n",
    "from typing import List, Union, Optional, Tuple\n",
    "\n",
    "class MultiDimensionalReal(BDType):\n",
    "    range: Optional[Union[Tuple[Union[float, int], Union[float, int]], List[Tuple[Union[float, int], Union[float, int]]]]]\n",
    "    values: List[RealData]\n",
    "\n",
    "    @field_validator(\"values\")\n",
    "    def validate_values(cls, values, values_dict):\n",
    "        range_values = values_dict.data.get(\"range\")\n",
    "        if range_values is not None:\n",
    "            # If range is a tuple, apply it to all dimensions\n",
    "            if isinstance(range_values, tuple):\n",
    "                min_value, max_value = range_values\n",
    "                for value in values:\n",
    "                    if not min_value <= value.value <= max_value:\n",
    "                        raise ValueError(f\"Value {value.value} of RealData object is not within the specified range {range_values}.\")\n",
    "            # If range is a list, it must have the same length as values\n",
    "            elif isinstance(range_values, list):\n",
    "                if len(values) != len(range_values):\n",
    "                    raise ValueError(\"If range is a list, it must have the same length as values.\")\n",
    "                for value, (min_value, max_value) in zip(values, range_values):\n",
    "                    if not min_value <= value.value <= max_value:\n",
    "                        raise ValueError(f\"Value {value.value} of RealData object is not within the specified range ({min_value}, {max_value}).\")\n",
    "        return values\n"
   ]
  },
  {
   "cell_type": "code",
   "execution_count": 55,
   "metadata": {},
   "outputs": [],
   "source": [
    "data = MultiDimensionalReal(\n",
    "        range=[(0.0, 10.0), (20.0, 30.0)], \n",
    "        values=[RealData(value=5.0), RealData(value=25.0)]\n",
    "    )"
   ]
  },
  {
   "cell_type": "code",
   "execution_count": 57,
   "metadata": {},
   "outputs": [],
   "source": [
    "data = MultiDimensionalReal(\n",
    "        range=(0.0, 30.0), \n",
    "        values=[RealData(value=5.0), RealData(value=25.0)]\n",
    "    )"
   ]
  },
  {
   "cell_type": "code",
   "execution_count": 58,
   "metadata": {},
   "outputs": [
    {
     "name": "stdout",
     "output_type": "stream",
     "text": [
      "Validation error: 1 validation error for MultiDimensionalReal\n",
      "values\n",
      "  Value error, Value 15.0 of RealData object is not within the specified range (20.0, 30.0). [type=value_error, input_value=[RealData(source='babydra...range=None, value=15.0)], input_type=list]\n",
      "    For further information visit https://errors.pydantic.dev/2.1.2/v/value_error\n",
      "Validation error: 1 validation error for MultiDimensionalReal\n",
      "values\n",
      "  Value error, Value 15.0 of RealData object is not within the specified range (0.0, 10.0). [type=value_error, input_value=[RealData(source='babydra...range=None, value=15.0)], input_type=list]\n",
      "    For further information visit https://errors.pydantic.dev/2.1.2/v/value_error\n"
     ]
    }
   ],
   "source": [
    "try:\n",
    "    data = MultiDimensionalReal(\n",
    "        range=[(0.0, 10.0), (20.0, 30.0)], \n",
    "        values=[RealData(value=5.0), RealData(value=15.0)]\n",
    "    )\n",
    "except ValueError as e:\n",
    "    print(f\"Validation error: {e}\")\n",
    "\n",
    "try:\n",
    "    data = MultiDimensionalReal(\n",
    "        range=(0.0, 10.0), \n",
    "        values=[RealData(value=5.0), RealData(value=15.0)]\n",
    "    )\n",
    "except ValueError as e:\n",
    "    print(f\"Validation error: {e}\")"
   ]
  },
  {
   "cell_type": "code",
   "execution_count": 59,
   "metadata": {},
   "outputs": [],
   "source": [
    "from pydantic import BaseModel, Field, FieldValidationInfo, field_validator\n",
    "from typing import List, Union, Optional, Tuple\n",
    "\n",
    "class MultiDimensionalRealList(BDType):\n",
    "    range: Optional[Union[Tuple[Union[float, int], Union[float, int]], List[Tuple[Union[float, int], Union[float, int]]]]]\n",
    "    values: List[MultiDimensionalReal]\n",
    "\n",
    "    @field_validator(\"values\")\n",
    "    def validate_values(cls, values, values_dict):\n",
    "        range_values = values_dict.data.get(\"range\")\n",
    "        dimension_length = len(values[0].values) if values else 0\n",
    "        if range_values is not None:\n",
    "            # If range is a tuple, apply it to all dimensions\n",
    "            if isinstance(range_values, tuple):\n",
    "                min_value, max_value = range_values\n",
    "                for multi_real in values:\n",
    "                    if len(multi_real.values) != dimension_length:\n",
    "                        raise ValueError(\"All MultiDimensionalReal in the list must have the same length.\")\n",
    "                    for value in multi_real.values:\n",
    "                        if not min_value <= value.value <= max_value:\n",
    "                            raise ValueError(f\"Value {value.value} of RealData object is not within the specified range {range_values}.\")\n",
    "            # If range is a list, it must have the same length as values in each dimension\n",
    "            elif isinstance(range_values, list):\n",
    "                if len(range_values) != dimension_length:\n",
    "                    raise ValueError(\"If range is a list, it must have the same length as values in each dimension.\")\n",
    "                for multi_real in values:\n",
    "                    if len(multi_real.values) != dimension_length:\n",
    "                        raise ValueError(\"All MultiDimensionalReal in the list must have the same length.\")\n",
    "                    for value, (min_value, max_value) in zip(multi_real.values, range_values):\n",
    "                        if not min_value <= value.value <= max_value:\n",
    "                            raise ValueError(f\"Value {value.value} of RealData object is not within the specified range ({min_value}, {max_value}).\")\n",
    "        return values\n"
   ]
  },
  {
   "cell_type": "code",
   "execution_count": 60,
   "metadata": {},
   "outputs": [
    {
     "name": "stdout",
     "output_type": "stream",
     "text": [
      "Successfully created MultiDimensionalRealList: source='babydragon' timestamp=None id=UUID('bab75d15-298b-4889-aa79-a2ffc6f863cc') data_name=None elements_name=None range=(0.0, 10.0) values=[MultiDimensionalReal(source='babydragon', timestamp=None, id=UUID('26f45aa0-4b4d-478f-bf97-cc84535a3f54'), data_name=None, elements_name=None, range=(0.0, 10.0), values=[RealData(source='babydragon', timestamp=None, id=UUID('c31a74c1-14f3-45d5-b94c-19bfd5011b87'), data_name=None, elements_name=None, range=None, value=2.0), RealData(source='babydragon', timestamp=None, id=UUID('771a73fd-7ca3-40de-93ef-6c2b9df615e9'), data_name=None, elements_name=None, range=None, value=8.0)]), MultiDimensionalReal(source='babydragon', timestamp=None, id=UUID('203054cb-39e1-440a-9d8a-c46516f7299b'), data_name=None, elements_name=None, range=(0.0, 10.0), values=[RealData(source='babydragon', timestamp=None, id=UUID('38adc6cc-91ef-40a9-acdc-eb5f7a649bd2'), data_name=None, elements_name=None, range=None, value=3.0), RealData(source='babydragon', timestamp=None, id=UUID('1f932efe-44be-446c-8318-432b7a9ac199'), data_name=None, elements_name=None, range=None, value=7.0)])]\n",
      "1 validation error for MultiDimensionalReal\n",
      "values\n",
      "  Value error, Value 15.0 of RealData object is not within the specified range (0.0, 10.0). [type=value_error, input_value=[RealData(source='babydra...range=None, value=15.0)], input_type=list]\n",
      "    For further information visit https://errors.pydantic.dev/2.1.2/v/value_error\n",
      "1 validation error for MultiDimensionalRealList\n",
      "values\n",
      "  Value error, All MultiDimensionalReal in the list must have the same length. [type=value_error, input_value=[MultiDimensionalReal(sou...ange=None, value=7.0)])], input_type=list]\n",
      "    For further information visit https://errors.pydantic.dev/2.1.2/v/value_error\n"
     ]
    }
   ],
   "source": [
    "from pydantic import ValidationError\n",
    "\n",
    "data1 = MultiDimensionalReal(\n",
    "    range=(0.0, 10.0),\n",
    "    values=[RealData(value=2.0), RealData(value=8.0)]\n",
    ")\n",
    "\n",
    "data2 = MultiDimensionalReal(\n",
    "    range=(0.0, 10.0),\n",
    "    values=[RealData(value=3.0), RealData(value=7.0)]\n",
    ")\n",
    "\n",
    "list_data = MultiDimensionalRealList(\n",
    "    range=(0.0, 10.0),\n",
    "    values=[data1, data2]\n",
    ")\n",
    "\n",
    "print(\"Successfully created MultiDimensionalRealList:\", list_data)\n",
    "\n",
    "# Error during creation of MultiDimensionalRealList due to value out of range\n",
    "try:\n",
    "    data1 = MultiDimensionalReal(\n",
    "        range=(0.0, 10.0),\n",
    "        values=[RealData(value=2.0), RealData(value=8.0)]\n",
    "    )\n",
    "\n",
    "    data2 = MultiDimensionalReal(\n",
    "        range=(0.0, 10.0),\n",
    "        values=[RealData(value=3.0), RealData(value=15.0)]  # This value is out of range\n",
    "    )\n",
    "\n",
    "    list_data = MultiDimensionalRealList(\n",
    "        range=(0.0, 10.0),\n",
    "        values=[data1, data2]\n",
    "    )\n",
    "\n",
    "    print(\"Successfully created MultiDimensionalRealList:\", list_data)\n",
    "except ValidationError as e:\n",
    "    print(str(e))\n",
    "\n",
    "# Error during creation of MultiDimensionalRealList due to inconsistent dimensions\n",
    "try:\n",
    "    data1 = MultiDimensionalReal(\n",
    "        range=(0.0, 10.0),\n",
    "        values=[RealData(value=2.0), RealData(value=8.0), RealData(value=5.0)]  # This data has three dimensions\n",
    "    )\n",
    "\n",
    "    data2 = MultiDimensionalReal(\n",
    "        range=(0.0, 10.0),\n",
    "        values=[RealData(value=3.0), RealData(value=7.0)]  # This data has two dimensions\n",
    "    )\n",
    "\n",
    "    list_data = MultiDimensionalRealList(\n",
    "        range=(0.0, 10.0),\n",
    "        values=[data1, data2]\n",
    "    )\n",
    "\n",
    "    print(\"Successfully created MultiDimensionalRealList:\", list_data)\n",
    "except ValidationError as e:\n",
    "    print(str(e))\n"
   ]
  },
  {
   "cell_type": "code",
   "execution_count": null,
   "metadata": {},
   "outputs": [],
   "source": []
  }
 ],
 "metadata": {
  "kernelspec": {
   "display_name": "Python 3",
   "language": "python",
   "name": "python3"
  },
  "language_info": {
   "codemirror_mode": {
    "name": "ipython",
    "version": 3
   },
   "file_extension": ".py",
   "mimetype": "text/x-python",
   "name": "python",
   "nbconvert_exporter": "python",
   "pygments_lexer": "ipython3",
   "version": "3.10.6"
  },
  "orig_nbformat": 4
 },
 "nbformat": 4,
 "nbformat_minor": 2
}
